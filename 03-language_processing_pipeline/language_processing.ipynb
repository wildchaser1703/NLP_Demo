{
 "cells": [
  {
   "cell_type": "code",
   "execution_count": 34,
   "id": "72154038",
   "metadata": {},
   "outputs": [],
   "source": [
    "import spacy\n",
    "from spacy import displacy\n",
    "from IPython.display import display"
   ]
  },
  {
   "cell_type": "code",
   "execution_count": 35,
   "id": "0fd0ed8f",
   "metadata": {},
   "outputs": [
    {
     "name": "stdout",
     "output_type": "stream",
     "text": [
      "Wonder\n",
      "Woman\n",
      "ate\n",
      "a\n",
      "bunch\n",
      "of\n",
      "doughnuts\n",
      ",\n",
      "hah\n",
      "!\n",
      "Good\n",
      "for\n",
      "her\n",
      ",\n",
      "Captain\n",
      "Marvel\n",
      "remarked\n",
      ".\n"
     ]
    }
   ],
   "source": [
    "nlp = spacy.blank(\"en\")\n",
    "doc = nlp(\"Wonder Woman ate a bunch of doughnuts, hah! Good for her, Captain Marvel remarked.\")\n",
    "for token in doc:\n",
    "    print(token)"
   ]
  },
  {
   "cell_type": "code",
   "execution_count": 36,
   "id": "713e45e4",
   "metadata": {},
   "outputs": [],
   "source": [
    "nlp = spacy.load(\"en_core_web_sm\")"
   ]
  },
  {
   "cell_type": "code",
   "execution_count": 37,
   "id": "46fe0386",
   "metadata": {},
   "outputs": [
    {
     "data": {
      "text/plain": [
       "['tok2vec', 'tagger', 'parser', 'attribute_ruler', 'lemmatizer', 'ner']"
      ]
     },
     "execution_count": 37,
     "metadata": {},
     "output_type": "execute_result"
    }
   ],
   "source": [
    "nlp.pipe_names"
   ]
  },
  {
   "cell_type": "code",
   "execution_count": 38,
   "id": "f52be30a",
   "metadata": {},
   "outputs": [
    {
     "data": {
      "text/plain": [
       "[('tok2vec', <spacy.pipeline.tok2vec.Tok2Vec at 0x10fc96d50>),\n",
       " ('tagger', <spacy.pipeline.tagger.Tagger at 0x10fc972f0>),\n",
       " ('parser', <spacy.pipeline.dep_parser.DependencyParser at 0x110e649e0>),\n",
       " ('attribute_ruler',\n",
       "  <spacy.pipeline.attributeruler.AttributeRuler at 0x10fef7490>),\n",
       " ('lemmatizer', <spacy.lang.en.lemmatizer.EnglishLemmatizer at 0x10e76f950>),\n",
       " ('ner', <spacy.pipeline.ner.EntityRecognizer at 0x110e64900>)]"
      ]
     },
     "execution_count": 38,
     "metadata": {},
     "output_type": "execute_result"
    }
   ],
   "source": [
    "nlp.pipeline"
   ]
  },
  {
   "cell_type": "markdown",
   "id": "800ea267",
   "metadata": {},
   "source": [
    "### Parts of Language Processing Pipeline"
   ]
  },
  {
   "cell_type": "markdown",
   "id": "d4551a0c",
   "metadata": {},
   "source": [
    "Pipeline consists of:\n",
    "1. Tagger\n",
    "2. Parser\n",
    "3. NER\n",
    "and other components..."
   ]
  },
  {
   "cell_type": "code",
   "execution_count": 54,
   "id": "db7c9a65",
   "metadata": {},
   "outputs": [
    {
     "name": "stdout",
     "output_type": "stream",
     "text": [
      "Wonder  |  PROPN  |  Wonder\n",
      "Woman  |  PROPN  |  Woman\n",
      "ate  |  VERB  |  eat\n",
      "a  |  DET  |  a\n",
      "bunch  |  NOUN  |  bunch\n",
      "of  |  ADP  |  of\n",
      "doughnuts  |  NOUN  |  doughnut\n",
      ",  |  PUNCT  |  ,\n",
      "hah  |  INTJ  |  hah\n",
      "!  |  PUNCT  |  !\n",
      "Good  |  ADJ  |  good\n",
      "for  |  ADP  |  for\n",
      "her  |  PRON  |  she\n",
      ",  |  PUNCT  |  ,\n",
      "Captain  |  PROPN  |  Captain\n",
      "Marvel  |  PROPN  |  Marvel\n",
      "remarked  |  VERB  |  remark\n",
      ".  |  PUNCT  |  .\n"
     ]
    }
   ],
   "source": [
    "## Lemmatize\n",
    "doc = nlp(\"Wonder Woman ate a bunch of doughnuts, hah! Good for her, Captain Marvel remarked.\")\n",
    "for token in doc:\n",
    "    print(token, \" | \", token.pos_, \" | \" , token.lemma_)"
   ]
  },
  {
   "cell_type": "code",
   "execution_count": 55,
   "id": "473b0d9e",
   "metadata": {},
   "outputs": [
    {
     "name": "stdout",
     "output_type": "stream",
     "text": [
      "Microsoft  |  ORG  |  Companies, agencies, institutions, etc.\n",
      "Satya Nadella  |  PERSON  |  People, including fictional\n",
      "OpenAI  |  ORG  |  Companies, agencies, institutions, etc.\n",
      "$10 billion  |  MONEY  |  Monetary values, including unit\n"
     ]
    }
   ],
   "source": [
    "##NER\n",
    "doc = nlp(\"Microsoft's Satya Nadella is looking to acquire OpenAI for $10 billion.\")\n",
    "for ent in doc.ents:\n",
    "    print(ent.text, \" | \", ent.label_, \" | \", spacy.explain(ent.label_))"
   ]
  },
  {
   "cell_type": "code",
   "execution_count": 60,
   "id": "430028b2",
   "metadata": {},
   "outputs": [
    {
     "name": "stdout",
     "output_type": "stream",
     "text": [
      "Bloomberg  |  PERSON  |  People, including fictional\n",
      "Bloomberg Inc  |  ORG  |  Companies, agencies, institutions, etc.\n"
     ]
    }
   ],
   "source": [
    "doc = nlp(\"Mr.Bloomberg founded Bloomberg Inc\")\n",
    "for ent in doc.ents:\n",
    "    print(ent.text, \" | \", ent.label_, \" | \", spacy.explain(ent.label_))"
   ]
  },
  {
   "cell_type": "code",
   "execution_count": 58,
   "id": "90d171f6",
   "metadata": {},
   "outputs": [
    {
     "data": {
      "text/plain": [
       "['ner']"
      ]
     },
     "execution_count": 58,
     "metadata": {},
     "output_type": "execute_result"
    }
   ],
   "source": [
    "## Create a custom pipeline without using pre-existing one\n",
    "source_nlp = spacy.load(\"en_core_web_sm\")\n",
    "nlp = spacy.blank(\"en\")\n",
    "nlp.add_pipe(\"ner\", source = source_nlp)\n",
    "nlp.pipe_names"
   ]
  },
  {
   "cell_type": "code",
   "execution_count": 59,
   "id": "2e6b5400",
   "metadata": {},
   "outputs": [
    {
     "name": "stdout",
     "output_type": "stream",
     "text": [
      "Bloomberg  |  PERSON  |  People, including fictional\n",
      "Bloomberg Inc  |  ORG  |  Companies, agencies, institutions, etc.\n"
     ]
    }
   ],
   "source": [
    "doc = nlp(\"Mr.Bloomberg founded Bloomberg Inc\")\n",
    "for ent in doc.ents:\n",
    "    print(ent.text, \" | \", ent.label_, \" | \", spacy.explain(ent.label_))"
   ]
  },
  {
   "cell_type": "code",
   "execution_count": null,
   "id": "d61bfa08",
   "metadata": {},
   "outputs": [],
   "source": []
  }
 ],
 "metadata": {
  "kernelspec": {
   "display_name": "nlp_env",
   "language": "python",
   "name": "python3"
  },
  "language_info": {
   "codemirror_mode": {
    "name": "ipython",
    "version": 3
   },
   "file_extension": ".py",
   "mimetype": "text/x-python",
   "name": "python",
   "nbconvert_exporter": "python",
   "pygments_lexer": "ipython3",
   "version": "3.12.5"
  }
 },
 "nbformat": 4,
 "nbformat_minor": 5
}
