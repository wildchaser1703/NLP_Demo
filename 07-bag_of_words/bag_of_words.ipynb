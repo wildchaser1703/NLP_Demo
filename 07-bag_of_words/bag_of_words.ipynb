{
 "cells": [
  {
   "cell_type": "code",
   "execution_count": 28,
   "id": "539def80",
   "metadata": {},
   "outputs": [],
   "source": [
    "import numpy as np\n",
    "import pandas as pd"
   ]
  },
  {
   "cell_type": "code",
   "execution_count": 29,
   "id": "ad71ff2c",
   "metadata": {},
   "outputs": [
    {
     "data": {
      "application/vnd.microsoft.datawrangler.viewer.v0+json": {
       "columns": [
        {
         "name": "index",
         "rawType": "int64",
         "type": "integer"
        },
        {
         "name": "Category",
         "rawType": "object",
         "type": "string"
        },
        {
         "name": "Message",
         "rawType": "object",
         "type": "string"
        }
       ],
       "ref": "149c0dfe-25a1-4dc1-be00-f3244ea1a3cf",
       "rows": [
        [
         "0",
         "ham",
         "Go until jurong point, crazy.. Available only in bugis n great world la e buffet... Cine there got amore wat..."
        ],
        [
         "1",
         "ham",
         "Ok lar... Joking wif u oni..."
        ],
        [
         "2",
         "spam",
         "Free entry in 2 a wkly comp to win FA Cup final tkts 21st May 2005. Text FA to 87121 to receive entry question(std txt rate)T&C's apply 08452810075over18's"
        ],
        [
         "3",
         "ham",
         "U dun say so early hor... U c already then say..."
        ],
        [
         "4",
         "ham",
         "Nah I don't think he goes to usf, he lives around here though"
        ]
       ],
       "shape": {
        "columns": 2,
        "rows": 5
       }
      },
      "text/html": [
       "<div>\n",
       "<style scoped>\n",
       "    .dataframe tbody tr th:only-of-type {\n",
       "        vertical-align: middle;\n",
       "    }\n",
       "\n",
       "    .dataframe tbody tr th {\n",
       "        vertical-align: top;\n",
       "    }\n",
       "\n",
       "    .dataframe thead th {\n",
       "        text-align: right;\n",
       "    }\n",
       "</style>\n",
       "<table border=\"1\" class=\"dataframe\">\n",
       "  <thead>\n",
       "    <tr style=\"text-align: right;\">\n",
       "      <th></th>\n",
       "      <th>Category</th>\n",
       "      <th>Message</th>\n",
       "    </tr>\n",
       "  </thead>\n",
       "  <tbody>\n",
       "    <tr>\n",
       "      <th>0</th>\n",
       "      <td>ham</td>\n",
       "      <td>Go until jurong point, crazy.. Available only ...</td>\n",
       "    </tr>\n",
       "    <tr>\n",
       "      <th>1</th>\n",
       "      <td>ham</td>\n",
       "      <td>Ok lar... Joking wif u oni...</td>\n",
       "    </tr>\n",
       "    <tr>\n",
       "      <th>2</th>\n",
       "      <td>spam</td>\n",
       "      <td>Free entry in 2 a wkly comp to win FA Cup fina...</td>\n",
       "    </tr>\n",
       "    <tr>\n",
       "      <th>3</th>\n",
       "      <td>ham</td>\n",
       "      <td>U dun say so early hor... U c already then say...</td>\n",
       "    </tr>\n",
       "    <tr>\n",
       "      <th>4</th>\n",
       "      <td>ham</td>\n",
       "      <td>Nah I don't think he goes to usf, he lives aro...</td>\n",
       "    </tr>\n",
       "  </tbody>\n",
       "</table>\n",
       "</div>"
      ],
      "text/plain": [
       "  Category                                            Message\n",
       "0      ham  Go until jurong point, crazy.. Available only ...\n",
       "1      ham                      Ok lar... Joking wif u oni...\n",
       "2     spam  Free entry in 2 a wkly comp to win FA Cup fina...\n",
       "3      ham  U dun say so early hor... U c already then say...\n",
       "4      ham  Nah I don't think he goes to usf, he lives aro..."
      ]
     },
     "execution_count": 29,
     "metadata": {},
     "output_type": "execute_result"
    }
   ],
   "source": [
    "df = pd.read_csv(\"spam.csv\")\n",
    "df.head()"
   ]
  },
  {
   "cell_type": "code",
   "execution_count": 30,
   "id": "7cd276c9",
   "metadata": {},
   "outputs": [],
   "source": [
    "df.columns = df.columns.str.lower()"
   ]
  },
  {
   "cell_type": "code",
   "execution_count": 31,
   "id": "bbb9a130",
   "metadata": {},
   "outputs": [
    {
     "data": {
      "text/plain": [
       "Index(['category', 'message'], dtype='object')"
      ]
     },
     "execution_count": 31,
     "metadata": {},
     "output_type": "execute_result"
    }
   ],
   "source": [
    "df.columns"
   ]
  },
  {
   "cell_type": "code",
   "execution_count": 32,
   "id": "b368cb74",
   "metadata": {},
   "outputs": [],
   "source": [
    "df[\"spam\"] = df[\"category\"].apply(lambda x: 1 if x == \"spam\" else 0)"
   ]
  },
  {
   "cell_type": "code",
   "execution_count": 33,
   "id": "3bc96019",
   "metadata": {},
   "outputs": [
    {
     "data": {
      "application/vnd.microsoft.datawrangler.viewer.v0+json": {
       "columns": [
        {
         "name": "index",
         "rawType": "int64",
         "type": "integer"
        },
        {
         "name": "category",
         "rawType": "object",
         "type": "string"
        },
        {
         "name": "message",
         "rawType": "object",
         "type": "string"
        },
        {
         "name": "spam",
         "rawType": "int64",
         "type": "integer"
        }
       ],
       "ref": "e7438a1a-7ab5-4ae1-9acc-36db8ac8c9f3",
       "rows": [
        [
         "0",
         "ham",
         "Go until jurong point, crazy.. Available only in bugis n great world la e buffet... Cine there got amore wat...",
         "0"
        ],
        [
         "1",
         "ham",
         "Ok lar... Joking wif u oni...",
         "0"
        ],
        [
         "2",
         "spam",
         "Free entry in 2 a wkly comp to win FA Cup final tkts 21st May 2005. Text FA to 87121 to receive entry question(std txt rate)T&C's apply 08452810075over18's",
         "1"
        ],
        [
         "3",
         "ham",
         "U dun say so early hor... U c already then say...",
         "0"
        ],
        [
         "4",
         "ham",
         "Nah I don't think he goes to usf, he lives around here though",
         "0"
        ]
       ],
       "shape": {
        "columns": 3,
        "rows": 5
       }
      },
      "text/html": [
       "<div>\n",
       "<style scoped>\n",
       "    .dataframe tbody tr th:only-of-type {\n",
       "        vertical-align: middle;\n",
       "    }\n",
       "\n",
       "    .dataframe tbody tr th {\n",
       "        vertical-align: top;\n",
       "    }\n",
       "\n",
       "    .dataframe thead th {\n",
       "        text-align: right;\n",
       "    }\n",
       "</style>\n",
       "<table border=\"1\" class=\"dataframe\">\n",
       "  <thead>\n",
       "    <tr style=\"text-align: right;\">\n",
       "      <th></th>\n",
       "      <th>category</th>\n",
       "      <th>message</th>\n",
       "      <th>spam</th>\n",
       "    </tr>\n",
       "  </thead>\n",
       "  <tbody>\n",
       "    <tr>\n",
       "      <th>0</th>\n",
       "      <td>ham</td>\n",
       "      <td>Go until jurong point, crazy.. Available only ...</td>\n",
       "      <td>0</td>\n",
       "    </tr>\n",
       "    <tr>\n",
       "      <th>1</th>\n",
       "      <td>ham</td>\n",
       "      <td>Ok lar... Joking wif u oni...</td>\n",
       "      <td>0</td>\n",
       "    </tr>\n",
       "    <tr>\n",
       "      <th>2</th>\n",
       "      <td>spam</td>\n",
       "      <td>Free entry in 2 a wkly comp to win FA Cup fina...</td>\n",
       "      <td>1</td>\n",
       "    </tr>\n",
       "    <tr>\n",
       "      <th>3</th>\n",
       "      <td>ham</td>\n",
       "      <td>U dun say so early hor... U c already then say...</td>\n",
       "      <td>0</td>\n",
       "    </tr>\n",
       "    <tr>\n",
       "      <th>4</th>\n",
       "      <td>ham</td>\n",
       "      <td>Nah I don't think he goes to usf, he lives aro...</td>\n",
       "      <td>0</td>\n",
       "    </tr>\n",
       "  </tbody>\n",
       "</table>\n",
       "</div>"
      ],
      "text/plain": [
       "  category                                            message  spam\n",
       "0      ham  Go until jurong point, crazy.. Available only ...     0\n",
       "1      ham                      Ok lar... Joking wif u oni...     0\n",
       "2     spam  Free entry in 2 a wkly comp to win FA Cup fina...     1\n",
       "3      ham  U dun say so early hor... U c already then say...     0\n",
       "4      ham  Nah I don't think he goes to usf, he lives aro...     0"
      ]
     },
     "execution_count": 33,
     "metadata": {},
     "output_type": "execute_result"
    }
   ],
   "source": [
    "df.head()"
   ]
  },
  {
   "cell_type": "code",
   "execution_count": 34,
   "id": "95245f2a",
   "metadata": {},
   "outputs": [
    {
     "data": {
      "text/plain": [
       "(5572, 3)"
      ]
     },
     "execution_count": 34,
     "metadata": {},
     "output_type": "execute_result"
    }
   ],
   "source": [
    "df.shape"
   ]
  },
  {
   "cell_type": "code",
   "execution_count": 35,
   "id": "4f4c8c76",
   "metadata": {},
   "outputs": [],
   "source": [
    "from sklearn.model_selection import train_test_split\n",
    "X_train, X_test, y_train, y_test = train_test_split(df[\"message\"], df[\"spam\"], test_size = 0.2, random_state = 42)"
   ]
  },
  {
   "cell_type": "code",
   "execution_count": 36,
   "id": "7c36cabd",
   "metadata": {},
   "outputs": [
    {
     "data": {
      "application/vnd.microsoft.datawrangler.viewer.v0+json": {
       "columns": [
        {
         "name": "index",
         "rawType": "int64",
         "type": "integer"
        },
        {
         "name": "message",
         "rawType": "object",
         "type": "string"
        }
       ],
       "ref": "f30b71ef-8540-407d-b04f-705fdc27a65e",
       "rows": [
        [
         "1978",
         "Reply to win £100 weekly! Where will the 2006 FIFA World Cup be held? Send STOP to 87239 to end service"
        ],
        [
         "3989",
         "Hello. Sort of out in town already. That . So dont rush home, I am eating nachos. Will let you know eta."
        ],
        [
         "3935",
         "How come guoyang go n tell her? Then u told her?"
        ],
        [
         "4078",
         "Hey sathya till now we dint meet not even a single time then how can i saw the situation sathya."
        ],
        [
         "4086",
         "Orange brings you ringtones from all time Chart Heroes, with a free hit each week! Go to Ringtones & Pics on wap. To stop receiving these tips reply STOP."
        ],
        [
         "4919",
         "Sitting in mu waiting for everyone to get out of my suite so I can take a shower"
        ],
        [
         "2268",
         "Finish liao... U?"
        ],
        [
         "4696",
         "URGENT! Your Mobile No 07808726822 was awarded a £2,000 Bonus Caller Prize on 02/09/03! This is our 2nd attempt to contact YOU! Call 0871-872-9758 BOX95QU"
        ],
        [
         "3653",
         "Probably not, still going over some stuff here"
        ],
        [
         "70",
         "Wah lucky man... Then can save money... Hee..."
        ],
        [
         "4467",
         "Hey u still at the gym?"
        ],
        [
         "2418",
         "Oh... Lk tt den we take e one tt ends at cine lor... Dun wan yogasana oso can..."
        ],
        [
         "2623",
         "Ok lor..."
        ],
        [
         "1272",
         "If you still havent collected the dough pls let me know so i can go to the place i sent it to get the control number"
        ],
        [
         "1454",
         "Stupid.its not possible"
        ],
        [
         "831",
         "U have a secret admirer. REVEAL who thinks U R So special. Call 09065174042. To opt out Reply REVEAL STOP. 1.50 per msg recd. Cust care 07821230901"
        ],
        [
         "5082",
         "Amazing : If you rearrange these letters it gives the same meaning... Dormitory = Dirty room Astronomer = Moon starer The eyes = They see Election results = Lies lets recount Mother-in-law = Woman Hitler Eleven plus two =Twelve plus one Its Amazing... !:-)"
        ],
        [
         "1893",
         "CALL 09090900040 & LISTEN TO EXTREME DIRTY LIVE CHAT GOING ON IN THE OFFICE RIGHT NOW TOTAL PRIVACY NO ONE KNOWS YOUR [sic] LISTENING 60P MIN 24/7MP 0870753331018+"
        ],
        [
         "3269",
         "Which is why i never wanted to tell you any of this. Which is why i'm so short with you and on-edge as of late."
        ],
        [
         "238",
         "Where are you?when wil you reach here?"
        ],
        [
         "5426",
         "Oh yeah! And my diet just flew out the window"
        ],
        [
         "4867",
         "Oh! Shit, I thought that was your trip! Loooooool ... That just makes SO much more sense now ... *grins* and the sofa reference was ... The \"sleep on a couch\" link you sent me ... Wasn't that how you went on your trip ? Oh ... And didn't your babe go with you for that celebration with your rents?"
        ],
        [
         "3435",
         "Sending you greetings of joy and happiness. Do have a gr8 evening"
        ],
        [
         "5542",
         "Armand says get your ass over to epsilon"
        ],
        [
         "1295",
         "Aiyah u did ok already lar. E nydc at wheellock?"
        ],
        [
         "2998",
         "Don know..he is watching film in computer.."
        ],
        [
         "1001",
         "No..but heard abt tat.."
        ],
        [
         "1512",
         "Oops sorry. Just to check that you don't mind picking me up tomo at half eight from station. Would that be ok?"
        ],
        [
         "4370",
         "Anytime lor..."
        ],
        [
         "3458",
         "Friendship poem: Dear O Dear U R Not Near But I Can Hear Dont Get Fear Live With Cheer No More Tear U R Always my Dear. Gud ni8"
        ],
        [
         "2350",
         "Yar else i'll thk of all sorts of funny things."
        ],
        [
         "957",
         "Love isn't a decision, it's a feeling. If we could decide who to love, then, life would be much simpler, but then less magical"
        ],
        [
         "2229",
         "Those were my exact intentions"
        ],
        [
         "4301",
         "Erm... Woodland avenue somewhere. Do you get the parish magazine, his telephone number will be in there."
        ],
        [
         "2240",
         "Every day i use to sleep after  &lt;#&gt;  so only."
        ],
        [
         "1437",
         "I jus hope its true that  missin me cos i'm really missin him! You haven't done anything to feel guilty about, yet."
        ],
        [
         "5351",
         "Yup it's at paragon... I havent decided whether 2 cut yet... Hee..."
        ],
        [
         "1876",
         "HMV BONUS SPECIAL 500 pounds of genuine HMV vouchers to be won. Just answer 4 easy questions. Play Now! Send HMV to 86688 More info:www.100percent-real.com"
        ],
        [
         "2094",
         "Final Chance! Claim ur £150 worth of discount vouchers today! Text YES to 85023 now! SavaMob, member offers mobile! T Cs SavaMob POBOX84, M263UZ. £3.00 Subs 16"
        ],
        [
         "2655",
         "Its sarcasm.. .nt scarcasim"
        ],
        [
         "3482",
         "Wherre's my boytoy ? :-("
        ],
        [
         "1034",
         "OH MR SHEFFIELD! You wanna play THAT game, okay. You're the boss and I'm the nanny. You give me a raise and I'll give YOU one!!"
        ],
        [
         "4764",
         "Prepare to be pleasured :)"
        ],
        [
         "931",
         "I'm really sorry i won't b able 2 do this friday.hope u can find an alternative.hope yr term's going ok:-)"
        ],
        [
         "5087",
         "Good morning, im suffering from fever and dysentry ..will not be able to come to office today."
        ],
        [
         "2902",
         "Ur cash-balance is currently 500 pounds - to maximize ur cash-in now send CASH to 86688 only 150p/msg. CC: 08718720201 PO BOX 114/14 TCR/W1"
        ],
        [
         "633",
         "Oh that was a forwarded message. I thought you send that to me"
        ],
        [
         "2451",
         "K..give back my thanks."
        ],
        [
         "498",
         "Some of them told accenture is not confirm. Is it true."
        ],
        [
         "4935",
         "Hey do you want anything to buy:)"
        ]
       ],
       "shape": {
        "columns": 1,
        "rows": 4457
       }
      },
      "text/plain": [
       "1978    Reply to win £100 weekly! Where will the 2006 ...\n",
       "3989    Hello. Sort of out in town already. That . So ...\n",
       "3935     How come guoyang go n tell her? Then u told her?\n",
       "4078    Hey sathya till now we dint meet not even a si...\n",
       "4086    Orange brings you ringtones from all time Char...\n",
       "                              ...                        \n",
       "3772    Hi, wlcome back, did wonder if you got eaten b...\n",
       "5191                               Sorry, I'll call later\n",
       "5226        Prabha..i'm soryda..realy..frm heart i'm sory\n",
       "5390                           Nt joking seriously i told\n",
       "860               Did he just say somebody is named tampa\n",
       "Name: message, Length: 4457, dtype: object"
      ]
     },
     "execution_count": 36,
     "metadata": {},
     "output_type": "execute_result"
    }
   ],
   "source": [
    "X_train"
   ]
  },
  {
   "cell_type": "code",
   "execution_count": 37,
   "id": "87716a26",
   "metadata": {},
   "outputs": [
    {
     "data": {
      "application/vnd.microsoft.datawrangler.viewer.v0+json": {
       "columns": [
        {
         "name": "index",
         "rawType": "int64",
         "type": "integer"
        },
        {
         "name": "message",
         "rawType": "object",
         "type": "string"
        }
       ],
       "ref": "5c63e178-f6df-423f-b09d-bf54779045ef",
       "rows": [
        [
         "3245",
         "Squeeeeeze!! This is christmas hug.. If u lik my frndshp den hug me back.. If u get 3 u r cute:) 6 u r luvd:* 9 u r so lucky;) None? People hate u:"
        ],
        [
         "944",
         "And also I've sorta blown him off a couple times recently so id rather not text him out of the blue looking for weed"
        ],
        [
         "1044",
         "Mmm thats better now i got a roast down me! id b better if i had a few drinks down me 2! Good indian?"
        ],
        [
         "2484",
         "Mm have some kanji dont eat anything heavy ok"
        ],
        [
         "812",
         "So there's a ring that comes with the guys costumes. It's there so they can gift their future yowifes. Hint hint"
        ],
        [
         "2973",
         "Sary just need Tim in the bollox &it hurt him a lot so he tol me!"
        ],
        [
         "2991",
         "Love isn't a decision, it's a feeling. If we could decide who to love, then, life would be much simpler, but then less magical"
        ],
        [
         "2942",
         "My supervisor find 4 me one lor i thk his students. I havent ask her yet. Tell u aft i ask her."
        ],
        [
         "230",
         "Dear good morning now only i am up"
        ],
        [
         "1181",
         "I'm in chennai velachery:)"
        ],
        [
         "1912",
         "Lol grr my mom is taking forever with my prescription. Pharmacy is like 2 minutes away. Ugh."
        ],
        [
         "1992",
         "No other Valentines huh? The proof is on your fb page. Ugh I'm so glad I really DIDN'T watch your rupaul show you TOOL!"
        ],
        [
         "5435",
         "I'm wif him now buying tix lar..."
        ],
        [
         "4805",
         "Er, hello, things didn‘t quite go to plan – is limping slowly home followed by aa and with exhaust hanging off"
        ],
        [
         "401",
         "FREE RINGTONE text FIRST to 87131 for a poly or text GET to 87131 for a true tone! Help? 0845 2814032 16 after 1st free, tones are 3x£150pw to e£nd txt stop"
        ],
        [
         "1859",
         "Sir, i am waiting for your call."
        ],
        [
         "1344",
         "Crazy ar he's married. Ü like gd looking guys not me. My frens like say he's korean leona's fave but i dun thk he is. Aft some thinking mayb most prob i'll go."
        ],
        [
         "2952",
         "Hey now am free you can call me."
        ],
        [
         "501",
         "Fighting with the world is easy, u either win or lose bt fightng with some1 who is close to u is dificult if u lose - u lose if u win - u still lose."
        ],
        [
         "3337",
         "Then u go back urself lor..."
        ],
        [
         "1945",
         "Yeah, I'll leave in a couple minutes &amp; let you know when I get to mu"
        ],
        [
         "3142",
         "Customer place i will call you"
        ],
        [
         "2422",
         "Err... Cud do. I'm going to  at 8pm. I haven't got a way to contact him until then."
        ],
        [
         "381",
         "I guess that's why you re worried. You must know that there's a way the body repairs itself. And i'm quite sure you shouldn't worry. We'll take it slow. First the tests, they will guide when your ovulation is then just relax. Nothing you've said is a reason to worry but i.ll keep on followin you up."
        ],
        [
         "5567",
         "This is the 2nd time we have tried 2 contact u. U have won the £750 Pound prize. 2 claim is easy, call 087187272008 NOW1! Only 10p per minute. BT-national-rate."
        ],
        [
         "4937",
         "K..k.:)congratulation .."
        ],
        [
         "79",
         "Its not the same here. Still looking for a job. How much do Ta's earn there."
        ],
        [
         "5240",
         "Gud gud..k, chikku tke care.. sleep well gud nyt"
        ],
        [
         "2554",
         "Ü give me some time to walk there."
        ],
        [
         "5345",
         "Wat ü doing now?"
        ],
        [
         "4379",
         "Doing nothing, then u not having dinner w us?"
        ],
        [
         "4789",
         "Thanx. Yup we coming back on sun. Finish dinner going back 2 hotel now. Time flies, we're tog 4 exactly a mth today. Hope we'll haf many more mths to come..."
        ],
        [
         "683",
         "Is xy going 4 e lunch?"
        ],
        [
         "5519",
         "Can you pls send me that company name. In saibaba colany"
        ],
        [
         "4315",
         "Is ur changes 2 da report big? Cos i've already made changes 2 da previous report."
        ],
        [
         "393",
         "Morning only i can ok."
        ],
        [
         "5541",
         "Yeah it's jus rite..."
        ],
        [
         "4546",
         "Never y lei... I v lazy... Got wat? Dat day ü send me da url cant work one..."
        ],
        [
         "3599",
         "Aight, we'll head out in a few"
        ],
        [
         "2225",
         "I prefer my free days... Tues, wed, fri oso can... Ü ask those workin lor..."
        ],
        [
         "881",
         "Reminder: You have not downloaded the content you have already paid for. Goto http://doit. mymoby. tv/ to collect your content."
        ],
        [
         "4625",
         "Jus finish blowing my hair. U finish dinner already?"
        ],
        [
         "3997",
         "We'll you pay over like  &lt;#&gt; yrs so its not too difficult"
        ],
        [
         "5015",
         "Hello boytoy ! Geeee ... I'm missing you today. I like to send you a tm and remind you I'm thinking of you ... And you are loved ... *loving kiss*"
        ],
        [
         "23",
         "Aft i finish my lunch then i go str down lor. Ard 3 smth lor. U finish ur lunch already?"
        ],
        [
         "4479",
         "I anything lor."
        ],
        [
         "1215",
         "I'll text now! All creepy like so he won't think that we forgot"
        ],
        [
         "1961",
         "Guess what! Somebody you know secretly fancies you! Wanna find out who it is? Give us a call on 09065394973 from Landline DATEBox1282EssexCM61XN 150p/min 18"
        ],
        [
         "5339",
         "You'd like that wouldn't you? Jerk!"
        ],
        [
         "848",
         "I am in office:)whats the matter..msg me now.i will call you at break:)."
        ]
       ],
       "shape": {
        "columns": 1,
        "rows": 1115
       }
      },
      "text/plain": [
       "3245    Squeeeeeze!! This is christmas hug.. If u lik ...\n",
       "944     And also I've sorta blown him off a couple tim...\n",
       "1044    Mmm thats better now i got a roast down me! i...\n",
       "2484        Mm have some kanji dont eat anything heavy ok\n",
       "812     So there's a ring that comes with the guys cos...\n",
       "                              ...                        \n",
       "4264    Den only weekdays got special price... Haiz......\n",
       "2439         I not busy juz dun wan 2 go so early.. Hee..\n",
       "5556    Yes i have. So that's why u texted. Pshew...mi...\n",
       "4205    How are you enjoying this semester? Take care ...\n",
       "4293                                                G.W.R\n",
       "Name: message, Length: 1115, dtype: object"
      ]
     },
     "execution_count": 37,
     "metadata": {},
     "output_type": "execute_result"
    }
   ],
   "source": [
    "X_test"
   ]
  },
  {
   "cell_type": "code",
   "execution_count": 38,
   "id": "c216f565",
   "metadata": {},
   "outputs": [
    {
     "data": {
      "application/vnd.microsoft.datawrangler.viewer.v0+json": {
       "columns": [
        {
         "name": "index",
         "rawType": "int64",
         "type": "integer"
        },
        {
         "name": "spam",
         "rawType": "int64",
         "type": "integer"
        }
       ],
       "ref": "54dbf19a-7673-43ae-b34a-41815517f6f1",
       "rows": [
        [
         "1978",
         "1"
        ],
        [
         "3989",
         "0"
        ],
        [
         "3935",
         "0"
        ],
        [
         "4078",
         "0"
        ],
        [
         "4086",
         "1"
        ],
        [
         "4919",
         "0"
        ],
        [
         "2268",
         "0"
        ],
        [
         "4696",
         "1"
        ],
        [
         "3653",
         "0"
        ],
        [
         "70",
         "0"
        ],
        [
         "4467",
         "0"
        ],
        [
         "2418",
         "0"
        ],
        [
         "2623",
         "0"
        ],
        [
         "1272",
         "0"
        ],
        [
         "1454",
         "0"
        ],
        [
         "831",
         "1"
        ],
        [
         "5082",
         "0"
        ],
        [
         "1893",
         "1"
        ],
        [
         "3269",
         "0"
        ],
        [
         "238",
         "0"
        ],
        [
         "5426",
         "0"
        ],
        [
         "4867",
         "0"
        ],
        [
         "3435",
         "0"
        ],
        [
         "5542",
         "0"
        ],
        [
         "1295",
         "0"
        ],
        [
         "2998",
         "0"
        ],
        [
         "1001",
         "0"
        ],
        [
         "1512",
         "0"
        ],
        [
         "4370",
         "0"
        ],
        [
         "3458",
         "0"
        ],
        [
         "2350",
         "0"
        ],
        [
         "957",
         "0"
        ],
        [
         "2229",
         "0"
        ],
        [
         "4301",
         "0"
        ],
        [
         "2240",
         "0"
        ],
        [
         "1437",
         "0"
        ],
        [
         "5351",
         "0"
        ],
        [
         "1876",
         "1"
        ],
        [
         "2094",
         "1"
        ],
        [
         "2655",
         "0"
        ],
        [
         "3482",
         "0"
        ],
        [
         "1034",
         "0"
        ],
        [
         "4764",
         "0"
        ],
        [
         "931",
         "0"
        ],
        [
         "5087",
         "0"
        ],
        [
         "2902",
         "1"
        ],
        [
         "633",
         "0"
        ],
        [
         "2451",
         "0"
        ],
        [
         "498",
         "0"
        ],
        [
         "4935",
         "0"
        ]
       ],
       "shape": {
        "columns": 1,
        "rows": 4457
       }
      },
      "text/plain": [
       "1978    1\n",
       "3989    0\n",
       "3935    0\n",
       "4078    0\n",
       "4086    1\n",
       "       ..\n",
       "3772    0\n",
       "5191    0\n",
       "5226    0\n",
       "5390    0\n",
       "860     0\n",
       "Name: spam, Length: 4457, dtype: int64"
      ]
     },
     "execution_count": 38,
     "metadata": {},
     "output_type": "execute_result"
    }
   ],
   "source": [
    "y_train"
   ]
  },
  {
   "cell_type": "code",
   "execution_count": 39,
   "id": "2c1d50f4",
   "metadata": {},
   "outputs": [
    {
     "data": {
      "application/vnd.microsoft.datawrangler.viewer.v0+json": {
       "columns": [
        {
         "name": "index",
         "rawType": "int64",
         "type": "integer"
        },
        {
         "name": "spam",
         "rawType": "int64",
         "type": "integer"
        }
       ],
       "ref": "4d83a61a-ec3e-4172-8cfe-f5e17925f718",
       "rows": [
        [
         "3245",
         "0"
        ],
        [
         "944",
         "0"
        ],
        [
         "1044",
         "0"
        ],
        [
         "2484",
         "0"
        ],
        [
         "812",
         "0"
        ],
        [
         "2973",
         "0"
        ],
        [
         "2991",
         "0"
        ],
        [
         "2942",
         "0"
        ],
        [
         "230",
         "0"
        ],
        [
         "1181",
         "0"
        ],
        [
         "1912",
         "0"
        ],
        [
         "1992",
         "0"
        ],
        [
         "5435",
         "0"
        ],
        [
         "4805",
         "0"
        ],
        [
         "401",
         "1"
        ],
        [
         "1859",
         "0"
        ],
        [
         "1344",
         "0"
        ],
        [
         "2952",
         "0"
        ],
        [
         "501",
         "0"
        ],
        [
         "3337",
         "0"
        ],
        [
         "1945",
         "0"
        ],
        [
         "3142",
         "0"
        ],
        [
         "2422",
         "0"
        ],
        [
         "381",
         "0"
        ],
        [
         "5567",
         "1"
        ],
        [
         "4937",
         "0"
        ],
        [
         "79",
         "0"
        ],
        [
         "5240",
         "0"
        ],
        [
         "2554",
         "0"
        ],
        [
         "5345",
         "0"
        ],
        [
         "4379",
         "0"
        ],
        [
         "4789",
         "0"
        ],
        [
         "683",
         "0"
        ],
        [
         "5519",
         "0"
        ],
        [
         "4315",
         "0"
        ],
        [
         "393",
         "0"
        ],
        [
         "5541",
         "0"
        ],
        [
         "4546",
         "0"
        ],
        [
         "3599",
         "0"
        ],
        [
         "2225",
         "0"
        ],
        [
         "881",
         "1"
        ],
        [
         "4625",
         "0"
        ],
        [
         "3997",
         "0"
        ],
        [
         "5015",
         "0"
        ],
        [
         "23",
         "0"
        ],
        [
         "4479",
         "0"
        ],
        [
         "1215",
         "0"
        ],
        [
         "1961",
         "1"
        ],
        [
         "5339",
         "0"
        ],
        [
         "848",
         "0"
        ]
       ],
       "shape": {
        "columns": 1,
        "rows": 1115
       }
      },
      "text/plain": [
       "3245    0\n",
       "944     0\n",
       "1044    0\n",
       "2484    0\n",
       "812     0\n",
       "       ..\n",
       "4264    0\n",
       "2439    0\n",
       "5556    0\n",
       "4205    0\n",
       "4293    0\n",
       "Name: spam, Length: 1115, dtype: int64"
      ]
     },
     "execution_count": 39,
     "metadata": {},
     "output_type": "execute_result"
    }
   ],
   "source": [
    "y_test"
   ]
  },
  {
   "cell_type": "code",
   "execution_count": 15,
   "id": "32a3a073",
   "metadata": {},
   "outputs": [
    {
     "data": {
      "text/plain": [
       "<Compressed Sparse Row sparse matrix of dtype 'int64'\n",
       "\twith 59275 stored elements and shape (4457, 7701)>"
      ]
     },
     "execution_count": 15,
     "metadata": {},
     "output_type": "execute_result"
    }
   ],
   "source": [
    "from sklearn.feature_extraction.text import CountVectorizer\n",
    "v = CountVectorizer()\n",
    "X_train_cv = v.fit_transform(X_train.values)\n",
    "X_train_cv"
   ]
  },
  {
   "cell_type": "code",
   "execution_count": 40,
   "id": "8ea4b076",
   "metadata": {},
   "outputs": [
    {
     "data": {
      "text/plain": [
       "array([0, 0, 0, ..., 0, 0, 0], shape=(7701,))"
      ]
     },
     "execution_count": 40,
     "metadata": {},
     "output_type": "execute_result"
    }
   ],
   "source": [
    "X_train_cv.toarray()[:2][0]"
   ]
  },
  {
   "cell_type": "code",
   "execution_count": 41,
   "id": "8e00169f",
   "metadata": {},
   "outputs": [
    {
     "data": {
      "text/plain": [
       "(4457, 7701)"
      ]
     },
     "execution_count": 41,
     "metadata": {},
     "output_type": "execute_result"
    }
   ],
   "source": [
    "X_train_cv.shape"
   ]
  },
  {
   "cell_type": "code",
   "execution_count": 46,
   "id": "18e5a8fa",
   "metadata": {},
   "outputs": [
    {
     "data": {
      "text/plain": [
       "'tie'"
      ]
     },
     "execution_count": 46,
     "metadata": {},
     "output_type": "execute_result"
    }
   ],
   "source": [
    "v.get_feature_names_out()[6847]"
   ]
  },
  {
   "cell_type": "code",
   "execution_count": 47,
   "id": "0471f588",
   "metadata": {},
   "outputs": [
    {
     "data": {
      "text/plain": [
       "{'reply': 5687,\n",
       " 'to': 6888,\n",
       " 'win': 7474,\n",
       " '100': 258,\n",
       " 'weekly': 7396,\n",
       " 'where': 7437,\n",
       " 'will': 7471,\n",
       " 'the': 6773,\n",
       " '2006': 354,\n",
       " 'fifa': 2805,\n",
       " 'world': 7555,\n",
       " 'cup': 2106,\n",
       " 'be': 1271,\n",
       " 'held': 3364,\n",
       " 'send': 5980,\n",
       " 'stop': 6460,\n",
       " '87239': 694,\n",
       " 'end': 2568,\n",
       " 'service': 5999,\n",
       " 'hello': 3369,\n",
       " 'sort': 6304,\n",
       " 'of': 4854,\n",
       " 'out': 4976,\n",
       " 'in': 3603,\n",
       " 'town': 6959,\n",
       " 'already': 924,\n",
       " 'that': 6770,\n",
       " 'so': 6252,\n",
       " 'dont': 2395,\n",
       " 'rush': 5825,\n",
       " 'home': 3441,\n",
       " 'am': 934,\n",
       " 'eating': 2504,\n",
       " 'nachos': 4650,\n",
       " 'let': 4057,\n",
       " 'you': 7662,\n",
       " 'know': 3926,\n",
       " 'eta': 2627,\n",
       " 'how': 3487,\n",
       " 'come': 1902,\n",
       " 'guoyang': 3258,\n",
       " 'go': 3140,\n",
       " 'tell': 6711,\n",
       " 'her': 3384,\n",
       " 'then': 6784,\n",
       " 'told': 6904,\n",
       " 'hey': 3392,\n",
       " 'sathya': 5881,\n",
       " 'till': 6856,\n",
       " 'now': 4808,\n",
       " 'we': 7372,\n",
       " 'dint': 2323,\n",
       " 'meet': 4392,\n",
       " 'not': 4797,\n",
       " 'even': 2638,\n",
       " 'single': 6147,\n",
       " 'time': 6857,\n",
       " 'can': 1629,\n",
       " 'saw': 5894,\n",
       " 'situation': 6164,\n",
       " 'orange': 4945,\n",
       " 'brings': 1509,\n",
       " 'ringtones': 5763,\n",
       " 'from': 2993,\n",
       " 'all': 911,\n",
       " 'chart': 1733,\n",
       " 'heroes': 3387,\n",
       " 'with': 7502,\n",
       " 'free': 2958,\n",
       " 'hit': 3411,\n",
       " 'each': 2485,\n",
       " 'week': 7393,\n",
       " 'pics': 5172,\n",
       " 'on': 4898,\n",
       " 'wap': 7337,\n",
       " 'receiving': 5603,\n",
       " 'these': 6792,\n",
       " 'tips': 6863,\n",
       " 'sitting': 6163,\n",
       " 'mu': 4604,\n",
       " 'waiting': 7311,\n",
       " 'for': 2910,\n",
       " 'everyone': 2650,\n",
       " 'get': 3094,\n",
       " 'my': 4639,\n",
       " 'suite': 6549,\n",
       " 'take': 6650,\n",
       " 'shower': 6096,\n",
       " 'finish': 2834,\n",
       " 'liao': 4063,\n",
       " 'urgent': 7162,\n",
       " 'your': 7667,\n",
       " 'mobile': 4515,\n",
       " 'no': 4763,\n",
       " '07808726822': 39,\n",
       " 'was': 7346,\n",
       " 'awarded': 1171,\n",
       " '000': 1,\n",
       " 'bonus': 1427,\n",
       " 'caller': 1612,\n",
       " 'prize': 5394,\n",
       " '02': 8,\n",
       " '09': 163,\n",
       " '03': 14,\n",
       " 'this': 6811,\n",
       " 'is': 3712,\n",
       " 'our': 4975,\n",
       " '2nd': 410,\n",
       " 'attempt': 1128,\n",
       " 'contact': 1972,\n",
       " 'call': 1606,\n",
       " '0871': 98,\n",
       " '872': 693,\n",
       " '9758': 733,\n",
       " 'box95qu': 1469,\n",
       " 'probably': 5399,\n",
       " 'still': 6450,\n",
       " 'going': 3152,\n",
       " 'over': 4992,\n",
       " 'some': 6266,\n",
       " 'stuff': 6503,\n",
       " 'here': 3385,\n",
       " 'wah': 7301,\n",
       " 'lucky': 4226,\n",
       " 'man': 4301,\n",
       " 'save': 5890,\n",
       " 'money': 4542,\n",
       " 'hee': 3360,\n",
       " 'at': 1119,\n",
       " 'gym': 3264,\n",
       " 'oh': 4875,\n",
       " 'lk': 4128,\n",
       " 'tt': 7023,\n",
       " 'den': 2231,\n",
       " 'one': 4904,\n",
       " 'ends': 2572,\n",
       " 'cine': 1810,\n",
       " 'lor': 4176,\n",
       " 'dun': 2472,\n",
       " 'wan': 7327,\n",
       " 'yogasana': 7659,\n",
       " 'oso': 4967,\n",
       " 'ok': 4879,\n",
       " 'if': 3566,\n",
       " 'havent': 3333,\n",
       " 'collected': 1887,\n",
       " 'dough': 2415,\n",
       " 'pls': 5226,\n",
       " 'me': 4373,\n",
       " 'place': 5197,\n",
       " 'sent': 5988,\n",
       " 'it': 3724,\n",
       " 'control': 1985,\n",
       " 'number': 4821,\n",
       " 'stupid': 6509,\n",
       " 'its': 3732,\n",
       " 'possible': 5296,\n",
       " 'have': 3330,\n",
       " 'secret': 5946,\n",
       " 'admirer': 824,\n",
       " 'reveal': 5737,\n",
       " 'who': 7448,\n",
       " 'thinks': 6806,\n",
       " 'special': 6337,\n",
       " '09065174042': 226,\n",
       " 'opt': 4936,\n",
       " '50': 535,\n",
       " 'per': 5113,\n",
       " 'msg': 4588,\n",
       " 'recd': 5597,\n",
       " 'cust': 2115,\n",
       " 'care': 1654,\n",
       " '07821230901': 41,\n",
       " 'amazing': 936,\n",
       " 'rearrange': 5586,\n",
       " 'letters': 4060,\n",
       " 'gives': 3124,\n",
       " 'same': 5860,\n",
       " 'meaning': 4377,\n",
       " 'dormitory': 2405,\n",
       " 'dirty': 2332,\n",
       " 'room': 5787,\n",
       " 'astronomer': 1116,\n",
       " 'moon': 4555,\n",
       " 'starer': 6413,\n",
       " 'eyes': 2720,\n",
       " 'they': 6797,\n",
       " 'see': 5955,\n",
       " 'election': 2546,\n",
       " 'results': 5726,\n",
       " 'lies': 4069,\n",
       " 'lets': 4058,\n",
       " 'recount': 5616,\n",
       " 'mother': 4565,\n",
       " 'law': 4009,\n",
       " 'woman': 7529,\n",
       " 'hitler': 3412,\n",
       " 'eleven': 2549,\n",
       " 'plus': 5231,\n",
       " 'two': 7046,\n",
       " 'twelve': 7039,\n",
       " '09090900040': 245,\n",
       " 'listen': 4112,\n",
       " 'extreme': 2716,\n",
       " 'live': 4122,\n",
       " 'chat': 1738,\n",
       " 'office': 4865,\n",
       " 'right': 5754,\n",
       " 'total': 6950,\n",
       " 'privacy': 5390,\n",
       " 'knows': 3929,\n",
       " 'sic': 6117,\n",
       " 'listening': 4114,\n",
       " '60p': 572,\n",
       " 'min': 4452,\n",
       " '24': 369,\n",
       " '7mp': 628,\n",
       " '0870753331018': 92,\n",
       " 'which': 7442,\n",
       " 'why': 7456,\n",
       " 'never': 4724,\n",
       " 'wanted': 7334,\n",
       " 'any': 995,\n",
       " 'short': 6081,\n",
       " 'and': 961,\n",
       " 'edge': 2512,\n",
       " 'as': 1086,\n",
       " 'late': 3994,\n",
       " 'are': 1051,\n",
       " 'when': 7433,\n",
       " 'wil': 7468,\n",
       " 'reach': 5562,\n",
       " 'yeah': 7635,\n",
       " 'diet': 2302,\n",
       " 'just': 3841,\n",
       " 'flew': 2864,\n",
       " 'window': 7477,\n",
       " 'shit': 6066,\n",
       " 'thought': 6822,\n",
       " 'trip': 6995,\n",
       " 'loooooool': 4172,\n",
       " 'makes': 4292,\n",
       " 'much': 4606,\n",
       " 'more': 4557,\n",
       " 'sense': 5984,\n",
       " 'grins': 3224,\n",
       " 'sofa': 6256,\n",
       " 'reference': 5626,\n",
       " 'sleep': 6185,\n",
       " 'couch': 2019,\n",
       " 'link': 4100,\n",
       " 'wasn': 7348,\n",
       " 'went': 7411,\n",
       " 'didn': 2296,\n",
       " 'babe': 1189,\n",
       " 'celebration': 1700,\n",
       " 'rents': 5678,\n",
       " 'sending': 5982,\n",
       " 'greetings': 3221,\n",
       " 'joy': 3821,\n",
       " 'happiness': 3311,\n",
       " 'do': 2362,\n",
       " 'gr8': 3193,\n",
       " 'evening': 2639,\n",
       " 'armand': 1065,\n",
       " 'says': 5899,\n",
       " 'ass': 1105,\n",
       " 'epsilon': 2605,\n",
       " 'aiyah': 887,\n",
       " 'did': 2294,\n",
       " 'lar': 3987,\n",
       " 'nydc': 4833,\n",
       " 'wheellock': 7432,\n",
       " 'don': 2391,\n",
       " 'he': 3339,\n",
       " 'watching': 7358,\n",
       " 'film': 2821,\n",
       " 'computer': 1935,\n",
       " 'but': 1573,\n",
       " 'heard': 3349,\n",
       " 'abt': 767,\n",
       " 'tat': 6674,\n",
       " 'oops': 4920,\n",
       " 'sorry': 6303,\n",
       " 'check': 1748,\n",
       " 'mind': 4455,\n",
       " 'picking': 5170,\n",
       " 'up': 7140,\n",
       " 'tomo': 6913,\n",
       " 'half': 3280,\n",
       " 'eight': 2535,\n",
       " 'station': 6428,\n",
       " 'would': 7566,\n",
       " 'anytime': 1006,\n",
       " 'friendship': 2980,\n",
       " 'poem': 5255,\n",
       " 'dear': 2179,\n",
       " 'near': 4688,\n",
       " 'hear': 3348,\n",
       " 'fear': 2774,\n",
       " 'cheer': 1755,\n",
       " 'tear': 6697,\n",
       " 'always': 932,\n",
       " 'gud': 3245,\n",
       " 'ni8': 4738,\n",
       " 'yar': 7627,\n",
       " 'else': 2552,\n",
       " 'll': 4129,\n",
       " 'thk': 6812,\n",
       " 'sorts': 6307,\n",
       " 'funny': 3023,\n",
       " 'things': 6801,\n",
       " 'love': 4197,\n",
       " 'isn': 3719,\n",
       " 'decision': 2192,\n",
       " 'feeling': 2783,\n",
       " 'could': 2022,\n",
       " 'decide': 2188,\n",
       " 'life': 4070,\n",
       " 'simpler': 6138,\n",
       " 'less': 4053,\n",
       " 'magical': 4277,\n",
       " 'those': 6818,\n",
       " 'were': 7413,\n",
       " 'exact': 2671,\n",
       " 'intentions': 3668,\n",
       " 'erm': 2611,\n",
       " 'woodland': 7541,\n",
       " 'avenue': 1161,\n",
       " 'somewhere': 6281,\n",
       " 'parish': 5051,\n",
       " 'magazine': 4274,\n",
       " 'his': 3409,\n",
       " 'telephone': 6709,\n",
       " 'there': 6790,\n",
       " 'every': 2645,\n",
       " 'day': 2166,\n",
       " 'use': 7176,\n",
       " 'after': 854,\n",
       " 'lt': 4219,\n",
       " 'gt': 3240,\n",
       " 'only': 4910,\n",
       " 'jus': 3840,\n",
       " 'hope': 3457,\n",
       " 'true': 7005,\n",
       " 'missin': 4483,\n",
       " 'cos': 2012,\n",
       " 'really': 5582,\n",
       " 'him': 3404,\n",
       " 'haven': 3332,\n",
       " 'done': 2393,\n",
       " 'anything': 1004,\n",
       " 'feel': 2781,\n",
       " 'guilty': 3255,\n",
       " 'about': 760,\n",
       " 'yet': 7649,\n",
       " 'yup': 7685,\n",
       " 'paragon': 5042,\n",
       " 'decided': 2189,\n",
       " 'whether': 7441,\n",
       " 'cut': 2121,\n",
       " 'hmv': 3425,\n",
       " '500': 536,\n",
       " 'pounds': 5310,\n",
       " 'genuine': 3089,\n",
       " 'vouchers': 7282,\n",
       " 'won': 7532,\n",
       " 'answer': 984,\n",
       " 'easy': 2500,\n",
       " 'questions': 5500,\n",
       " 'play': 5209,\n",
       " '86688': 684,\n",
       " 'info': 3635,\n",
       " 'www': 7596,\n",
       " '100percent': 262,\n",
       " 'real': 5573,\n",
       " 'com': 1896,\n",
       " 'final': 2824,\n",
       " 'chance': 1716,\n",
       " 'claim': 1816,\n",
       " 'ur': 7158,\n",
       " '150': 304,\n",
       " 'worth': 7562,\n",
       " 'discount': 2340,\n",
       " 'today': 6894,\n",
       " 'text': 6744,\n",
       " 'yes': 7646,\n",
       " '85023': 675,\n",
       " 'savamob': 5889,\n",
       " 'member': 4406,\n",
       " 'offers': 4864,\n",
       " 'cs': 2086,\n",
       " 'pobox84': 5247,\n",
       " 'm263uz': 4249,\n",
       " '00': 0,\n",
       " 'subs': 6518,\n",
       " '16': 316,\n",
       " 'sarcasm': 5873,\n",
       " 'nt': 4812,\n",
       " 'scarcasim': 5903,\n",
       " 'wherre': 7440,\n",
       " 'boytoy': 1476,\n",
       " 'mr': 4583,\n",
       " 'sheffield': 6047,\n",
       " 'wanna': 7330,\n",
       " 'game': 3045,\n",
       " 'okay': 4880,\n",
       " 're': 5561,\n",
       " 'boss': 1445,\n",
       " 'nanny': 4665,\n",
       " 'give': 3122,\n",
       " 'raise': 5523,\n",
       " 'prepare': 5354,\n",
       " 'pleasured': 5222,\n",
       " 'able': 758,\n",
       " 'friday': 2975,\n",
       " 'find': 2828,\n",
       " 'an': 958,\n",
       " 'alternative': 929,\n",
       " 'yr': 7676,\n",
       " 'term': 6728,\n",
       " 'good': 3165,\n",
       " 'morning': 4561,\n",
       " 'im': 3579,\n",
       " 'suffering': 6539,\n",
       " 'fever': 2795,\n",
       " 'dysentry': 2484,\n",
       " 'cash': 1673,\n",
       " 'balance': 1211,\n",
       " 'currently': 2111,\n",
       " 'maximize': 4362,\n",
       " '150p': 306,\n",
       " 'cc': 1693,\n",
       " '08718720201': 143,\n",
       " 'po': 5236,\n",
       " 'box': 1457,\n",
       " '114': 273,\n",
       " '14': 296,\n",
       " 'tcr': 6688,\n",
       " 'w1': 7287,\n",
       " 'forwarded': 2936,\n",
       " 'message': 4424,\n",
       " 'back': 1196,\n",
       " 'thanks': 6762,\n",
       " 'them': 6780,\n",
       " 'accenture': 776,\n",
       " 'confirm': 1951,\n",
       " 'want': 7332,\n",
       " 'buy': 1577,\n",
       " 'dating': 2163,\n",
       " 'cal': 1600,\n",
       " '09064012103': 216,\n",
       " 'box334sk38ch': 1464,\n",
       " 'foreign': 2914,\n",
       " 'stamps': 6407,\n",
       " 'whatever': 7427,\n",
       " 'off': 4856,\n",
       " 'haha': 3272,\n",
       " 'receipt': 5598,\n",
       " 'sound': 6311,\n",
       " 'gd': 3074,\n",
       " 'luck': 4224,\n",
       " 'chikku': 1776,\n",
       " 'ya': 7620,\n",
       " 'like': 4081,\n",
       " 'seconds': 5945,\n",
       " 'cant': 1640,\n",
       " 'think': 6802,\n",
       " 'anyone': 999,\n",
       " 'spare': 6330,\n",
       " 'top': 6937,\n",
       " 'head': 3340,\n",
       " 'sex': 6012,\n",
       " 'sexy': 6016,\n",
       " 'pic': 5167,\n",
       " 'jordan': 3816,\n",
       " '88600': 701,\n",
       " 'wk': 7512,\n",
       " 'celeb': 1698,\n",
       " 'pocketbabe': 5251,\n",
       " 'co': 1865,\n",
       " 'uk': 7074,\n",
       " '087016248': 81,\n",
       " 'college': 1891,\n",
       " 'atten': 1129,\n",
       " 'class': 1823,\n",
       " 'freephone': 2965,\n",
       " '0800': 48,\n",
       " '542': 555,\n",
       " '0578': 19,\n",
       " 'worry': 7559,\n",
       " 'finished': 2836,\n",
       " 'by': 1589,\n",
       " 'march': 4320,\n",
       " 'ish': 3715,\n",
       " '88066': 698,\n",
       " 'lost': 4183,\n",
       " '12': 280,\n",
       " 'help': 3372,\n",
       " 'crickiting': 2071,\n",
       " 'great': 3214,\n",
       " 'fujitsu': 3009,\n",
       " 'series': 5994,\n",
       " 'lifebook': 4071,\n",
       " 'arr': 1071,\n",
       " 'birthday': 1370,\n",
       " 'wish': 7494,\n",
       " 'oscar': 4966,\n",
       " 'gonna': 3163,\n",
       " 'say': 5895,\n",
       " 'normal': 4789,\n",
       " 'starting': 6420,\n",
       " 'panic': 5028,\n",
       " 'again': 860,\n",
       " 'seeing': 5957,\n",
       " 'tuesday': 7026,\n",
       " 'problem': 5400,\n",
       " 'renewal': 5673,\n",
       " 'away': 1172,\n",
       " 'details': 2266,\n",
       " 'very': 7229,\n",
       " 'bad': 1198,\n",
       " 'girl': 3116,\n",
       " 'or': 4941,\n",
       " 'lady': 3962,\n",
       " 'actually': 808,\n",
       " 'guys': 3261,\n",
       " 'sunoco': 6565,\n",
       " 'howard': 3488,\n",
       " 'should': 6089,\n",
       " 'way': 7368,\n",
       " 'prolly': 5421,\n",
       " 'download': 2417,\n",
       " 'fring': 2982,\n",
       " 'app': 1020,\n",
       " 'machan': 4260,\n",
       " 'once': 4902,\n",
       " 'completely': 1927,\n",
       " 'form': 2926,\n",
       " 'clark': 1821,\n",
       " 'also': 927,\n",
       " 'utter': 7187,\n",
       " 'waste': 7350,\n",
       " 'got': 3182,\n",
       " 'start': 6418,\n",
       " 'howz': 3493,\n",
       " 'pain': 5021,\n",
       " 'down': 2416,\n",
       " 'said': 5845,\n",
       " 'ystrday': 7678,\n",
       " 'ice': 3549,\n",
       " 'medicine': 4389,\n",
       " 'hmm': 3421,\n",
       " 'shall': 6030,\n",
       " 'bring': 1507,\n",
       " 'bottle': 1450,\n",
       " 'wine': 7480,\n",
       " 'keep': 3876,\n",
       " 'us': 7172,\n",
       " 'amused': 956,\n",
       " 'joking': 3812,\n",
       " 'red': 5620,\n",
       " 'white': 7446,\n",
       " 'tomorrow': 6915,\n",
       " 'takin': 6654,\n",
       " 'linear': 4095,\n",
       " 'algebra': 905,\n",
       " 'aww': 1175,\n",
       " 'first': 2845,\n",
       " 'missed': 4482,\n",
       " 'without': 7506,\n",
       " 'asking': 1099,\n",
       " 'maybe': 4366,\n",
       " 'reboot': 5593,\n",
       " 'ym': 7655,\n",
       " 'seen': 5962,\n",
       " 'buzz': 1583,\n",
       " 'hi': 3395,\n",
       " 'darlin': 2154,\n",
       " 'london': 4158,\n",
       " 'been': 1295,\n",
       " 'smashed': 6216,\n",
       " 'into': 3680,\n",
       " 'another': 981,\n",
       " 'driver': 2440,\n",
       " 'big': 1352,\n",
       " 'dent': 2235,\n",
       " 'missing': 4484,\n",
       " 'what': 7426,\n",
       " 'xxx': 7613,\n",
       " 'ned': 4698,\n",
       " 'toa': 6889,\n",
       " 'payoh': 5094,\n",
       " 'while': 7443,\n",
       " 'return': 5732,\n",
       " 'smth': 6236,\n",
       " 'wat': 7353,\n",
       " 'hero': 3386,\n",
       " 'leaving': 4034,\n",
       " 'qatar': 5486,\n",
       " 'tonite': 6925,\n",
       " 'apt': 1044,\n",
       " 'opportunity': 4932,\n",
       " 'touch': 6953,\n",
       " 'email': 2555,\n",
       " 'kerala': 3884,\n",
       " 'lol': 4154,\n",
       " 'forgot': 2923,\n",
       " 'eh': 2533,\n",
       " 'someone': 6270,\n",
       " 'has': 3322,\n",
       " 'conacted': 1938,\n",
       " 'entered': 2591,\n",
       " 'phone': 5154,\n",
       " 'because': 1282,\n",
       " 'fancy': 2748,\n",
       " 'landline': 3974,\n",
       " '09111030116': 254,\n",
       " 'pobox12n146tf15': 5241,\n",
       " 'mail': 4283,\n",
       " 'fredericksburg': 2957,\n",
       " 'telugu': 6716,\n",
       " 'movie': 4577,\n",
       " 'trying': 7015,\n",
       " 'last': 3992,\n",
       " 'weekends': 7395,\n",
       " 'draw': 2426,\n",
       " 'shows': 6102,\n",
       " '900': 721,\n",
       " 'guaranteed': 3243,\n",
       " '09061701851': 201,\n",
       " 'code': 1875,\n",
       " 'k61': 3847,\n",
       " 'valid': 7199,\n",
       " '12hours': 289,\n",
       " 've': 7216,\n",
       " 'reached': 5564,\n",
       " 'finally': 2826,\n",
       " 'little': 4121,\n",
       " 'pocy': 5253,\n",
       " 'bell': 1316,\n",
       " 'neft': 4705,\n",
       " 'transaction': 6971,\n",
       " 'rs': 5804,\n",
       " 'decimal': 2191,\n",
       " 'credited': 2064,\n",
       " 'beneficiary': 1325,\n",
       " 'account': 787,\n",
       " 'dollars': 2388,\n",
       " 'ill': 3575,\n",
       " '2mrw': 408,\n",
       " 'ninish': 4754,\n",
       " 'address': 817,\n",
       " 'icky': 3551,\n",
       " 'american': 939,\n",
       " 'freek': 2963,\n",
       " 'wont': 7539,\n",
       " 'callin': 1616,\n",
       " 'jen': 3778,\n",
       " 'pa': 5010,\n",
       " 'self': 5969,\n",
       " 'drive': 2439,\n",
       " 'sch': 5908,\n",
       " 'gram': 3199,\n",
       " 'usually': 7186,\n",
       " 'runs': 5824,\n",
       " 'eighth': 2536,\n",
       " 'smarter': 6215,\n",
       " 'though': 6821,\n",
       " 'gets': 3098,\n",
       " 'almost': 920,\n",
       " 'whole': 7450,\n",
       " 'second': 5943,\n",
       " 'smaller': 6212,\n",
       " 'capacity': 1643,\n",
       " 'quite': 5505,\n",
       " 'ex': 2670,\n",
       " 'bothering': 1449,\n",
       " 'trust': 7010,\n",
       " 'answers': 988,\n",
       " 'men': 4411,\n",
       " 'shorter': 6085,\n",
       " 'ladies': 3961,\n",
       " 'gaze': 3070,\n",
       " 'doctor': 2369,\n",
       " 'tiring': 6865,\n",
       " 'uni': 7111,\n",
       " 'starts': 6421,\n",
       " 'taking': 6655,\n",
       " 'modules': 4529,\n",
       " 'concentrating': 1940,\n",
       " 'project': 5419,\n",
       " 'official': 4867,\n",
       " 'england': 2580,\n",
       " 'poly': 5265,\n",
       " 'ringtone': 5761,\n",
       " 'colour': 1893,\n",
       " 'flag': 2854,\n",
       " 'yer': 7645,\n",
       " 'tonights': 6924,\n",
       " 'tone': 6917,\n",
       " '84199': 671,\n",
       " 'optout': 4940,\n",
       " 'txt': 7048,\n",
       " 'eng': 2576,\n",
       " 'box39822': 1466,\n",
       " 'w111wx': 7288,\n",
       " 'doing': 2383,\n",
       " 'settled': 6007,\n",
       " 'new': 4727,\n",
       " 'school': 5910,\n",
       " 'year': 7636,\n",
       " 'wishin': 7497,\n",
       " 'friends': 2979,\n",
       " 'em': 2554,\n",
       " 'someplace': 6272,\n",
       " 'tot': 6949,\n",
       " 'shirt': 6064,\n",
       " 'moved': 4575,\n",
       " 'in2': 3604,\n",
       " 'pub': 5456,\n",
       " 'cud': 2096,\n",
       " 'appt': 1040,\n",
       " 'fault': 2766,\n",
       " 'twice': 7041,\n",
       " 'networking': 4720,\n",
       " 'technical': 6702,\n",
       " 'support': 6579,\n",
       " 'associate': 1109,\n",
       " 'ho': 3426,\n",
       " 'type': 7061,\n",
       " 'words': 7548,\n",
       " 'wake': 7312,\n",
       " 'long': 4161,\n",
       " 'ago': 869,\n",
       " 'dunno': 2474,\n",
       " 'other': 4968,\n",
       " 'thing': 6800,\n",
       " 'moji': 4531,\n",
       " 'informed': 3638,\n",
       " 'saved': 5891,\n",
       " 'lives': 4126,\n",
       " 'pass': 5067,\n",
       " '69669': 589,\n",
       " 'collect': 1886,\n",
       " 'polyphonic': 5270,\n",
       " 'gprs': 3191,\n",
       " 'charges': 1729,\n",
       " 'apply': 1029,\n",
       " 'enjoy': 2582,\n",
       " 'tones': 6918,\n",
       " 'unable': 7084,\n",
       " 'bhaskar': 1346,\n",
       " 'deep': 2201,\n",
       " 'thanx': 6767,\n",
       " 'puttin': 5483,\n",
       " 'da': 2132,\n",
       " 'fone': 2898,\n",
       " 'cool': 1997,\n",
       " 'few': 2796,\n",
       " 'nice': 4740,\n",
       " 'ready': 5572,\n",
       " 'thursday': 6840,\n",
       " 'gautham': 3064,\n",
       " 'swhrt': 6617,\n",
       " 'dey': 2277,\n",
       " '2day': 388,\n",
       " 'miss': 4480,\n",
       " 'kicks': 3897,\n",
       " 'private': 5391,\n",
       " '2004': 352,\n",
       " 'statement': 6426,\n",
       " '07742676969': 30,\n",
       " '786': 623,\n",
       " 'unredeemed': 7130,\n",
       " 'points': 5257,\n",
       " '08719180248': 155,\n",
       " 'identifier': 3560,\n",
       " '45239': 504,\n",
       " 'expires': 2702,\n",
       " 'under': 7096,\n",
       " 'standing': 6410,\n",
       " 'need': 4699,\n",
       " 'coz': 2039,\n",
       " 'before': 1301,\n",
       " 'theatre': 6776,\n",
       " 'watch': 7354,\n",
       " 'unlimited': 7125,\n",
       " 'movies': 4578,\n",
       " 'pay': 5086,\n",
       " 'ful': 3010,\n",
       " 'song': 6288,\n",
       " 'lyrics': 4245,\n",
       " 'congrats': 1957,\n",
       " '3g': 462,\n",
       " 'videophones': 7241,\n",
       " 'yours': 7671,\n",
       " '09061744553': 206,\n",
       " 'videochat': 7240,\n",
       " 'wid': 7460,\n",
       " 'mates': 4346,\n",
       " 'java': 3766,\n",
       " 'games': 3046,\n",
       " 'dload': 2360,\n",
       " 'polyh': 5268,\n",
       " 'music': 4627,\n",
       " 'noline': 4776,\n",
       " 'rentl': 5677,\n",
       " 'bx420': 1587,\n",
       " 'ip4': 3697,\n",
       " '5we': 566,\n",
       " '150pm': 308,\n",
       " 'try': 7013,\n",
       " 'rebooting': 5594,\n",
       " 'senthil': 5990,\n",
       " 'group': 3232,\n",
       " 'company': 1917,\n",
       " 'apnt': 1014,\n",
       " '5pm': 563,\n",
       " 'dare': 2150,\n",
       " 'change': 1718,\n",
       " 'ring': 5758,\n",
       " 'baby': 1192,\n",
       " 'stretch': 6482,\n",
       " 'open': 4921,\n",
       " 'pussy': 5480,\n",
       " 'alright': 925,\n",
       " 'sure': 6586,\n",
       " 'sunshine': 6568,\n",
       " 'quiz': 5507,\n",
       " 'wkly': 7516,\n",
       " 'sony': 6290,\n",
       " 'dvd': 2482,\n",
       " 'player': 5211,\n",
       " 'country': 2028,\n",
       " 'algarve': 904,\n",
       " 'ansr': 983,\n",
       " '82277': 652,\n",
       " 'sp': 6323,\n",
       " 'tyrone': 7063,\n",
       " 'darren': 2157,\n",
       " 'considering': 1967,\n",
       " 'mah': 4278,\n",
       " 'ask': 1095,\n",
       " 'elsewhere': 2553,\n",
       " 'eat': 2501,\n",
       " 'testing': 6739,\n",
       " 'card': 1650,\n",
       " 'network': 4719,\n",
       " 'sis': 6155,\n",
       " 'bathing': 1249,\n",
       " 'bathe': 1248,\n",
       " 'disturb': 2350,\n",
       " 'cleaning': 1830,\n",
       " 'night': 4747,\n",
       " 'lemme': 4046,\n",
       " 'around': 1070,\n",
       " 'remember': 5661,\n",
       " 'whom': 7451,\n",
       " 'hurt': 3525,\n",
       " 'during': 2478,\n",
       " 'days': 2167,\n",
       " 'satanic': 5879,\n",
       " 'imposter': 3597,\n",
       " 'price': 5376,\n",
       " 'may': 4364,\n",
       " 'destiny': 2264,\n",
       " 'pray': 5338,\n",
       " 'sura': 6585,\n",
       " 'sun': 6559,\n",
       " 'tv': 7037,\n",
       " 'latest': 3998,\n",
       " 'scrounge': 5930,\n",
       " 'ammo': 945,\n",
       " 'ak': 891,\n",
       " 'part': 5056,\n",
       " 'checking': 1752,\n",
       " 'iq': 3702,\n",
       " 'left': 4037,\n",
       " 'orchard': 4948,\n",
       " 'battery': 1252,\n",
       " 'low': 4210,\n",
       " 'wherever': 7438,\n",
       " 'divorce': 2355,\n",
       " 'she': 6044,\n",
       " 'gep': 3091,\n",
       " 'bus': 1566,\n",
       " 'apples': 1027,\n",
       " 'pairs': 5024,\n",
       " 'malarky': 4297,\n",
       " 'va': 7194,\n",
       " 'todays': 6895,\n",
       " '800': 633,\n",
       " '09050000460': 167,\n",
       " 'land': 3972,\n",
       " 'line': 4094,\n",
       " 'j89': 3743,\n",
       " 'box245c2150pm': 1461,\n",
       " 'online': 4908,\n",
       " 'job': 3798,\n",
       " 'bday': 1270,\n",
       " 'april': 1042,\n",
       " 'oooh': 4917,\n",
       " 'bed': 1288,\n",
       " 'ridden': 5752,\n",
       " 'ey': 2717,\n",
       " 'thinking': 6805,\n",
       " 'hoping': 3463,\n",
       " 'langport': 3980,\n",
       " 'tonight': 6923,\n",
       " 'gnarls': 3137,\n",
       " 'barkleys': 1231,\n",
       " 'crazy': 2056,\n",
       " 'totally': 6951,\n",
       " 'auto': 1149,\n",
       " 'correct': 2008,\n",
       " 'yesterday': 7648,\n",
       " 'awaiting': 1168,\n",
       " 'collection': 1889,\n",
       " '09061702893': 202,\n",
       " 'acl03530150pm': 793,\n",
       " 'denying': 2240,\n",
       " 'please': 5218,\n",
       " 'bahamas': 1204,\n",
       " 'callfreefone': 1615,\n",
       " '08081560665': 62,\n",
       " 'speak': 6335,\n",
       " 'operator': 4928,\n",
       " 'either': 2539,\n",
       " 'cruise': 2081,\n",
       " '2000': 350,\n",
       " '18': 321,\n",
       " '07786200117': 34,\n",
       " 'pick': 5168,\n",
       " 'macha': 4259,\n",
       " 'upset': 7154,\n",
       " 'assume': 1111,\n",
       " 'mindset': 4457,\n",
       " 'believe': 1314,\n",
       " 'wonderful': 7536,\n",
       " 'plans': 5206,\n",
       " 'both': 1447,\n",
       " 'begin': 1306,\n",
       " 'later': 3997,\n",
       " '448712404000': 499,\n",
       " '08712404000': 112,\n",
       " 'immediately': 3589,\n",
       " 'look': 4165,\n",
       " 'dhanush': 2279,\n",
       " 'rocks': 5776,\n",
       " 'well': 7407,\n",
       " 'leave': 4032,\n",
       " 'wait': 7308,\n",
       " 'superior': 6572,\n",
       " 'shop': 6076,\n",
       " 'drop': 2445,\n",
       " '10k': 266,\n",
       " '5k': 559,\n",
       " 'travel': 6980,\n",
       " 'voucher': 7281,\n",
       " '09064011000': 215,\n",
       " 'ntt': 4815,\n",
       " 'cr01327bt': 2042,\n",
       " 'fixedline': 2852,\n",
       " 'cost': 2014,\n",
       " '150ppm': 310,\n",
       " 'vary': 7209,\n",
       " 'general': 3082,\n",
       " 'oz': 5009,\n",
       " 'dude': 2465,\n",
       " 'afraid': 850,\n",
       " 'coming': 1907,\n",
       " 'usf': 7181,\n",
       " 'guess': 3249,\n",
       " 'might': 4442,\n",
       " 'car': 1649,\n",
       " 'seems': 5961,\n",
       " 'unnecessarily': 7127,\n",
       " 'hostile': 3474,\n",
       " 'print': 5383,\n",
       " 'outs': 4984,\n",
       " 'consent': 1965,\n",
       " 'forms': 2930,\n",
       " 'vote': 7278,\n",
       " 'sing': 6145,\n",
       " 'along': 922,\n",
       " 'stars': 6416,\n",
       " 'karaoke': 3864,\n",
       " 'norm': 4787,\n",
       " '15': 303,\n",
       " 'st': 6398,\n",
       " 'tests': 6740,\n",
       " 'library': 4065,\n",
       " 'point': 5256,\n",
       " 'letter': 4059,\n",
       " 'access': 778,\n",
       " 'til': 6855,\n",
       " 'better': 1335,\n",
       " 'move': 4574,\n",
       " 'snowboarding': 6249,\n",
       " ...}"
      ]
     },
     "execution_count": 47,
     "metadata": {},
     "output_type": "execute_result"
    }
   ],
   "source": [
    "v.vocabulary_"
   ]
  },
  {
   "cell_type": "code",
   "execution_count": 48,
   "id": "0990e868",
   "metadata": {},
   "outputs": [],
   "source": [
    "def get_spam_number():\n",
    "    if x == \"spam\":\n",
    "        return 1\n",
    "    return 0"
   ]
  },
  {
   "cell_type": "code",
   "execution_count": 51,
   "id": "6c40c19f",
   "metadata": {},
   "outputs": [
    {
     "data": {
      "text/plain": [
       "array([0, 0, 0, ..., 0, 0, 0], shape=(7701,))"
      ]
     },
     "execution_count": 51,
     "metadata": {},
     "output_type": "execute_result"
    }
   ],
   "source": [
    "X_train_np = X_train_cv.toarray()\n",
    "X_train_np[:4][0]"
   ]
  },
  {
   "cell_type": "code",
   "execution_count": 53,
   "id": "b9c1cf97",
   "metadata": {},
   "outputs": [
    {
     "data": {
      "text/plain": [
       "(array([ 258,  354,  694, 1271, 2106, 2568, 2805, 3364, 5687, 5980, 5999,\n",
       "        6460, 6773, 6888, 7396, 7437, 7471, 7474, 7555]),)"
      ]
     },
     "execution_count": 53,
     "metadata": {},
     "output_type": "execute_result"
    }
   ],
   "source": [
    "np.where(X_train_np[0]!=0)"
   ]
  },
  {
   "cell_type": "code",
   "execution_count": 57,
   "id": "f994c31e",
   "metadata": {},
   "outputs": [
    {
     "data": {
      "application/vnd.microsoft.datawrangler.viewer.v0+json": {
       "columns": [
        {
         "name": "index",
         "rawType": "int64",
         "type": "integer"
        },
        {
         "name": "message",
         "rawType": "object",
         "type": "string"
        }
       ],
       "ref": "2ff71f2d-1362-42d4-a246-2686cce0bf98",
       "rows": [
        [
         "1978",
         "Reply to win £100 weekly! Where will the 2006 FIFA World Cup be held? Send STOP to 87239 to end service"
        ],
        [
         "3989",
         "Hello. Sort of out in town already. That . So dont rush home, I am eating nachos. Will let you know eta."
        ],
        [
         "3935",
         "How come guoyang go n tell her? Then u told her?"
        ],
        [
         "4078",
         "Hey sathya till now we dint meet not even a single time then how can i saw the situation sathya."
        ]
       ],
       "shape": {
        "columns": 1,
        "rows": 4
       }
      },
      "text/plain": [
       "1978    Reply to win £100 weekly! Where will the 2006 ...\n",
       "3989    Hello. Sort of out in town already. That . So ...\n",
       "3935     How come guoyang go n tell her? Then u told her?\n",
       "4078    Hey sathya till now we dint meet not even a si...\n",
       "Name: message, dtype: object"
      ]
     },
     "execution_count": 57,
     "metadata": {},
     "output_type": "execute_result"
    }
   ],
   "source": [
    "X_train[:4]"
   ]
  },
  {
   "cell_type": "code",
   "execution_count": null,
   "id": "f2eebec0",
   "metadata": {},
   "outputs": [],
   "source": []
  }
 ],
 "metadata": {
  "kernelspec": {
   "display_name": "nlp_env",
   "language": "python",
   "name": "python3"
  },
  "language_info": {
   "codemirror_mode": {
    "name": "ipython",
    "version": 3
   },
   "file_extension": ".py",
   "mimetype": "text/x-python",
   "name": "python",
   "nbconvert_exporter": "python",
   "pygments_lexer": "ipython3",
   "version": "3.12.5"
  }
 },
 "nbformat": 4,
 "nbformat_minor": 5
}
