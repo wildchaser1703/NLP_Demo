{
 "cells": [
  {
   "cell_type": "code",
   "execution_count": 52,
   "id": "c2864527",
   "metadata": {},
   "outputs": [],
   "source": [
    "from sklearn.feature_extraction.text import TfidfVectorizer\n",
    "import kagglehub\n",
    "import pandas as pd\n",
    "import numpy as np\n",
    "import os\n",
    "\n",
    "corpus = [\n",
    "    \"Thor is eating a pizza, Loki is eating an ice cream, Ironman is eating a cake\",\n",
    "    \"Apple will announce iPhone22 tomorrow\",\n",
    "    \"Gemini flash 2.5 is an excellent model\",\n",
    "    \"Microsoft is announcing Q4 results tomorrow\",\n",
    "    \"Amazon will enter the 10 minutes delivery space on Monday\",\n",
    "    \"Something is fishy\"\n",
    "]"
   ]
  },
  {
   "cell_type": "code",
   "execution_count": 53,
   "id": "e73e42ee",
   "metadata": {},
   "outputs": [
    {
     "name": "stdout",
     "output_type": "stream",
     "text": [
      "{'thor': 31, 'is': 18, 'eating': 9, 'pizza': 25, 'loki': 19, 'an': 2, 'ice': 15, 'cream': 7, 'ironman': 17, 'cake': 6, 'apple': 5, 'will': 33, 'announce': 3, 'iphone22': 16, 'tomorrow': 32, 'gemini': 14, 'flash': 13, 'excellent': 11, 'model': 22, 'microsoft': 20, 'announcing': 4, 'q4': 26, 'results': 27, 'amazon': 1, 'enter': 10, 'the': 30, '10': 0, 'minutes': 21, 'delivery': 8, 'space': 29, 'on': 24, 'monday': 23, 'something': 28, 'fishy': 12}\n"
     ]
    }
   ],
   "source": [
    "v = TfidfVectorizer()\n",
    "transformed_output = v.fit_transform(corpus)\n",
    "print(v.vocabulary_)"
   ]
  },
  {
   "cell_type": "code",
   "execution_count": 54,
   "id": "99f94570",
   "metadata": {},
   "outputs": [
    {
     "name": "stdout",
     "output_type": "stream",
     "text": [
      "10 2.252762968495368\n",
      "amazon 2.252762968495368\n",
      "an 1.8472978603872037\n",
      "announce 2.252762968495368\n",
      "announcing 2.252762968495368\n",
      "apple 2.252762968495368\n",
      "cake 2.252762968495368\n",
      "cream 2.252762968495368\n",
      "delivery 2.252762968495368\n",
      "eating 2.252762968495368\n",
      "enter 2.252762968495368\n",
      "excellent 2.252762968495368\n",
      "fishy 2.252762968495368\n",
      "flash 2.252762968495368\n",
      "gemini 2.252762968495368\n",
      "ice 2.252762968495368\n",
      "iphone22 2.252762968495368\n",
      "ironman 2.252762968495368\n",
      "is 1.336472236621213\n",
      "loki 2.252762968495368\n",
      "microsoft 2.252762968495368\n",
      "minutes 2.252762968495368\n",
      "model 2.252762968495368\n",
      "monday 2.252762968495368\n",
      "on 2.252762968495368\n",
      "pizza 2.252762968495368\n",
      "q4 2.252762968495368\n",
      "results 2.252762968495368\n",
      "something 2.252762968495368\n",
      "space 2.252762968495368\n",
      "the 2.252762968495368\n",
      "thor 2.252762968495368\n",
      "tomorrow 1.8472978603872037\n",
      "will 1.8472978603872037\n"
     ]
    }
   ],
   "source": [
    "all_feature_names = v.get_feature_names_out()\n",
    "for word in all_feature_names:\n",
    "    index = v.vocabulary_.get(word)\n",
    "    print(f\"{word} {v.idf_[index]}\")"
   ]
  },
  {
   "cell_type": "code",
   "execution_count": 55,
   "id": "5d8ae574",
   "metadata": {},
   "outputs": [
    {
     "data": {
      "text/plain": [
       "['Thor is eating a pizza, Loki is eating an ice cream, Ironman is eating a cake',\n",
       " 'Apple will announce iPhone22 tomorrow']"
      ]
     },
     "execution_count": 55,
     "metadata": {},
     "output_type": "execute_result"
    }
   ],
   "source": [
    "corpus[:2]"
   ]
  },
  {
   "cell_type": "code",
   "execution_count": 56,
   "id": "f362853c",
   "metadata": {},
   "outputs": [
    {
     "data": {
      "text/plain": [
       "array([[0.        , 0.        , 0.1840985 , 0.        , 0.        ,\n",
       "        0.        , 0.22450645, 0.22450645, 0.        , 0.67351935,\n",
       "        0.        , 0.        , 0.        , 0.        , 0.        ,\n",
       "        0.22450645, 0.        , 0.22450645, 0.39957152, 0.22450645,\n",
       "        0.        , 0.        , 0.        , 0.        , 0.        ,\n",
       "        0.22450645, 0.        , 0.        , 0.        , 0.        ,\n",
       "        0.        , 0.22450645, 0.        , 0.        ],\n",
       "       [0.        , 0.        , 0.        , 0.47974754, 0.        ,\n",
       "        0.47974754, 0.        , 0.        , 0.        , 0.        ,\n",
       "        0.        , 0.        , 0.        , 0.        , 0.        ,\n",
       "        0.        , 0.47974754, 0.        , 0.        , 0.        ,\n",
       "        0.        , 0.        , 0.        , 0.        , 0.        ,\n",
       "        0.        , 0.        , 0.        , 0.        , 0.        ,\n",
       "        0.        , 0.        , 0.39339985, 0.39339985]])"
      ]
     },
     "execution_count": 56,
     "metadata": {},
     "output_type": "execute_result"
    }
   ],
   "source": [
    "transformed_output.toarray()[:2]"
   ]
  },
  {
   "cell_type": "code",
   "execution_count": 57,
   "id": "1a266668",
   "metadata": {},
   "outputs": [],
   "source": [
    "path = kagglehub.dataset_download(\"saurabhshahane/ecommerce-text-classification\")\n",
    "# print(\"Path to dataset files:\", path)\n",
    "# for root, dirs, files in os.walk(path):\n",
    "#     for file in files:\n",
    "#         print(os.path.join(root, file))\n",
    "csv_path = os.path.join(path, \"ecommerceDataset.csv\")"
   ]
  },
  {
   "cell_type": "code",
   "execution_count": 58,
   "id": "9fd6e4ea",
   "metadata": {},
   "outputs": [
    {
     "data": {
      "application/vnd.microsoft.datawrangler.viewer.v0+json": {
       "columns": [
        {
         "name": "index",
         "rawType": "int64",
         "type": "integer"
        },
        {
         "name": "label",
         "rawType": "object",
         "type": "string"
        },
        {
         "name": "text",
         "rawType": "object",
         "type": "string"
        }
       ],
       "ref": "5f5c2c96-731d-4a1a-a9c5-8b3bbe3cf70d",
       "rows": [
        [
         "0",
         "Household",
         "Paper Plane Design Framed Wall Hanging Motivational Office Decor Art Prints (8.7 X 8.7 inch) - Set of 4 Painting made up in synthetic frame with uv textured print which gives multi effects and attracts towards it. This is an special series of paintings which makes your wall very beautiful and gives a royal touch. This painting is ready to hang, you would be proud to possess this unique painting that is a niche apart. We use only the most modern and efficient printing technology on our prints, with only the and inks and precision epson, roland and hp printers. This innovative hd printing technique results in durable and spectacular looking prints of the highest that last a lifetime. We print solely with top-notch 100% inks, to achieve brilliant and true colours. Due to their high level of uv resistance, our prints retain their beautiful colours for many years. Add colour and style to your living space with this digitally printed painting. Some are for pleasure and some for eternal bliss.so bring home this elegant print that is lushed with rich colors that makes it nothing but sheer elegance to be to your friends and family.it would be treasured forever by whoever your lucky recipient is. Liven up your place with these intriguing paintings that are high definition hd graphic digital prints for home, office or any room."
        ],
        [
         "1",
         "Household",
         "SAF 'Floral' Framed Painting (Wood, 30 inch x 10 inch, Special Effect UV Print Textured, SAO297) Painting made up in synthetic frame with UV textured print which gives multi effects and attracts towards it. This is an special series of paintings which makes your wall very beautiful and gives a royal touch (A perfect gift for your special ones)."
        ],
        [
         "2",
         "Household",
         "SAF 'UV Textured Modern Art Print Framed' Painting (Synthetic, 35 cm x 50 cm x 3 cm, Set of 3) Color:Multicolor                                                                                 |                            Size:35 cm x 50 cm x 3 cm   Overview a beautiful painting involves the action or skill of using paint in the right manner; hence, the end product will be a picture that can speak a thousand words they say. Arts have been in trend for quite some time now. It can give different viewer different meanings style and design the SAF wood matte abstract painting with frame is quite abstract and mysteriously beautiful. The painting has a nice frame to it. You can gift this to a family or a friend. The painting has various forms of certain figures on it as seen in the image. You can add a good set of lights to the place where the painting is and the decor will give a different feel and look to the place. Quality and durability the painting has a matte finish and includes a good quality frame and will last for a long period. However, it does not include glass along with the frame. Specifications you can purchase SAF wood matte abstract painting with frame on amazon.in. It is the most customer-friendly platform with a wide range of products to choose from, and shopping is just a click away!"
        ],
        [
         "3",
         "Household",
         "SAF Flower Print Framed Painting (Synthetic, 13.5 inch x 22 inch, UV Textured, Set of 3, SANFSW4951) Color:Multicolor                                                                                 |                            Size:35 cm x 50 cm x 2 cm   A beautiful painting involves the action or skill of using paint in the right manner, hence, the end product will be a picture that can speak a thousand words they say. Arts have been in trend for quite some time now. It can give different viewer different meanings style and design the saf wood matte painting with frame is quite abstract and mysteriously beautiful. The painting has a nice frame to it. You can gift this to a family or a friend. The painting has various forms of certain figures on it as seen in the image. You can add a good set of lights to the place where the painting is and the decor will give a different feel and look to the place. Quality and durability the painting has a matte finish and includes a good quality frame and will last for a long period. However, it does not include glass along with the frame."
        ],
        [
         "4",
         "Household",
         "Incredible Gifts India Wooden Happy Birthday Unique Personalized Gift (5 X 4 Inch) Size:4 x 5   Made Of Natural Imported Wood, Which Is Quite Solid With Light Particle Pattern & Is Soft Pale To Blond Colour. Your Uploaded Photo Will Look Amazing And Beautiful After Laser Engraving On It. This Is One Of The Most Popular Unique Gifts In Our Store. We Offer This In Multiple Sizes, Some Can Be Used As Table Top And The Big Sizes Can Be Used As Wall Hanging Which Just Blends With Your Home Decaration. You Just Need To Upload A Picture And Add Your Own Text And We Will Do The Rest For You. We Will Email You The Preview Before Making The Final Product. Do You Want The Best Moment Of Your Life To Be Engraved On A Wooden Plaque That Lasts For A Longer Time And Stays Close To You Forever? Then You Are At The Right Place. We Present To You Various Sizes Personalized Engraved Wooden Plaques Made With Birch Wood. Let Your Memories Be Engraved On Wooden Plaques And Stay With Your Forever."
        ],
        [
         "5",
         "Household",
         "Pitaara Box Romantic Venice Canvas Painting 6mm Thick Mdf Frame 21.1 X 14Inch Enclosure Material:MDF Mount Frame                                                                                 |                            Size:21.1inch x 14inch (53.6cms x 35.6cms)   SIZE: 21.1 inch x 14.0 inch (53.6 cms x 35.6 cms)  Enhance the beauty of your room walls with this breathtaking digital printed artwork. Our high-end printing technology captures every detail of the image in our prints on enhanced matte painting canvas, ensuring rich and lively colours. This wall art panel is mounted on MDF and ready to hang on walls. Beautiful interior home d©cor artwork gifts for Living, Dining Room, Outdoor, Gallery, Hotels, Restaurants, Office, Reception, Kitchen Area, Balcony and Bathroom.  Pitaara Box offers an exclusive collection of thousands of artworks, digital paintings, canvas prints, wall posters, and other wall decor products for your home, office, and surroundings. We provide a never-ending range of creative and spectacular art products, which can be used for gifting on every occasion and every season.  TAGS: wall, paintings, canvas, prints, modern, art, abstract, designer, wallart, artwork, home, bedroom, dining, living, drawing, room, digital, printing, bathroom, common, area, kitchen, office, decorative, stretch, stretched, framed, framing, beautiful, classy, royal, special, unique, elegant, stylish, creative, affordable, best, photo, gifts, fabrics, balcony, interior, exterior, outdoor, gallery, hotels, restaurants, colourful, colorful, small, large, extra large, oversized, hangings, giant, slim, durable, waterproof, buy, shop, purchase, decor, online, Places, Vintage, Canvas, romantic, Venice, artwork, painting, style"
        ],
        [
         "6",
         "Household",
         "Paper Plane Design Starry Night Vangoh Wall Art Canvas Painting. Large Size Rolled Canvas Art Print (36\" X 48\") We use only the most modern and efficient printing technology on our canvases, with only the best and original inks and precision Epson< Roland and HP printers. This innovative HD printing technique results in durable and spectacular looking prints of the highest quality that last a lifetime. We print solely with top-notch inks, to achieve brilliant and true colours. Due to their high level of UV Resistance, our Canvas prints retain their beautiful colours for many years. Our canvases contain high levels of white, to ensure that the colours of your original image are reproduced exactly, with brilliant tones. Add colour and style to your living space with this digitally printed canvas painting. Some gifts are for pleasure and some for eternal bliss.So bring home this elegant Canvas print that is lushed with Rich colors that makes it nothing but sheer elegance to be gifted to your friends and family.It would be treasured forever by whoever your lucky recipient is. Liven up your place with these intriguing paintings on canvas that are high definition hd graphic digital prints for home, office or any room. A perfect size of 36 inches x 48 inches suits every size of space and are a great match with every architectural setting. We prove raw canvas prints with special left extra margins for any type of framing required which you can get done as you please. Art comes in a safe delivery tube. prints are made using latest technology and original inks to get a perfect colour and long lasting design."
        ],
        [
         "7",
         "Household",
         "Pitaara Box Romantic Venice Canvas Painting 6mm Thick Mdf Frame 21.1 X 14Inch Enclosure Material:MDF Mount Frame                                                                                 |                            Size:21.1inch x 14inch (53.6cms x 35.6cms)   SIZE: 21.1 inch x 14.0 inch (53.6 cms x 35.6 cms)  Enhance the beauty of your room walls with this breathtaking digital printed artwork. Our high-end printing technology captures every detail of the image in our prints on enhanced matte painting canvas, ensuring rich and lively colours. This wall art panel is mounted on MDF and ready to hang on walls. Beautiful interior home d©cor artwork gifts for Living, Dining Room, Outdoor, Gallery, Hotels, Restaurants, Office, Reception, Kitchen Area, Balcony and Bathroom.  Pitaara Box offers an exclusive collection of thousands of artworks, digital paintings, canvas prints, wall posters, and other wall decor products for your home, office, and surroundings. We provide a never-ending range of creative and spectacular art products, which can be used for gifting on every occasion and every season.  TAGS: wall, paintings, canvas, prints, modern, art, abstract, designer, wallart, artwork, home, bedroom, dining, living, drawing, room, digital, printing, bathroom, common, area, kitchen, office, decorative, stretch, stretched, framed, framing, beautiful, classy, royal, special, unique, elegant, stylish, creative, affordable, best, photo, gifts, fabrics, balcony, interior, exterior, outdoor, gallery, hotels, restaurants, colourful, colorful, small, large, extra large, oversized, hangings, giant, slim, durable, waterproof, buy, shop, purchase, decor, online, Places, Vintage, Canvas, romantic, Venice, artwork, painting, style"
        ],
        [
         "8",
         "Household",
         "SAF 'Ganesh Modern Art Print' Painting (Synthetic, 35 cm x 50 cm x 2 cm, Set of 3) Color:Multicolor   Overview a beautiful painting involves the action or skill of using paint in the right manner; hence, the end product will be a picture that can speak a thousand words they say. Arts have been in trend for quite some time now. It can give different viewer different meanings style and design the SAF wood matte abstract painting with frame is quite abstract and mysteriously beautiful. The painting has a nice frame to it. You can gift this to a family or a friend. The painting has various forms of certain figures on it as seen in the image. You can add a good set of lights to the place where the painting is and the decor will give a different feel and look to the place. Quality and durability the painting has a matte finish and includes a good quality frame and will last for a long period. However, it does not include glass along with the frame. Specifications you can purchase SAF wood matte abstract painting with frame on amazon.in. It is the most customer-friendly platform with a wide range of products to choose from, and shopping is just a click away!"
        ],
        [
         "9",
         "Household",
         "Paintings Villa UV Textured Modern Art Print Framed Painting Home Decoration - Size 35 X 2 X 50 cm Paintings Villa UV Textured Modern Art Print Framed Painting Home Decoration - Size 35 X 2 X 50 cm Decorate your home and office walls with these artistic design satin matt texture framed UV art print from MAV. Each design reflects the artistic qualities and time one has taken to design this poster. Exquisitely printed and framed it is also a perfect gifting option for your colleagues loved ones and family members. These frames don't include glass so it is very light weight and wet cloth can be used to clean it."
        ]
       ],
       "shape": {
        "columns": 2,
        "rows": 10
       }
      },
      "text/html": [
       "<div>\n",
       "<style scoped>\n",
       "    .dataframe tbody tr th:only-of-type {\n",
       "        vertical-align: middle;\n",
       "    }\n",
       "\n",
       "    .dataframe tbody tr th {\n",
       "        vertical-align: top;\n",
       "    }\n",
       "\n",
       "    .dataframe thead th {\n",
       "        text-align: right;\n",
       "    }\n",
       "</style>\n",
       "<table border=\"1\" class=\"dataframe\">\n",
       "  <thead>\n",
       "    <tr style=\"text-align: right;\">\n",
       "      <th></th>\n",
       "      <th>label</th>\n",
       "      <th>text</th>\n",
       "    </tr>\n",
       "  </thead>\n",
       "  <tbody>\n",
       "    <tr>\n",
       "      <th>0</th>\n",
       "      <td>Household</td>\n",
       "      <td>Paper Plane Design Framed Wall Hanging Motivat...</td>\n",
       "    </tr>\n",
       "    <tr>\n",
       "      <th>1</th>\n",
       "      <td>Household</td>\n",
       "      <td>SAF 'Floral' Framed Painting (Wood, 30 inch x ...</td>\n",
       "    </tr>\n",
       "    <tr>\n",
       "      <th>2</th>\n",
       "      <td>Household</td>\n",
       "      <td>SAF 'UV Textured Modern Art Print Framed' Pain...</td>\n",
       "    </tr>\n",
       "    <tr>\n",
       "      <th>3</th>\n",
       "      <td>Household</td>\n",
       "      <td>SAF Flower Print Framed Painting (Synthetic, 1...</td>\n",
       "    </tr>\n",
       "    <tr>\n",
       "      <th>4</th>\n",
       "      <td>Household</td>\n",
       "      <td>Incredible Gifts India Wooden Happy Birthday U...</td>\n",
       "    </tr>\n",
       "    <tr>\n",
       "      <th>5</th>\n",
       "      <td>Household</td>\n",
       "      <td>Pitaara Box Romantic Venice Canvas Painting 6m...</td>\n",
       "    </tr>\n",
       "    <tr>\n",
       "      <th>6</th>\n",
       "      <td>Household</td>\n",
       "      <td>Paper Plane Design Starry Night Vangoh Wall Ar...</td>\n",
       "    </tr>\n",
       "    <tr>\n",
       "      <th>7</th>\n",
       "      <td>Household</td>\n",
       "      <td>Pitaara Box Romantic Venice Canvas Painting 6m...</td>\n",
       "    </tr>\n",
       "    <tr>\n",
       "      <th>8</th>\n",
       "      <td>Household</td>\n",
       "      <td>SAF 'Ganesh Modern Art Print' Painting (Synthe...</td>\n",
       "    </tr>\n",
       "    <tr>\n",
       "      <th>9</th>\n",
       "      <td>Household</td>\n",
       "      <td>Paintings Villa UV Textured Modern Art Print F...</td>\n",
       "    </tr>\n",
       "  </tbody>\n",
       "</table>\n",
       "</div>"
      ],
      "text/plain": [
       "       label                                               text\n",
       "0  Household  Paper Plane Design Framed Wall Hanging Motivat...\n",
       "1  Household  SAF 'Floral' Framed Painting (Wood, 30 inch x ...\n",
       "2  Household  SAF 'UV Textured Modern Art Print Framed' Pain...\n",
       "3  Household  SAF Flower Print Framed Painting (Synthetic, 1...\n",
       "4  Household  Incredible Gifts India Wooden Happy Birthday U...\n",
       "5  Household  Pitaara Box Romantic Venice Canvas Painting 6m...\n",
       "6  Household  Paper Plane Design Starry Night Vangoh Wall Ar...\n",
       "7  Household  Pitaara Box Romantic Venice Canvas Painting 6m...\n",
       "8  Household  SAF 'Ganesh Modern Art Print' Painting (Synthe...\n",
       "9  Household  Paintings Villa UV Textured Modern Art Print F..."
      ]
     },
     "execution_count": 58,
     "metadata": {},
     "output_type": "execute_result"
    }
   ],
   "source": [
    "df = pd.read_csv(csv_path, header = None, names=[\"label\", \"text\"])\n",
    "df.head(10)"
   ]
  },
  {
   "cell_type": "code",
   "execution_count": 59,
   "id": "c5f830ad",
   "metadata": {},
   "outputs": [
    {
     "data": {
      "application/vnd.microsoft.datawrangler.viewer.v0+json": {
       "columns": [
        {
         "name": "label",
         "rawType": "object",
         "type": "string"
        },
        {
         "name": "count",
         "rawType": "int64",
         "type": "integer"
        }
       ],
       "ref": "c626c255-0152-4703-86a4-d53dd76b1dd8",
       "rows": [
        [
         "Household",
         "19313"
        ],
        [
         "Books",
         "11820"
        ],
        [
         "Electronics",
         "10621"
        ],
        [
         "Clothing & Accessories",
         "8671"
        ]
       ],
       "shape": {
        "columns": 1,
        "rows": 4
       }
      },
      "text/plain": [
       "label\n",
       "Household                 19313\n",
       "Books                     11820\n",
       "Electronics               10621\n",
       "Clothing & Accessories     8671\n",
       "Name: count, dtype: int64"
      ]
     },
     "execution_count": 59,
     "metadata": {},
     "output_type": "execute_result"
    }
   ],
   "source": [
    "df[\"label\"].value_counts()"
   ]
  },
  {
   "cell_type": "code",
   "execution_count": 60,
   "id": "27524ce4",
   "metadata": {},
   "outputs": [],
   "source": [
    "## handle imbalance simply\n",
    "min_size = 8671\n",
    "df_household = df[df[\"label\"] == \"Household\"].sample(min_size, random_state = 42)\n",
    "df_books = df[df[\"label\"] == \"Books\"].sample(min_size, random_state = 42)\n",
    "df_electronics = df[df[\"label\"] == \"Electronics\"].sample(min_size, random_state = 42)\n",
    "df_clothing = df[df[\"label\"] == \"Clothing & Accessories\"].sample(min_size, random_state = 42)"
   ]
  },
  {
   "cell_type": "code",
   "execution_count": 61,
   "id": "c6192526",
   "metadata": {},
   "outputs": [
    {
     "data": {
      "application/vnd.microsoft.datawrangler.viewer.v0+json": {
       "columns": [
        {
         "name": "label",
         "rawType": "object",
         "type": "string"
        },
        {
         "name": "count",
         "rawType": "int64",
         "type": "integer"
        }
       ],
       "ref": "da89eb20-9e74-4754-abf5-52e33f9000f1",
       "rows": [
        [
         "Household",
         "8671"
        ],
        [
         "Books",
         "8671"
        ],
        [
         "Electronics",
         "8671"
        ],
        [
         "Clothing & Accessories",
         "8671"
        ]
       ],
       "shape": {
        "columns": 1,
        "rows": 4
       }
      },
      "text/plain": [
       "label\n",
       "Household                 8671\n",
       "Books                     8671\n",
       "Electronics               8671\n",
       "Clothing & Accessories    8671\n",
       "Name: count, dtype: int64"
      ]
     },
     "execution_count": 61,
     "metadata": {},
     "output_type": "execute_result"
    }
   ],
   "source": [
    "df_balanced = pd.concat([df_household, df_books, df_electronics, df_clothing], axis = 0)\n",
    "df_balanced[\"label\"].value_counts()"
   ]
  },
  {
   "cell_type": "code",
   "execution_count": 62,
   "id": "ef68242c",
   "metadata": {},
   "outputs": [],
   "source": [
    "df_balanced[\"new_label\"] = df_balanced.label.map({\n",
    "    \"Household\" : 0,\n",
    "    \"Books\" : 1,\n",
    "    \"Electronics\" : 2,\n",
    "    \"Clothing & Accessories\" : 3\n",
    "})"
   ]
  },
  {
   "cell_type": "code",
   "execution_count": 63,
   "id": "af7d8af0",
   "metadata": {},
   "outputs": [
    {
     "data": {
      "application/vnd.microsoft.datawrangler.viewer.v0+json": {
       "columns": [
        {
         "name": "index",
         "rawType": "int64",
         "type": "integer"
        },
        {
         "name": "label",
         "rawType": "object",
         "type": "string"
        },
        {
         "name": "text",
         "rawType": "object",
         "type": "string"
        },
        {
         "name": "new_label",
         "rawType": "int64",
         "type": "integer"
        }
       ],
       "ref": "c806060a-4c24-41ed-a57b-63b96bcc6afc",
       "rows": [
        [
         "12340",
         "Household",
         "Riedel VINUM Cognac Glasses, Set of 2 Size:Set of 2                                                                                 |                            Style:Cognac   6416/71 Features: -Hennessy cognac glass.-Lead crystal.-Gift boxed.-Dishwasher safe. Dimensions: -7.25'' H. Collection: -Vinum collection.",
         "0"
        ],
        [
         "7144",
         "Household",
         "ANSIO Polyester Shower Curtain for Bathroom - Solid White (71 x 71- inch / 180 x 180 cm) Ready to hang shower curtain made of 100% polyester and of size 1.8 m x 1.8 m available in solid white colour and includes 12 hard wearing plastic hook measures 180 x 180 cm for full coverage, soft fabric and machine washable",
         "0"
        ],
        [
         "4400",
         "Household",
         "Little India Meenakari Work Lord Ganesh Marble Pooja Chowki (White) Celestial Ganesha idol made from white marble hand painted in red and gold, studded with colorful stones, idol sitting on the marble chowki. Bring home this season, the precious \"\"lord Ganesha with peocock on marble chowki \"\" to decorate and create an auspicious aura in your living space. Made of marble, it has been hand enameled using rich red, green, blue and golden colors. It serves as a great gift, especially around religious celebrations and festivities.",
         "0"
        ],
        [
         "9992",
         "Household",
         "PETRICE Triple Paper Dispenser | 4 in 1 Foil Cling Film Tissue Paper Roll Holder for Kitchen with Spice Rack -White | Kitchen Triple Paper Roll Dispenser & Holder for Tissue Paper Roll Convenient, Quick, Practical, Healthy triple Dispensers Where You Can Load Paper Towel, Aluminium Foil Roll And Cling Film time Saving And Easier To Maintain Than Cutting The Rolls Manually great Idea To Store Aluminum Foil And Paper Towel, Cling Film In One Dispenser compact Body That Saves A Large Space In Kitchen simple Front Loading With Mountable Paper Towel Rack durable Plastic Construction easy To Set-up And Refill.",
         "0"
        ],
        [
         "16601",
         "Household",
         "KC Cab Copper PVC Insulated Wire 90 m Coil(Red) KC Cab brings you the cable of 0.5 sq mm to 6.00 sq mm length. Available in six colors, this cable has copper conductors, which are highly effective in supplying power without any breakdown. KC Cab has come a long way in establishing itself as a major player in the Cable and wires industry. With the extensive knowledge and experience in this respective domain, we are engaged in offering PVC Insulated Industrial Cables. This is a product of electrical wires from KC Cab. These Wires are ideal for wiring of electrical control panels, industrial sheds, buildings, and so on.",
         "0"
        ]
       ],
       "shape": {
        "columns": 3,
        "rows": 5
       }
      },
      "text/html": [
       "<div>\n",
       "<style scoped>\n",
       "    .dataframe tbody tr th:only-of-type {\n",
       "        vertical-align: middle;\n",
       "    }\n",
       "\n",
       "    .dataframe tbody tr th {\n",
       "        vertical-align: top;\n",
       "    }\n",
       "\n",
       "    .dataframe thead th {\n",
       "        text-align: right;\n",
       "    }\n",
       "</style>\n",
       "<table border=\"1\" class=\"dataframe\">\n",
       "  <thead>\n",
       "    <tr style=\"text-align: right;\">\n",
       "      <th></th>\n",
       "      <th>label</th>\n",
       "      <th>text</th>\n",
       "      <th>new_label</th>\n",
       "    </tr>\n",
       "  </thead>\n",
       "  <tbody>\n",
       "    <tr>\n",
       "      <th>12340</th>\n",
       "      <td>Household</td>\n",
       "      <td>Riedel VINUM Cognac Glasses, Set of 2 Size:Set...</td>\n",
       "      <td>0</td>\n",
       "    </tr>\n",
       "    <tr>\n",
       "      <th>7144</th>\n",
       "      <td>Household</td>\n",
       "      <td>ANSIO Polyester Shower Curtain for Bathroom - ...</td>\n",
       "      <td>0</td>\n",
       "    </tr>\n",
       "    <tr>\n",
       "      <th>4400</th>\n",
       "      <td>Household</td>\n",
       "      <td>Little India Meenakari Work Lord Ganesh Marble...</td>\n",
       "      <td>0</td>\n",
       "    </tr>\n",
       "    <tr>\n",
       "      <th>9992</th>\n",
       "      <td>Household</td>\n",
       "      <td>PETRICE Triple Paper Dispenser | 4 in 1 Foil C...</td>\n",
       "      <td>0</td>\n",
       "    </tr>\n",
       "    <tr>\n",
       "      <th>16601</th>\n",
       "      <td>Household</td>\n",
       "      <td>KC Cab Copper PVC Insulated Wire 90 m Coil(Red...</td>\n",
       "      <td>0</td>\n",
       "    </tr>\n",
       "  </tbody>\n",
       "</table>\n",
       "</div>"
      ],
      "text/plain": [
       "           label                                               text  new_label\n",
       "12340  Household  Riedel VINUM Cognac Glasses, Set of 2 Size:Set...          0\n",
       "7144   Household  ANSIO Polyester Shower Curtain for Bathroom - ...          0\n",
       "4400   Household  Little India Meenakari Work Lord Ganesh Marble...          0\n",
       "9992   Household  PETRICE Triple Paper Dispenser | 4 in 1 Foil C...          0\n",
       "16601  Household  KC Cab Copper PVC Insulated Wire 90 m Coil(Red...          0"
      ]
     },
     "execution_count": 63,
     "metadata": {},
     "output_type": "execute_result"
    }
   ],
   "source": [
    "df_balanced.head()"
   ]
  },
  {
   "cell_type": "code",
   "execution_count": 64,
   "id": "4386ae08",
   "metadata": {},
   "outputs": [],
   "source": [
    "from sklearn.model_selection import train_test_split\n",
    "X_train, X_test, y_train, y_test = train_test_split(df_balanced[\"text\"], df_balanced[\"new_label\"], test_size = 0.2, stratify = df_balanced[\"new_label\"], random_state = 42)"
   ]
  },
  {
   "cell_type": "code",
   "execution_count": 65,
   "id": "e102c688",
   "metadata": {},
   "outputs": [
    {
     "name": "stdout",
     "output_type": "stream",
     "text": [
      "(27747,)\n"
     ]
    },
    {
     "data": {
      "application/vnd.microsoft.datawrangler.viewer.v0+json": {
       "columns": [
        {
         "name": "index",
         "rawType": "int64",
         "type": "integer"
        },
        {
         "name": "text",
         "rawType": "object",
         "type": "string"
        }
       ],
       "ref": "6cc8c299-f432-478f-807e-b13464d37bf7",
       "rows": [
        [
         "36851",
         "MISMXC Women's Concealed Lace Small Thigh Purse Holster Garter with Pockets (Medium, Skin Color) MI SMXC is a registered brand, You may find similar design with our product, please be aware quality is totally different. MISMXC offers quality assurance to ensure your risk free shopping experience. If there is anything issues please contact us directly. Your feedback and suggestions will help us make better products and provide better service. Thigh Garter with Security Pocket Purses can be a burden or even unsafe in certain situations. Secretly stash your essentials in the Lace Cell Phone Garter and go hands-free, worry-free when you go to a parties, nightclubs, bars, at the beach & dancing. So thin hides discreetly under dresses and skirts of all kinds. But for a real sexy look reveal it in your favorite swimsuit or mini skirt! Product Features: - New Brand & High Quality -Materialï¼šNylon/Lace -Size: S/M/L -Package includes: :1 * Thigh Garter MISMXC shop selling a variety of garter belt Welcome!. All products are imported from the USA. Genuine Imported Products from USA. Prices include Import Custom Duties and Taxes with Free Shipping to your doortstep!"
        ],
        [
         "38321",
         "Fashion League Ultra-Thin Transparent skin Ankle length women/girls socks (Set of 6 Pair) Get the no-socks look with these extremely discreet loafer socks from Fashion League. The socks not only help you look good but also enhance the life of your shoes, while keeping your feet clean and fresh. Machine wash in warm water - tumble dry.Y heel construction for better fit and performance."
        ],
        [
         "6775",
         "HOKIPO PVC Kitchen Placemats, Plastic, Multicolour, 45x30cm (6 Pieces) #productDescription .aplus-3p {width: 970px} .aplus-3p ul {overflow: hidden;} .aplus-3p ul li {list-style-position: inside;} #productDescription .aplus-3p table {border-collapse: collapse !important; width: 100% !important} #productDescription .aplus-3p .one-col {width: 100%; margin-bottom: 1em} #productDescription .aplus-3p .one-col .image-wrapper {margin-bottom: 1em} #productDescription .aplus-3p .leftImage {margin-bottom: 0} #productDescription .aplus-3p .leftImage.image-wrapper {max-width: 300px;} #productDescription .aplus-3p .image-wrapper img {max-width: none;} .aplus-3p .image-wrapper {display: inline-block; text-align: center} #productDescription .aplus-3p .image-caption {font-size: 0.9em; margin-top: 5px} #productDescription .aplus-3p table tr {vertical-align: top;} .apcs-eventhirdcol {width:300px; display:block;} .apcs-eventhirdcol-table {width: 100%; border-collapse: separate;} .apcs-eventhirdcol-table th {text-align: center; vertical-align: top;} .apcs-eventhirdcol-table tr td {vertical-align: top;} .apcs-eventhirdcol-table tr td:first-child {padding-right: 17px;} .apcs-eventhirdcol-table tr td:first-child + td {padding: 0 17px;} .apcs-eventhirdcol-table tr td:first-child + td + td {padding-left: 17px;}"
        ],
        [
         "3128",
         "Gion Portable Pedestal 5 Blades Lightweight air Cooling Fan with Telescopic Stand The Pedestal fan helps you bear soaring summer temperatures. With the powerful motor, this fan keeps your home well ventilated and cool. It also provides instant cooling. You can conveniently move this portable fan around your home and install it in any of your rooms. Featuring Five broad blades, the fan increases the airflow in the room. The Fan produces jerk-free, uniform oscillations at all the speeds. Designed for Indian weather conditions. Light in weight, easy to carry. Changeable Angles, Allows air flow direction control. Specifications: No. of Detachable Blades: 5 Blade Length Size: 17cm Power Source : Electric RPM : 680 Speed : 600r/m Operating Voltage: 220Volts Adjustable height Features Minimum Noise. Not harmful if touches due to soft & Lightweight Blade Attractive and Compact Design Easy to assemble when it is needed Air Cooling Fan"
        ],
        [
         "36637",
         "Xs and Os Women Halter Neck Babydoll Lingerie with Panty Xs and Os Women Halter Transparent Mesh Babydoll Lingerie Underwear Sleepwear Set G string. Unique semi-sheer design for the perfect look. Adjustable halter straps and attractive babydoll design,Semi-sheer babydoll lingerie outfit mesh sleepwear. Adjustable Halter ties design, Off the shoulder, backless. Makes you feel pretty and loved at the same time. This is a FREE SIZE babydoll lingerie. One size fits most. Will fit well for SMALL, MEDIUM , LARGE sizes. Bust ( 30 to 36 inch), Waist ( 28 to 36 inch)"
        ]
       ],
       "shape": {
        "columns": 1,
        "rows": 5
       }
      },
      "text/plain": [
       "36851    MISMXC Women's Concealed Lace Small Thigh Purs...\n",
       "38321    Fashion League Ultra-Thin Transparent skin Ank...\n",
       "6775     HOKIPO PVC Kitchen Placemats, Plastic, Multico...\n",
       "3128     Gion Portable Pedestal 5 Blades Lightweight ai...\n",
       "36637    Xs and Os Women Halter Neck Babydoll Lingerie ...\n",
       "Name: text, dtype: object"
      ]
     },
     "execution_count": 65,
     "metadata": {},
     "output_type": "execute_result"
    }
   ],
   "source": [
    "print(X_train.shape)\n",
    "X_train.head()"
   ]
  },
  {
   "cell_type": "code",
   "execution_count": 72,
   "id": "df16b3b9",
   "metadata": {},
   "outputs": [
    {
     "name": "stdout",
     "output_type": "stream",
     "text": [
      "(6937,)\n",
      "1\n"
     ]
    }
   ],
   "source": [
    "print(X_test.shape)\n",
    "X_test.head()\n",
    "print(X_test.isnull().sum())\n",
    "X_test = X_test.fillna(\"\")"
   ]
  },
  {
   "cell_type": "code",
   "execution_count": 66,
   "id": "e93d89af",
   "metadata": {},
   "outputs": [],
   "source": [
    "from sklearn.neighbors import KNeighborsClassifier\n",
    "from sklearn.pipeline import Pipeline\n",
    "from sklearn.metrics import classification_report\n",
    "\n",
    "clf = Pipeline([\n",
    "    ('vectorizer', TfidfVectorizer()),\n",
    "    ('KNN', KNeighborsClassifier())\n",
    "])"
   ]
  },
  {
   "cell_type": "code",
   "execution_count": 74,
   "id": "8312a76d",
   "metadata": {},
   "outputs": [
    {
     "name": "stdout",
     "output_type": "stream",
     "text": [
      "              precision    recall  f1-score   support\n",
      "\n",
      "           0       0.94      0.95      0.94      1734\n",
      "           1       0.96      0.95      0.96      1734\n",
      "           2       0.95      0.96      0.96      1735\n",
      "           3       0.97      0.97      0.97      1734\n",
      "\n",
      "    accuracy                           0.96      6937\n",
      "   macro avg       0.96      0.96      0.96      6937\n",
      "weighted avg       0.96      0.96      0.96      6937\n",
      "\n"
     ]
    }
   ],
   "source": [
    "clf.fit(X_train, y_train)\n",
    "y_pred = clf.predict(X_test)\n",
    "print(classification_report(y_test, y_pred))"
   ]
  },
  {
   "cell_type": "markdown",
   "id": "fda80129",
   "metadata": {},
   "source": [
    "### Observation\n",
    "f1-scores are pretty good"
   ]
  },
  {
   "cell_type": "code",
   "execution_count": 75,
   "id": "1a24c69e",
   "metadata": {},
   "outputs": [
    {
     "data": {
      "application/vnd.microsoft.datawrangler.viewer.v0+json": {
       "columns": [
        {
         "name": "index",
         "rawType": "int64",
         "type": "integer"
        },
        {
         "name": "new_label",
         "rawType": "int64",
         "type": "integer"
        }
       ],
       "ref": "025f0b00-3a23-4fa5-8900-81656c767f4d",
       "rows": [
        [
         "48662",
         "2"
        ],
        [
         "37647",
         "3"
        ],
        [
         "37414",
         "3"
        ],
        [
         "34324",
         "3"
        ],
        [
         "36843",
         "3"
        ]
       ],
       "shape": {
        "columns": 1,
        "rows": 5
       }
      },
      "text/plain": [
       "48662    2\n",
       "37647    3\n",
       "37414    3\n",
       "34324    3\n",
       "36843    3\n",
       "Name: new_label, dtype: int64"
      ]
     },
     "execution_count": 75,
     "metadata": {},
     "output_type": "execute_result"
    }
   ],
   "source": [
    "y_test[:5]"
   ]
  },
  {
   "cell_type": "code",
   "execution_count": 76,
   "id": "5bd56e5c",
   "metadata": {},
   "outputs": [
    {
     "data": {
      "text/plain": [
       "array([2, 3, 3, 3, 3])"
      ]
     },
     "execution_count": 76,
     "metadata": {},
     "output_type": "execute_result"
    }
   ],
   "source": [
    "y_pred[:5]"
   ]
  },
  {
   "cell_type": "markdown",
   "id": "98eee1f2",
   "metadata": {},
   "source": [
    "## Observation\n",
    "5/5 observation are correct :)"
   ]
  }
 ],
 "metadata": {
  "kernelspec": {
   "display_name": "nlp_env",
   "language": "python",
   "name": "python3"
  },
  "language_info": {
   "codemirror_mode": {
    "name": "ipython",
    "version": 3
   },
   "file_extension": ".py",
   "mimetype": "text/x-python",
   "name": "python",
   "nbconvert_exporter": "python",
   "pygments_lexer": "ipython3",
   "version": "3.12.5"
  }
 },
 "nbformat": 4,
 "nbformat_minor": 5
}
