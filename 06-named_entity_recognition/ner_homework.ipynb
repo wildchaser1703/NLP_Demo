{
 "cells": [
  {
   "cell_type": "markdown",
   "id": "e675c60f",
   "metadata": {},
   "source": [
    "### NER Exercise"
   ]
  },
  {
   "cell_type": "markdown",
   "id": "cb2cb829",
   "metadata": {},
   "source": [
    "Exercise 1: \n",
    "Extract all the Geographical (cities, countries, states) data from a given text"
   ]
  },
  {
   "cell_type": "code",
   "execution_count": 14,
   "id": "3ed550df",
   "metadata": {},
   "outputs": [],
   "source": [
    "text = \"\"\"\n",
    "Kiran want to know the famous foods in each state of India.\n",
    "So, he opened Google and search for this question. Google showed that \n",
    "in Delhi it is Chaat, in Gujarat it is Dal Dhokli, in Tamilnadu it is Pongal,\n",
    "in Andhrapradesh it is Biryani, in Odisha it is Chennapoda and so on for all other states\n",
    "\"\"\""
   ]
  },
  {
   "cell_type": "markdown",
   "id": "0ea6c5fa",
   "metadata": {},
   "source": [
    "### Solution to exercise 1"
   ]
  },
  {
   "cell_type": "code",
   "execution_count": 15,
   "id": "84448955",
   "metadata": {},
   "outputs": [],
   "source": [
    "import spacy\n",
    "nlp = spacy.load(\"en_core_web_sm\")"
   ]
  },
  {
   "cell_type": "code",
   "execution_count": 18,
   "id": "738b3389",
   "metadata": {},
   "outputs": [
    {
     "data": {
      "text/plain": [
       "[India, Delhi, Gujarat, Tamilnadu, Andhrapradesh, Odisha]"
      ]
     },
     "execution_count": 18,
     "metadata": {},
     "output_type": "execute_result"
    }
   ],
   "source": [
    "doc = nlp(text)\n",
    "geo = []\n",
    "\n",
    "for ent in doc.ents:\n",
    "  if ent.label_ == 'GPE': \n",
    "    geo.append(ent)\n",
    "geo\n",
    "## Hint: Because of the way the model is trained, it doesn't recognise\n",
    "## Tamil Nadu/TamilNadu. Same with Andhrapradesh"
   ]
  },
  {
   "cell_type": "markdown",
   "id": "7455288c",
   "metadata": {},
   "source": [
    "Exercise 2: Extract all the birth dates of cricketers in the given text"
   ]
  },
  {
   "cell_type": "code",
   "execution_count": 20,
   "id": "fb92b05c",
   "metadata": {},
   "outputs": [],
   "source": [
    "text = \"\"\"\n",
    "Sachin Tendulkar was born on 24 April 1973, Virat Kholi was born on 5 November 1988,\n",
    "Dhoni was born on 7 July 1981 and finally Ricky ponting was born on 19 December 1974.\n",
    "\"\"\""
   ]
  },
  {
   "cell_type": "code",
   "execution_count": 21,
   "id": "f94ee626",
   "metadata": {},
   "outputs": [
    {
     "data": {
      "text/plain": [
       "[24 April 1973, 5 November 1988, 7 July 1981, 19 December 1974]"
      ]
     },
     "execution_count": 21,
     "metadata": {},
     "output_type": "execute_result"
    }
   ],
   "source": [
    "doc = nlp(text)\n",
    "dates = []\n",
    "for ent in doc.ents:\n",
    "  if ent.label_ == 'DATE':     \n",
    "    dates.append(ent)\n",
    "dates"
   ]
  }
 ],
 "metadata": {
  "kernelspec": {
   "display_name": "nlp_env",
   "language": "python",
   "name": "python3"
  },
  "language_info": {
   "codemirror_mode": {
    "name": "ipython",
    "version": 3
   },
   "file_extension": ".py",
   "mimetype": "text/x-python",
   "name": "python",
   "nbconvert_exporter": "python",
   "pygments_lexer": "ipython3",
   "version": "3.12.5"
  }
 },
 "nbformat": 4,
 "nbformat_minor": 5
}
