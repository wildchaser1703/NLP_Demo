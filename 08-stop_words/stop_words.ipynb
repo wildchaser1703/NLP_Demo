{
 "cells": [
  {
   "cell_type": "code",
   "execution_count": 18,
   "id": "5b869e31",
   "metadata": {},
   "outputs": [],
   "source": [
    "import spacy\n",
    "import pandas as pd"
   ]
  },
  {
   "cell_type": "code",
   "execution_count": 19,
   "id": "0c91b21b",
   "metadata": {},
   "outputs": [
    {
     "data": {
      "text/plain": [
       "({\"'d\",\n",
       "  \"'ll\",\n",
       "  \"'m\",\n",
       "  \"'re\",\n",
       "  \"'s\",\n",
       "  \"'ve\",\n",
       "  'a',\n",
       "  'about',\n",
       "  'above',\n",
       "  'across',\n",
       "  'after',\n",
       "  'afterwards',\n",
       "  'again',\n",
       "  'against',\n",
       "  'all',\n",
       "  'almost',\n",
       "  'alone',\n",
       "  'along',\n",
       "  'already',\n",
       "  'also',\n",
       "  'although',\n",
       "  'always',\n",
       "  'am',\n",
       "  'among',\n",
       "  'amongst',\n",
       "  'amount',\n",
       "  'an',\n",
       "  'and',\n",
       "  'another',\n",
       "  'any',\n",
       "  'anyhow',\n",
       "  'anyone',\n",
       "  'anything',\n",
       "  'anyway',\n",
       "  'anywhere',\n",
       "  'are',\n",
       "  'around',\n",
       "  'as',\n",
       "  'at',\n",
       "  'back',\n",
       "  'be',\n",
       "  'became',\n",
       "  'because',\n",
       "  'become',\n",
       "  'becomes',\n",
       "  'becoming',\n",
       "  'been',\n",
       "  'before',\n",
       "  'beforehand',\n",
       "  'behind',\n",
       "  'being',\n",
       "  'below',\n",
       "  'beside',\n",
       "  'besides',\n",
       "  'between',\n",
       "  'beyond',\n",
       "  'both',\n",
       "  'bottom',\n",
       "  'but',\n",
       "  'by',\n",
       "  'ca',\n",
       "  'call',\n",
       "  'can',\n",
       "  'cannot',\n",
       "  'could',\n",
       "  'did',\n",
       "  'do',\n",
       "  'does',\n",
       "  'doing',\n",
       "  'done',\n",
       "  'down',\n",
       "  'due',\n",
       "  'during',\n",
       "  'each',\n",
       "  'eight',\n",
       "  'either',\n",
       "  'eleven',\n",
       "  'else',\n",
       "  'elsewhere',\n",
       "  'empty',\n",
       "  'enough',\n",
       "  'even',\n",
       "  'ever',\n",
       "  'every',\n",
       "  'everyone',\n",
       "  'everything',\n",
       "  'everywhere',\n",
       "  'except',\n",
       "  'few',\n",
       "  'fifteen',\n",
       "  'fifty',\n",
       "  'first',\n",
       "  'five',\n",
       "  'for',\n",
       "  'former',\n",
       "  'formerly',\n",
       "  'forty',\n",
       "  'four',\n",
       "  'from',\n",
       "  'front',\n",
       "  'full',\n",
       "  'further',\n",
       "  'get',\n",
       "  'give',\n",
       "  'go',\n",
       "  'had',\n",
       "  'has',\n",
       "  'have',\n",
       "  'he',\n",
       "  'hence',\n",
       "  'her',\n",
       "  'here',\n",
       "  'hereafter',\n",
       "  'hereby',\n",
       "  'herein',\n",
       "  'hereupon',\n",
       "  'hers',\n",
       "  'herself',\n",
       "  'him',\n",
       "  'himself',\n",
       "  'his',\n",
       "  'how',\n",
       "  'however',\n",
       "  'hundred',\n",
       "  'i',\n",
       "  'if',\n",
       "  'in',\n",
       "  'indeed',\n",
       "  'into',\n",
       "  'is',\n",
       "  'it',\n",
       "  'its',\n",
       "  'itself',\n",
       "  'just',\n",
       "  'keep',\n",
       "  'last',\n",
       "  'latter',\n",
       "  'latterly',\n",
       "  'least',\n",
       "  'less',\n",
       "  'made',\n",
       "  'make',\n",
       "  'many',\n",
       "  'may',\n",
       "  'me',\n",
       "  'meanwhile',\n",
       "  'might',\n",
       "  'mine',\n",
       "  'more',\n",
       "  'moreover',\n",
       "  'most',\n",
       "  'mostly',\n",
       "  'move',\n",
       "  'much',\n",
       "  'must',\n",
       "  'my',\n",
       "  'myself',\n",
       "  \"n't\",\n",
       "  'name',\n",
       "  'namely',\n",
       "  'neither',\n",
       "  'never',\n",
       "  'nevertheless',\n",
       "  'next',\n",
       "  'nine',\n",
       "  'no',\n",
       "  'nobody',\n",
       "  'none',\n",
       "  'noone',\n",
       "  'nor',\n",
       "  'not',\n",
       "  'nothing',\n",
       "  'now',\n",
       "  'nowhere',\n",
       "  'n‘t',\n",
       "  'n’t',\n",
       "  'of',\n",
       "  'off',\n",
       "  'often',\n",
       "  'on',\n",
       "  'once',\n",
       "  'one',\n",
       "  'only',\n",
       "  'onto',\n",
       "  'or',\n",
       "  'other',\n",
       "  'others',\n",
       "  'otherwise',\n",
       "  'our',\n",
       "  'ours',\n",
       "  'ourselves',\n",
       "  'out',\n",
       "  'over',\n",
       "  'own',\n",
       "  'part',\n",
       "  'per',\n",
       "  'perhaps',\n",
       "  'please',\n",
       "  'put',\n",
       "  'quite',\n",
       "  'rather',\n",
       "  're',\n",
       "  'really',\n",
       "  'regarding',\n",
       "  'same',\n",
       "  'say',\n",
       "  'see',\n",
       "  'seem',\n",
       "  'seemed',\n",
       "  'seeming',\n",
       "  'seems',\n",
       "  'serious',\n",
       "  'several',\n",
       "  'she',\n",
       "  'should',\n",
       "  'show',\n",
       "  'side',\n",
       "  'since',\n",
       "  'six',\n",
       "  'sixty',\n",
       "  'so',\n",
       "  'some',\n",
       "  'somehow',\n",
       "  'someone',\n",
       "  'something',\n",
       "  'sometime',\n",
       "  'sometimes',\n",
       "  'somewhere',\n",
       "  'still',\n",
       "  'such',\n",
       "  'take',\n",
       "  'ten',\n",
       "  'than',\n",
       "  'that',\n",
       "  'the',\n",
       "  'their',\n",
       "  'them',\n",
       "  'themselves',\n",
       "  'then',\n",
       "  'thence',\n",
       "  'there',\n",
       "  'thereafter',\n",
       "  'thereby',\n",
       "  'therefore',\n",
       "  'therein',\n",
       "  'thereupon',\n",
       "  'these',\n",
       "  'they',\n",
       "  'third',\n",
       "  'this',\n",
       "  'those',\n",
       "  'though',\n",
       "  'three',\n",
       "  'through',\n",
       "  'throughout',\n",
       "  'thru',\n",
       "  'thus',\n",
       "  'to',\n",
       "  'together',\n",
       "  'too',\n",
       "  'top',\n",
       "  'toward',\n",
       "  'towards',\n",
       "  'twelve',\n",
       "  'twenty',\n",
       "  'two',\n",
       "  'under',\n",
       "  'unless',\n",
       "  'until',\n",
       "  'up',\n",
       "  'upon',\n",
       "  'us',\n",
       "  'used',\n",
       "  'using',\n",
       "  'various',\n",
       "  'very',\n",
       "  'via',\n",
       "  'was',\n",
       "  'we',\n",
       "  'well',\n",
       "  'were',\n",
       "  'what',\n",
       "  'whatever',\n",
       "  'when',\n",
       "  'whence',\n",
       "  'whenever',\n",
       "  'where',\n",
       "  'whereafter',\n",
       "  'whereas',\n",
       "  'whereby',\n",
       "  'wherein',\n",
       "  'whereupon',\n",
       "  'wherever',\n",
       "  'whether',\n",
       "  'which',\n",
       "  'while',\n",
       "  'whither',\n",
       "  'who',\n",
       "  'whoever',\n",
       "  'whole',\n",
       "  'whom',\n",
       "  'whose',\n",
       "  'why',\n",
       "  'will',\n",
       "  'with',\n",
       "  'within',\n",
       "  'without',\n",
       "  'would',\n",
       "  'yet',\n",
       "  'you',\n",
       "  'your',\n",
       "  'yours',\n",
       "  'yourself',\n",
       "  'yourselves',\n",
       "  '‘d',\n",
       "  '‘ll',\n",
       "  '‘m',\n",
       "  '‘re',\n",
       "  '‘s',\n",
       "  '‘ve',\n",
       "  '’d',\n",
       "  '’ll',\n",
       "  '’m',\n",
       "  '’re',\n",
       "  '’s',\n",
       "  '’ve'},\n",
       " 326)"
      ]
     },
     "execution_count": 19,
     "metadata": {},
     "output_type": "execute_result"
    }
   ],
   "source": [
    "from spacy.lang.en.stop_words import STOP_WORDS\n",
    "STOP_WORDS, len(STOP_WORDS)"
   ]
  },
  {
   "cell_type": "code",
   "execution_count": 20,
   "id": "5648296a",
   "metadata": {},
   "outputs": [
    {
     "name": "stdout",
     "output_type": "stream",
     "text": [
      "We\n",
      "just\n",
      "up\n",
      "a\n",
      "us\n",
      "at\n"
     ]
    }
   ],
   "source": [
    "nlp = spacy.load(\"en_core_web_sm\")\n",
    "doc = nlp(\"We just opened up a barbeque store. Come join us at 8pm ET!\")\n",
    "\n",
    "for token in doc:\n",
    "    if token.is_stop:\n",
    "        print(token)"
   ]
  },
  {
   "cell_type": "code",
   "execution_count": 37,
   "id": "e8ebd129",
   "metadata": {},
   "outputs": [],
   "source": [
    "def preprocess(text):\n",
    "    doc = nlp(text)\n",
    "    no_stop_words = [token.text for token in doc if not token.is_stop and not token.is_punct]\n",
    "    return \" \". join(no_stop_words)\n",
    "    ## simply do \" \".join(xyz) to return a string instead of a list"
   ]
  },
  {
   "cell_type": "code",
   "execution_count": 38,
   "id": "1b8060df",
   "metadata": {},
   "outputs": [
    {
     "data": {
      "text/plain": [
       "'opened barbeque store Come join 8 pm ET'"
      ]
     },
     "execution_count": 38,
     "metadata": {},
     "output_type": "execute_result"
    }
   ],
   "source": [
    "preprocess(\"We just opened up a barbeque store. Come join us at 8pm ET!\")"
   ]
  },
  {
   "cell_type": "code",
   "execution_count": 39,
   "id": "1f6c0424",
   "metadata": {},
   "outputs": [
    {
     "data": {
      "text/plain": [
       "'Musk wants time prepare trial'"
      ]
     },
     "execution_count": 39,
     "metadata": {},
     "output_type": "execute_result"
    }
   ],
   "source": [
    "preprocess(\"Musk wants time to prepare for a trial over his\")"
   ]
  },
  {
   "cell_type": "code",
   "execution_count": 40,
   "id": "4aba99c2",
   "metadata": {},
   "outputs": [
    {
     "data": {
      "text/plain": [
       "(13087, 6)"
      ]
     },
     "execution_count": 40,
     "metadata": {},
     "output_type": "execute_result"
    }
   ],
   "source": [
    "df = pd.read_json(\"doj_press.json\", lines = True)\n",
    "df.shape"
   ]
  },
  {
   "cell_type": "code",
   "execution_count": 41,
   "id": "d5e803eb",
   "metadata": {},
   "outputs": [
    {
     "data": {
      "application/vnd.microsoft.datawrangler.viewer.v0+json": {
       "columns": [
        {
         "name": "index",
         "rawType": "int64",
         "type": "integer"
        },
        {
         "name": "id",
         "rawType": "object",
         "type": "unknown"
        },
        {
         "name": "title",
         "rawType": "object",
         "type": "string"
        },
        {
         "name": "contents",
         "rawType": "object",
         "type": "string"
        },
        {
         "name": "date",
         "rawType": "object",
         "type": "string"
        },
        {
         "name": "topics",
         "rawType": "object",
         "type": "unknown"
        },
        {
         "name": "components",
         "rawType": "object",
         "type": "unknown"
        }
       ],
       "ref": "69930c70-732a-47fa-b340-c7afd3a7c0eb",
       "rows": [
        [
         "0",
         null,
         "Convicted Bomb Plotter Sentenced to 30 Years",
         "PORTLAND, Oregon. – Mohamed Osman Mohamud, 23, who was convicted in 2013 of attempting to use a weapon of mass destruction (explosives) in connection with a plot to detonate a vehicle bomb at an annual Christmas tree lighting ceremony in Portland, was sentenced today to serve 30 years in prison, followed by a lifetime term of supervised release. Mohamud, a naturalized U.S. citizen from Somalia and former resident of Corvallis, Oregon, was arrested on Nov. 26, 2010, after he attempted to detonate what he believed to be an explosives-laden van that was parked near the tree lighting ceremony in Portland.  The arrest was the culmination of a long-term undercover operation, during which Mohamud was monitored closely for months as his bomb plot developed.  The device was in fact inert, and the public was never in danger from the device. At sentencing, United States District Court Judge Garr M. King, who presided over Mohamed’s 14-day trial, said “the intended crime was horrific,” and that the defendant, even though he was presented with options by undercover FBI employees, “never once expressed a change of heart.”  King further noted that the Christmas tree ceremony was attended by up to 10,000 people, and that the defendant “wanted everyone to leave either dead or injured.”  King said his sentence was necessary in view of the seriousness of the crime and to serve as deterrence to others who might consider similar acts.     “With today’s sentencing, Mohamed Osman Mohamud is being held accountable for his attempted use of what he believed to be a massive bomb to attack innocent civilians attending a public Christmas tree lighting ceremony in Portland,” said John P. Carlin, Assistant Attorney General for National Security.  “The evidence clearly indicated that Mohamud was intent on killing as many people as possible with his attack.  Fortunately, law enforcement was able to identify him as a threat, insert themselves in the place of a terrorist that Mohamud was trying to contact, and thwart Mohamud’s efforts to conduct an attack on our soil.  This case highlights how the use of undercover operations against would-be terrorists allows us to engage and disrupt those who wish to commit horrific acts of violence against the innocent public.  The many agents, analysts, and prosecutors who have worked on this case deserve great credit for their roles in protecting Portland from the threat posed by this defendant and ensuring that he was brought to justice.” “This trial provided a rare glimpse into the techniques Al Qaeda employs to radicalize home-grown extremists,” said Amanda Marshall, U.S. Attorney for the District of Oregon.  “With the sentencing today, the court has held this defendant accountable.   I thank the dedicated professionals in the law enforcement and intelligence communities who were responsible for this successful outcome.  I look forward to our continued work with Muslim communities in Oregon who are committed to ensuring that all young people are safe from extremists who seek to radicalize others to engage in violence.”  According to the trial evidence, in February 2009, Mohamud began communicating via e-mail with Samir Khan, a now-deceased al Qaeda terrorist who published Jihad Recollections, an online magazine that advocated violent jihad, and who also published Inspire, the official magazine of al-Qaeda in the Arabian Peninsula.  Between February and August 2009, Mohamed exchanged approximately 150 emails with Khan.  Mohamud wrote several articles for Jihad Recollections that were published under assumed names. In August 2009, Mohamud was in email contact with Amro Al-Ali, a Saudi national who was in Yemen at the time and is today in custody in Saudi Arabia for terrorism offenses.  Al-Ali sent Mohamud detailed e-mails designed to facilitate Mohamud’s travel to Yemen to train for violent jihad.  In December 2009, while Al-Ali was in the northwest frontier province of Pakistan, Mohamud and Al-Ali discussed the possibility of Mohamud traveling to Pakistan to join Al-Ali in terrorist activities. Mohamud responded to Al-Ali in an e-mail: “yes, that would be wonderful, just tell me what I need to do.”  Al-Ali referred Mohamud to a second associate overseas and provided Mohamud with a name and email address to facilitate the process. In the following months, Mohamud made several unsuccessful attempts to contact Al-Ali’s associate.  Ultimately, an FBI undercover operative contacted Mohamud via email under the guise of being an associate of Al-Ali’s.  Mohamud and the FBI undercover operative agreed to meet in Portland in July 2010.  At the meeting, Mohamud told the FBI undercover operative he had written articles that were published in Jihad Recollections.  Mohamud also said that he wanted to become “operational.”  Asked what he meant by “operational,” Mohamud said he wanted to put an explosion together, but needed help. According to evidence presented at trial, at a meeting in August 2010, Mohamud told undercover FBI operatives he had been thinking of committing violent jihad since the age of 15.  Mohamud then told the undercover FBI operatives that he had identified a potential target for a bomb: the annual Christmas tree lighting ceremony in Portland’s Pioneer Courthouse Square on Nov. 26, 2010.  The undercover FBI operatives cautioned Mohamud several times about the seriousness of this plan, noting there would be many people at the event, including children, and emphasized that Mohamud could abandon his attack plans at any time with no shame.  Mohamud indicated the deaths would be justified and that he would not mind carrying out a suicide attack on the crowd. According to evidence presented at trial, in the ensuing months Mohamud continued to express his interest in carrying out the attack and worked on logistics.  On Nov. 4, 2010, Mohamud and the undercover FBI operatives traveled to a remote location in Lincoln County, Oregon, where they detonated a bomb concealed in a backpack as a trial run for the upcoming attack.  During the drive back to Corvallis, Mohamud was asked if was capable looking at all the bodies of those who would be killed during the explosion.  In response, Mohamud noted, “I want whoever is attending that event to be, to leave either dead or injured.”  Mohamud later recorded a video of himself, with the assistance of the undercover FBI operatives, in which he read a statement that offered his rationale for his bomb attack.  On Nov. 18, 2010, undercover FBI operatives picked up Mohamud to travel to Portland to finalize the details of the attack.  On Nov. 26, 2010, just hours before the planned attack, Mohamud examined the 1,800 pound bomb in the van and remarked that it was “beautiful.”  Later that day, Mohamud was arrested after he attempted to remotely detonate the inert vehicle bomb rked near the Christmas tree lighting ceremony This case was investigated by the FBI, with assistance from the Oregon State Police, the Corvallis Police Department, the Lincoln County Sheriff’s Office and the Portland Police Bureau.  The prosecution was handled by Assistant U.S. Attorneys Ethan D. Knight and Pamala Holsinger from the U.S. Attorney’s Office for the District of Oregon.  Trial Attorney Jolie F. Zimmerman, from the Counterterrorism Section of the Justice Department’s National Security Division, assisted. # # # 14-1077",
         "2014-10-01T00:00:00-04:00",
         "[]",
         "['National Security Division (NSD)']"
        ],
        [
         "1",
         "12-919 ",
         "$1 Million in Restitution Payments Announced to Preserve North Carolina Wetlands",
         "  WASHINGTON – North Carolina’s Waccamaw River watershed will benefit from a $1 million restitution order from a federal court, funding environmental projects to acquire and preserve wetlands in an area damaged by illegal releases of wastewater from a corporate hog farm, announced Ignacia S. Moreno, Assistant Attorney General of the Justice Department’s Environment and Natural Resources Division; U.S. Attorney for the Eastern District of North Carolina Thomas G. Walker; Director Greg McLeod from the North Carolina State Bureau of Investigation; and Camilla M. Herlevich, Executive Director of the North Carolina Coastal Land Trust.   Freedman Farms Inc. was sentenced in February 2012 to five years of probation and ordered to pay $1.5 million in fines, restitution and community service payments for violating the Clean Water Act when it discharged hog waste into a stream that leads to the Waccamaw River.  William B. Freedman, president of Freedman Farms, was sentenced to six months in prison to be followed by six months of home confinement.  Freedman Farms also is required to implement a comprehensive environmental compliance program and institute an annual training program.   In an order issued on April 19, 2012, the court ordered that the defendants would be responsible for restitution of $1 million in the form of five annual payments starting in January 2013, which the court will direct to the North Carolina Coastal Land Trust (NCCLT).  The NCCLT plans to use the money to acquire and conserve land along streams in the Waccamaw watershed.  The court also directed a $75,000 community service payment to the Southern Environmental Enforcement Network, an organization dedicated to environmental law enforcement training and information sharing in the region.    “The resolution of the case against Freedman Farms demonstrates the commitment of the Department of Justice to enforcing the Clean Water Act to ensure the protection of human health and the environment,” said Assistant Attorney General Moreno.  “The court-ordered restitution in this case will conserve wetlands for the benefit of the people of North Carolina.  By enforcing the nation’s environmental laws, we will continue to ensure that concentrated animal feeding operations (CAFOs) operate without threatening our drinking water, the health of our communities and the environment.”   “This office is committed to doing our part to hold accountable those who commit crimes against our environment, which can cause serious health problems to residents and damage the environment that makes North Carolina such a beautiful place to live and visit,” said U.S. Attorney Walker.   “This case shows what we can accomplish when our SBI agents work closely with their local, state and federal partners to investigate environmental crimes and hold the polluters accountable,” said Director McLeod.  “We’ll continue our efforts to fight illegal pollution that damages our water and puts the public’s health at risk.”    “The Waccamaw is unique and wild,” said Director Herlevich of the North Carolina Coastal Land Trust. “Its watershed includes some of the most extensive cypress gum swamps in the state, and its headwaters at Lake Waccamaw contain fish that are found nowhere else on Earth.  We appreciate the trust of the court and the U. S. Attorney, and we look forward to using these funds for conservation projects in a river system that is one of our top conservation priorities.”   According to evidence presented in court, in December 2007 Freedman Farms discharged hog waste into Browder’s Branch, a tributary to the Waccamaw River that flows through the White Marsh, a large wetlands complex.  Freedman Farms, located in Columbus County, N.C., is in the business of raising hogs for market, and this particular farm had some 4,800 hogs.  The hog waste was supposed to be directed to two lagoons for treatment and disposal.  Instead, hog waste was discharged from Freedman Farms directly into Browder’s Branch.    The Clean Water Act is a federal law that makes it illegal to knowingly or negligently discharge a pollutant into a water of the United States.    The Freedman case was investigated by the U.S. Environmental Protection Agency (EPA) Criminal Investigation Division, the U.S. Army Corps of Engineers and the North Carolina State Bureau of Investigation, with assistance from the EPA Science and Ecosystem Support Division.  The case was prosecuted by Assistant U.S. Attorney J. Gaston B. Williams of the Eastern District of North Carolina and Trial Attorney Mary Dee Carraway of the Environmental Crimes Section of the Justice Department’s Environment and Natural Resources Division.   The North Carolina Coastal Land Trust is celebrating its 20th anniversary of saving special lands in eastern North Carolina. The organization has protected nearly 50,000 acres of lands with scenic, recreational, historic and ecological values. North Carolina Coastal Land Trust has saved streams and wetlands that provide clean water, forests that are havens for wildlife, working farms that provide local food and nature parks that everyone can enjoy.  More information about the Coastal Land Trust is available at www.coastallandtrust.org.",
         "2012-07-25T00:00:00-04:00",
         "[]",
         "['Environment and Natural Resources Division']"
        ],
        [
         "2",
         "11-1002",
         "$1 Million Settlement Reached for Natural Resource Damages at Superfund Site in Massachusetts",
         "      BOSTON– A $1-million settlement has been reached for natural resource damages (NRD) at the Blackburn & Union Privileges Superfund Site in Walpole, Mass., the Departments of Justice and Interior (DOI), and the Office of the Massachusetts Attorney General announced today.                The Blackburn & Union Privileges Superfund Site includes 22 acres of contaminated land and water in Walpole. The contamination resulted from the operations of various industrial facilities dating back to the 19th century that exposed the site to asbestos, arsenic, lead and other hazardous substances.                The private parties involved in the settlement include two former owners and operators of the site, W.R. Grace & Co.– Conn. and Tyco Healthcare Group LP, as well as the current owners, BIM Investment Corp. and Shaffer Realty Nominee Trust.               From about 1915 to 1936, a predecessor of W.R. Grace manufactured asbestos brake linings and clutch linings on a large portion of the property. From 1946 to about 1983, a predecessor of Tyco Healthcare operated a cotton fabric manufacturing business, which used caustic solutions, on a portion of the property.               In a 2010 settlement with U.S. Environmental Protection Agency (EPA), the four private parties agreed to perform a remedial action to clean up the site at an estimated cost of $13 million. The consent decree lodged today resolves both state and federal NRD liability claims; it requires the parties to pay $1,094,169.56 to the state and federal natural resource trustees, the Massachusetts Executive Office of Energy and Environmental Affairs (EEA) and DOI, for injuries to ecological resources including groundwater and wetlands, which provide habitat for waterfowl and wading birds, including black ducks and great blue herons.  The trustees will use the settlement funds for natural resource restoration projects in the area.               “This settlement demonstrates our commitment to recovering damages from the parties responsible for injury to natural resources, in partnership with state trustees,” said Bruce Gelber, Acting Deputy Assistant Attorney General of the Justice Department’s Environment and Natural Resources Division.               “The citizens of Walpole have had to live with the environmental impact of this contamination for many years,” Attorney General Martha Coakley said. “We are pleased that today’s agreement will not only require the responsible parties to reimburse taxpayer dollars, but will also provide funding to begin restoring or replacing the wetland and other natural resources.”                 The consent decree was lodged in the U.S. District Court for Massachusetts.     A portion of the funds, $300,000, will be distributed to the EEA-sponsored groundwater restoration projects; $575,000 will be used for ecological restoration projects jointly sponsored by EEA and the U.S. Fish and Wildlife Service (FWS).               In addition, $125,000 will go for projects jointly sponsored by EEA and FWS that achieve both ecological and groundwater restoration; $57,491.34 will be allocated for reimbursement for the FWS’s assessment costs; and $36,678.22 will be distributed as reimbursement for the commonwealth’s assessment costs.       “This settlement provides the means for a range of projects designed to compensate the public for decades of groundwater and other ecological damage at this site.  I encourage local citizens and organizations to become engaged in the public process that will take place as we solicit, take comment on, and choose these projects in the months ahead,” said Energy and Environmental Affairs Secretary Richard K. Sullivan Jr., who serves as the Commonwealth’s Natural Resources Damages trustee.       “This settlement will help restore habitat for fish and wildlife in the Neponset River watershed,” said Tom Chapman of the FWS New England Field Office. “We look forward to working with the commonwealth and local stakeholders to implement restoration.”               “More than 100 years-worth of industrial activities at this site caused major environmental contamination to the Neponset River, nearby wetlands and to groundwater below the site,” said Commissioner Kenneth Kimmell of the Massachusetts Department of Environmental Protection (MassDEP), which will staff the Trustee Council for the Commonwealth. “We will ensure that the community and the public will be active participants in the process to use these NRD funds to restore the injured natural resources.”                Under the federal Comprehensive Environmental Response, Compensation and Liability Act, EEA and DOI, acting through the FWS, are the designated state and federal natural resource Trustees for the site. The site has been listed on the EPA’s National Priorities List since 1994.        The consent decree is subject to a public comment period and court approval. A copy of the consent decree and instructions about how to submit comments is available on www.usdoj.gov/enrd/Consent_Decrees.html  .               After the consent decree is approved, EEA and FWS will develop proposed restoration plans to use the settlement funds for restoration projects. The proposed restoration plans will also be made available to the public for review and comment.                Assistant Attorney General Matthew Brock of Massachusetts Attorney General Coakley's Environmental Protection Division handled this matter.  Attorney Jennifer Davis of MassDEP, Attorney Anna Blumkin of EEA and MassDEP’s NRD Coordinator Karen Pelto also worked on this settlement.",
         "2011-08-03T00:00:00-04:00",
         "[]",
         "['Environment and Natural Resources Division']"
        ],
        [
         "3",
         "10-015",
         "10 Las Vegas Men Indicted \r\nfor Falsifying Vehicle Emissions Tests",
         "  WASHINGTON—A federal grand jury in Las Vegas today returned indictments against 10 Nevada-certified emissions testers for falsifying vehicle emissions test reports, the Justice Department announced.   Each defendant faces one felony Clean Air Act count for falsifying reports between November 2007 and May 2009. The number of falsifications varied by defendant, with some defendants having falsified approximately 250 records, while others falsified more than double that figure. One defendant is alleged to have falsified over 700 reports.   The individuals indicted include:     Escudero resides in Pahrump, Nev. All other individuals are from Clark County, Nev.    The 10 defendants are alleged to have engaged in a practice known as \"clean scanning\" vehicles. The scheme involved entering the Vehicle Identification Number (VIN) for a vehicle that would not pass the emissions test into the computerized system, then connecting a different vehicle the testers knew would pass the test. These falsifications were allegedly performed for anywhere from $10 to $100 over and above the usual emissions testing fee.    The U.S. Environmental Protection Agency (EPA), under the Clean Air Act, requires the state of Nevada to conduct vehicle emissions testing in certain areas because the areas exceed national standards for carbon monoxide and ozone. Las Vegas is currently required to perform emissions testing.    To obtain a registration renewal, vehicle owners bring the vehicles to a licensed inspection station for testing. The emissions inspector logs into a computer to activate the system by using a unique password issued to the emissions inspector. The emissions inspector manually inputs the vehicle’s VIN to identify the tested vehicle, then connects the vehicle for model year 1996 and later to an onboard diagnostics port connected to an analyzer. The analyzer downloads data from the vehicle’s computer, analyzes the data and provides a \"pass\" or \"fail\" result. The pass or fail result and vehicle identification data are reported on the Vehicle Inspection Report. It is a crime to knowingly alter or conceal any record or other document required to be maintained by the Clean Air Act.     \"Falsifications of vehicle emissions testing, such as those alleged in the indictments unsealed today, are serious matters and we intend to use all of our enforcement tools to stop this harmful practice. These actions undermine a system that is designed to reduce air pollutants including smog and provide better air quality for the citizens of Nevada,\" said Ignacia S. Moreno, Assistant Attorney General for the Justice Department’s Environment and Natural Resources Division.    \"The residents of Nevada deserve to know that the vast majority of licensed vehicle emission inspectors are not corrupt and are not circumventing emission testing procedures,\" said U.S. Attorney Bogden. \"These indictments should serve as a clear warning to offenders that the Department of Justice will prosecute you if you make fraudulent statements and reports concerning compliance with the federal Clean Air Act.\"    \"Lying about car emissions means dirtier air, which is especially of concern in areas like Las Vegas that are already experiencing air quality problems,\" said Cynthia Giles, Assistant Administrator for Enforcement and Compliance Assurance at EPA. \"We will take aggressive action to ensure communities have clean air.\"    The maximum penalty for the felony violations contained in the indictments includes up to two years in prison and a fine of up to $250,000.    An indictment is merely an accusation, and a defendant is presumed innocent unless and until proven guilty in a court of law.    The case was investigated by the EPA, Criminal Investigation Division; and the Nevada Department of Motor Vehicles Compliance Enforcement Division. The case is being prosecuted by the U.S. Attorney’s Office for the District of Nevada and the Justice Department’s Environmental Crimes Section.",
         "2010-01-08T00:00:00-05:00",
         "[]",
         "['Environment and Natural Resources Division']"
        ],
        [
         "4",
         "18-898",
         "$100 Million Settlement Will Speed Cleanup Work at Centredale Manor Superfund Site in North Providence, R.I.",
         "The U.S. Department of Justice, the U.S. Environmental Protection Agency (EPA), and the Rhode Island Department of Environmental Management (RIDEM) announced today that two subsidiaries of Stanley Black & Decker Inc.—Emhart Industries Inc. and Black & Decker Inc.—have agreed to clean up dioxin contaminated sediment and soil at the Centredale Manor Restoration Project Superfund Site in North Providence and Johnston, Rhode Island.  “We are pleased to reach a resolution through collaborative work with the responsible parties, EPA, and other stakeholders,” said Acting Assistant Attorney General Jeffrey H. Wood for the Justice Department's Environment and Natural Resources Division . “Today’s settlement ends protracted litigation and allows for important work to get underway to restore a healthy environment for citizens living in and around the Centredale Manor Site and the Woonasquatucket River.” “This settlement demonstrates the tremendous progress we are achieving working with responsible parties, states, and our federal partners to expedite sites through the entire Superfund remediation process,” said EPA Acting Administrator Andrew Wheeler. “The Centredale Manor Site has been on the National Priorities List for 18 years; we are taking charge and ensuring the Agency makes good on its promise to clean it up for the betterment of the environment and those communities affected.” “Successfully concluding this settlement paves the way for EPA to make good on our commitment to aggressively pursue cleaning up the Centredale Manor Superfund Site,” said EPA New England Regional Administrator Alexandra Dunn. “We are excited to get to work on the cleanup at this site, and get it closer to the goal of being fully utilized by the North Providence and Johnston communities.” “We are pleased that the collective efforts of the State of Rhode Island, EPA, and DOJ in these negotiations have concluded in this major milestone toward the cleanup of the Centredale Manor Restoration Superfund site and are consistent with our long-standing efforts to make the polluter pay,” said RIDEM Director Janet Coit. “The settlement will speed up a remedy that protects public health and the river environment, and moves us closer to the day that we can reclaim recreational uses of this beautiful river resource.” The settlement, which includes cleanup work in the Woonasquatucket River (River) and bordering residential and commercial properties along the River, requires the companies to perform the remedy selected by EPA for the Site in 2012, which is estimated to cost approximately $100 million, and resolves longstanding litigation. The cleanup remedy includes excavation of contaminated sediment and floodplain soil from the Woonasquatucket River, including from adjacent residential properties. Once the cleanup remedy is completed, full access to the Woonasquatucket River should be restored for local citizens. The cleanup will be a step toward the State’s goal of a fishable and swimmable river. The work will also include upgrading caps over contaminated soil in the peninsula area of the Site that currently house two high-rise apartment buildings. The settlement also ensures that the long-term monitoring and maintenance of the site, as directed in the remedy, will be implemented to ensure that public health is protected.  Under the settlement, Emhart and Black & Decker will reimburse EPA for approximately $42 million in past costs incurred at the Site. The companies will also reimburse EPA and the State of Rhode Island for future costs incurred by those agencies in overseeing the work required by the settlement. The settlement will also include payments on behalf of two federal agencies to resolve claims against those agencies. These payments, along with prior settlements related to the Site, will result in a 100 percent recovery for the United States of its past and future response costs related to the Site. Litigation related to the Site has been ongoing for nearly eight years. While the Federal District Court found Black & Decker and Emhart to be liable for their hazardous waste and responsible to conduct the cleanup of the Site, it had also ruled that EPA needed to reconsider certain aspects of that cleanup. EPA appealed the decision requiring it to reconsider aspects of the cleanup. This settlement, once entered by the District Court, will resolve the litigation between the United States, Rhode Island, and Emhart and Black and Decker, allowing the cleanup of the Site to begin. The Site spans a one and a half mile stretch of the Woonasquatucket River and encompasses a nine-acre peninsula, two ponds and a significant forested wetland. From the 1940s to the early 1970s, Emhart’s predecessor operated a chemical manufacturing facility on the peninsula and used a raw material that was contaminated with 2,3,7,8-tetrachlorodibenzo-p-dioxin, a toxic form of dioxin. The Site property was also previously used by a barrel refurbisher. Elevated levels of dioxins and other contaminants have been detected in soil, groundwater, sediment, surface water and fish.  The Site was added to the National Priorities List (NPL) in 2000, and in December 2017, EPA included the Centredale Manor Restoration Project Superfund Site on a list of Superfund sites targeted for immediate and intense attention. Several short-term actions were previously performed at the Site to address immediate threats to the residents and minimize potential erosion and downstream transport of contaminated soil and sediment. This settlement is the latest agreement EPA has reached since the Site was listed on the NPL. Prior agreements addressed the performance and recovery of costs for the past environmental investigations and interim cleanup actions from Emhart, the barrel reconditioning company, the current owners of the peninsula portion of the Site, and other potentially responsible parties. The Consent Decree, lodged in the U.S. District Court of Rhode Island, will be posted in the Federal Register and available for public comment for a period of 30 days. The Consent Decree can be viewed on the Justice Department website: www.justice.gov/enrd/Consent_Decrees.html.  EPA information on the Centredale Manor Superfund Site: www.epa.gov/superfund/centredale.",
         "2018-07-09T00:00:00-04:00",
         "['Environment']",
         "['Environment and Natural Resources Division']"
        ]
       ],
       "shape": {
        "columns": 6,
        "rows": 5
       }
      },
      "text/html": [
       "<div>\n",
       "<style scoped>\n",
       "    .dataframe tbody tr th:only-of-type {\n",
       "        vertical-align: middle;\n",
       "    }\n",
       "\n",
       "    .dataframe tbody tr th {\n",
       "        vertical-align: top;\n",
       "    }\n",
       "\n",
       "    .dataframe thead th {\n",
       "        text-align: right;\n",
       "    }\n",
       "</style>\n",
       "<table border=\"1\" class=\"dataframe\">\n",
       "  <thead>\n",
       "    <tr style=\"text-align: right;\">\n",
       "      <th></th>\n",
       "      <th>id</th>\n",
       "      <th>title</th>\n",
       "      <th>contents</th>\n",
       "      <th>date</th>\n",
       "      <th>topics</th>\n",
       "      <th>components</th>\n",
       "    </tr>\n",
       "  </thead>\n",
       "  <tbody>\n",
       "    <tr>\n",
       "      <th>0</th>\n",
       "      <td>None</td>\n",
       "      <td>Convicted Bomb Plotter Sentenced to 30 Years</td>\n",
       "      <td>PORTLAND, Oregon. – Mohamed Osman Mohamud, 23,...</td>\n",
       "      <td>2014-10-01T00:00:00-04:00</td>\n",
       "      <td>[]</td>\n",
       "      <td>[National Security Division (NSD)]</td>\n",
       "    </tr>\n",
       "    <tr>\n",
       "      <th>1</th>\n",
       "      <td>12-919</td>\n",
       "      <td>$1 Million in Restitution Payments Announced t...</td>\n",
       "      <td>WASHINGTON – North Carolina’s Waccamaw River...</td>\n",
       "      <td>2012-07-25T00:00:00-04:00</td>\n",
       "      <td>[]</td>\n",
       "      <td>[Environment and Natural Resources Division]</td>\n",
       "    </tr>\n",
       "    <tr>\n",
       "      <th>2</th>\n",
       "      <td>11-1002</td>\n",
       "      <td>$1 Million Settlement Reached for Natural Reso...</td>\n",
       "      <td>BOSTON– A $1-million settlement has been...</td>\n",
       "      <td>2011-08-03T00:00:00-04:00</td>\n",
       "      <td>[]</td>\n",
       "      <td>[Environment and Natural Resources Division]</td>\n",
       "    </tr>\n",
       "    <tr>\n",
       "      <th>3</th>\n",
       "      <td>10-015</td>\n",
       "      <td>10 Las Vegas Men Indicted \\r\\nfor Falsifying V...</td>\n",
       "      <td>WASHINGTON—A federal grand jury in Las Vegas...</td>\n",
       "      <td>2010-01-08T00:00:00-05:00</td>\n",
       "      <td>[]</td>\n",
       "      <td>[Environment and Natural Resources Division]</td>\n",
       "    </tr>\n",
       "    <tr>\n",
       "      <th>4</th>\n",
       "      <td>18-898</td>\n",
       "      <td>$100 Million Settlement Will Speed Cleanup Wor...</td>\n",
       "      <td>The U.S. Department of Justice, the U.S. Envir...</td>\n",
       "      <td>2018-07-09T00:00:00-04:00</td>\n",
       "      <td>[Environment]</td>\n",
       "      <td>[Environment and Natural Resources Division]</td>\n",
       "    </tr>\n",
       "  </tbody>\n",
       "</table>\n",
       "</div>"
      ],
      "text/plain": [
       "        id                                              title  \\\n",
       "0     None       Convicted Bomb Plotter Sentenced to 30 Years   \n",
       "1  12-919   $1 Million in Restitution Payments Announced t...   \n",
       "2  11-1002  $1 Million Settlement Reached for Natural Reso...   \n",
       "3   10-015  10 Las Vegas Men Indicted \\r\\nfor Falsifying V...   \n",
       "4   18-898  $100 Million Settlement Will Speed Cleanup Wor...   \n",
       "\n",
       "                                            contents  \\\n",
       "0  PORTLAND, Oregon. – Mohamed Osman Mohamud, 23,...   \n",
       "1    WASHINGTON – North Carolina’s Waccamaw River...   \n",
       "2        BOSTON– A $1-million settlement has been...   \n",
       "3    WASHINGTON—A federal grand jury in Las Vegas...   \n",
       "4  The U.S. Department of Justice, the U.S. Envir...   \n",
       "\n",
       "                        date         topics  \\\n",
       "0  2014-10-01T00:00:00-04:00             []   \n",
       "1  2012-07-25T00:00:00-04:00             []   \n",
       "2  2011-08-03T00:00:00-04:00             []   \n",
       "3  2010-01-08T00:00:00-05:00             []   \n",
       "4  2018-07-09T00:00:00-04:00  [Environment]   \n",
       "\n",
       "                                     components  \n",
       "0            [National Security Division (NSD)]  \n",
       "1  [Environment and Natural Resources Division]  \n",
       "2  [Environment and Natural Resources Division]  \n",
       "3  [Environment and Natural Resources Division]  \n",
       "4  [Environment and Natural Resources Division]  "
      ]
     },
     "execution_count": 41,
     "metadata": {},
     "output_type": "execute_result"
    }
   ],
   "source": [
    "df.head()"
   ]
  },
  {
   "cell_type": "code",
   "execution_count": 42,
   "id": "a9403a5c",
   "metadata": {},
   "outputs": [
    {
     "name": "stdout",
     "output_type": "stream",
     "text": [
      "<class 'pandas.core.frame.DataFrame'>\n",
      "RangeIndex: 13087 entries, 0 to 13086\n",
      "Data columns (total 6 columns):\n",
      " #   Column      Non-Null Count  Dtype \n",
      "---  ------      --------------  ----- \n",
      " 0   id          12810 non-null  object\n",
      " 1   title       13087 non-null  object\n",
      " 2   contents    13087 non-null  object\n",
      " 3   date        13087 non-null  object\n",
      " 4   topics      13087 non-null  object\n",
      " 5   components  13087 non-null  object\n",
      "dtypes: object(6)\n",
      "memory usage: 613.6+ KB\n"
     ]
    }
   ],
   "source": [
    "df.info()"
   ]
  },
  {
   "cell_type": "code",
   "execution_count": 43,
   "id": "f0d7acfe",
   "metadata": {},
   "outputs": [
    {
     "data": {
      "application/vnd.microsoft.datawrangler.viewer.v0+json": {
       "columns": [
        {
         "name": "index",
         "rawType": "object",
         "type": "string"
        },
        {
         "name": "id",
         "rawType": "object",
         "type": "unknown"
        },
        {
         "name": "title",
         "rawType": "object",
         "type": "unknown"
        },
        {
         "name": "contents",
         "rawType": "object",
         "type": "unknown"
        },
        {
         "name": "date",
         "rawType": "object",
         "type": "unknown"
        },
        {
         "name": "topics",
         "rawType": "object",
         "type": "unknown"
        },
        {
         "name": "components",
         "rawType": "object",
         "type": "unknown"
        }
       ],
       "ref": "595e28ce-b508-468a-bcc2-91d2812f0a4b",
       "rows": [
        [
         "count",
         "12810",
         "13087",
         "13087",
         "13087",
         "13087",
         "13087"
        ],
        [
         "unique",
         "12672",
         "12887",
         "13080",
         "2400",
         "253",
         "810"
        ],
        [
         "top",
         "13-526",
         "Northern California Real Estate Investor Agrees to Plead Guilty to Bid Rigging at Public Foreclosure Auctions",
         "  WASHINGTON – ING Bank N.V., a financial institution headquartered in Amsterdam, has agreed to forfeit $619 million to the Justice Department and the New York County District Attorney’s Office for conspiring to violate the International Emergency Economic Powers Act (IEEPA) and the Trading with the Enemy Act (TWEA) and for violating New York state laws by illegally moving billions of dollars through the U.S. financial system on behalf of sanctioned Cuban and Iranian entities.  The bank has also entered into a parallel settlement agreement with the Treasury Department’s Office of Foreign Assets Control (OFAC).   The announcement was made by Lisa Monaco, Assistant Attorney General for National Security; Ronald C. Machen, U.S. Attorney for the District of Columbia; Assistant Attorney General Lanny A. Breuer of the Criminal Division; District Attorney Cyrus R. Vance Jr., of the New York County District Attorney’s Office; James W. McJunkin, Assistant Director in Charge of the FBI Washington Field Office; Richard Weber, Chief, Internal Revenue Service (IRS) Criminal Investigation; and Adam J. Szubin, Director of the Office of Foreign Assets Control.   A criminal information was filed today in federal court in the District of Columbia charging ING Bank N.V. with one count of knowingly and willfully conspiring to violate the IEEPA and TWEA.  ING Bank waived the federal indictment, agreed to the filing of the information and has accepted responsibility for its criminal conduct and that of its employees.  ING Bank agreed to forfeit $619 million as part of the deferred prosecution agreements reached with the Justice Department and the New York County District Attorney’s Office.    According to court documents, starting in the early 1990s and continuing until 2007, ING Bank violated U.S. and New York state laws by moving more than $2 billion illegally through the U.S. financial system – via more than 20,000 transactions – on behalf of Cuban and Iranian entities subject to U.S. economic sanctions.  ING Bank knowingly and willfully engaged in this criminal conduct, which caused unaffiliated U.S. financial institutions to process transactions that otherwise should have been rejected, blocked or stopped for investigation under regulations by OFAC relating to transactions involving sanctioned countries and parties.“The fine announced today is the largest ever against a bank in connection with an investigation into U.S. sanctions violations and related offenses and underscores the national security implications of ING Bank’s criminal conduct.  For more than a decade, ING Bank helped provide state sponsors of terror and other sanctioned entities with access to the U.S. financial system, allowing them to move billions of dollars through U.S. banks for illicit purchases and other activities,” said Assistant Attorney General Monaco.  “I applaud the agents, analysts and prosecutors who for years pursued this case.”   “Banks that try to skirt U.S. sanctions laws undermine the integrity of our financial system and threaten our national security,” said U.S. Attorney Machen.  “When banks place their loyalty to sanctioned clients above their obligation to follow the law, we will hold them accountable.  On more than 20,000 occasions, ING intentionally manipulated financial and trade transactions to remove references to Iran, Cuba and other sanctioned countries and entities.  Today’s $619 million forfeiture – the largest ever – holds ING accountable for its wrongdoing.”   “For years, ING Bank blatantly violated U.S. laws governing transactions involving Cuba and Iran, and then used shell companies and other deceptive measures to cover up its criminal conduct,” said Assistant Attorney General Breuer.  “Today’s resolution reflects a strong collaboration among federal and state law enforcement partners to hold ING accountable.”   “Investigations of financial institutions, businesses and individuals who violate U.S. sanctions by misusing banks in New York are vitally important to national security and the integrity of our banking system,” said New York County District Attorney Vance.  “These cases give teeth to sanctions enforcement, send a strong message about the need for transparency in international banking and ultimately contribute to the fight against money laundering and terror financing.  I thank our federal partners for their cooperation and assistance in pursuing this investigation.”   “Today, ING Bank was held accountable for their illegal actions involving the movement of more than $2 billion through the U.S. financial system on behalf of Cuban and Iranian entities subject to U.S. economic sanctions,” said FBI Assistant Director in Charge McJunkin.  “Investigations of this type are complicated and demand significant time and dedication from agents, analysts and prosecutors.  In this case, their steadfast tenacity brought this case through to today’s result, and we will continue to pursue these matters in diligent fashion.”   “In today’s environment of increasingly sophisticated financial markets, it’s critical that global institutions follow U.S. law, including sanctions against other countries,” said IRS Criminal Investigation Chief Weber.  “The IRS is proud to share its world-renowned financial investigative expertise in this and other complex financial investigations.  Creating new strategies and models of cooperation among our law enforcement partners to ensure international financial compliance is a top-priority of the IRS.”    “Our sanctions laws reflect core U.S. national security and foreign policy interests and OFAC polices them aggressively.  Today's historic settlement should serve as a clear warning to anyone who would consider profiting by evading U.S. sanctions,” said OFAC Director Szubin.  “We commend our federal and state colleagues for their work on this important investigation.”  The Scheme   According to court documents, ING Bank committed its criminal conduct by, among other things, processing payments for ING Bank’s Cuban banking operations through its branch in Curaçao on behalf of Cuban customers without reference to the payments’ origin, and by providing U.S. dollar trade finance services to sanctioned entities through misleading payment messages, shell companies and the misuse of ING Bank’s internal suspense account.   Furthermore, ING Bank eliminated payment data that would have revealed the involvement of sanctioned countries and entities, including Cuba and Iran; advised sanctioned clients on how to conceal their involvement in U.S. dollar transactions; fabricated ING Bank endorsement stamps for two Cuban banks to fraudulently process U.S. dollar travelers’ checks; and threatened to punish certain employees if they failed to take specified steps to remove references to sanctioned entities in payment messages.    According to court documents, this conduct occurred in various business units in ING Bank’s wholesale banking division and in locations around the world with the knowledge, approval and encouragement of senior corporate managers and legal and compliance departments.  Over the years, several ING Bank employees raised concerns to management about the bank’s sanctions violations.  However, no action was taken.   For decades, the United States has employed sanctions and embargoes on Iran and Cuba.  Financial transactions conducted by wire on behalf of Iranian or Cuban financial institutions have been subject to these U.S. sanctions.  The TWEA prohibits U.S. persons from engaging in financial transactions involving or benefiting Cuba or Cuban nationals and prohibits attempts to evade or avoid these restrictions.  IEEPA makes it a crime to willfully attempt to commit, conspire to commit, or aid and abet in the commission of any violations of the Iranian Transaction Regulations, which prohibit the exportation of any services from the United States to Iran and any attempts to evade or avoid these restrictions.  IEEPA and TWEA regulations are administered by OFAC.  The Investigation   The Justice Department’s investigation into ING Bank arose out of ongoing investigations into the illegal export of goods from the United States to sanctioned countries, including Iran.  For instance, ING processed payments on behalf of one customer, Aviation Services International B.V. (ASI), a Dutch aviation company which was the subject of a U.S. Commerce Department-initiated criminal investigation, through the United States for trade services relating to the procurement by ASI of dual-use U.S. aviation parts for ASI’s Iranian clients.  The ING Bank investigation also resulted in part from a criminal referral from OFAC, which was conducting its own probe of ING Bank.   ING Bank’s forfeiture of $309.5 million to the United States and $309.5 million to the New York County District Attorney’s Office will settle forfeiture claims by the Department of Justice and the state of New York.  In light of the bank’s remedial actions to date and its willingness to acknowledge responsibility for its actions, the Department will recommend the dismissal of the information in 18 months, provided ING Bank fully cooperates with, and abides by, the terms of the deferred prosecution agreement.   OFAC’s settlement agreement with ING deems the bank’s obligations to pay a civil settlement amount of $619 million to be satisfied by its payment of an equal amount to the Justice Department and the state of New York.  OFAC’s settlement agreement further requires the bank to conduct a review of its policies and procedures and their implementation, taking a risk-based sampling of U.S. dollar payments, to ensure that its OFAC compliance program is functioning effectively to detect, correct and report apparent sanctions violations to OFAC.   The case was prosecuted by Trial Attorney Jonathan C. Poling of the Justice Department’s National Security Division; Assistant U.S. Attorneys Ann H. Petalas and George P. Varghese, of the National Security Section of the U.S. Attorney’s Office for the District of Columbia; and Trial Attorney Matthew Klecka of the Criminal Division’s Asset Forfeiture and Money Laundering Section.    The case was investigated by the FBI’s Washington Field Office and the IRS-Criminal Investigation’s Washington Field Division, with assistance from the Treasury Department’s OFAC and the Commerce Department’s Bureau of Industry and Security.   The Department of Justice expressed its gratitude to Executive Assistant District Attorney, Chief of Investigation Division Adam Kaufmann; and Assistant District Attorneys Sally Pritchard and Garrett Lynch of the New York County District Attorney’s Office, Major Economic Crimes Bureau.",
         "2018-04-13T00:00:00-04:00",
         "[]",
         "['Criminal Division']"
        ],
        [
         "freq",
         "3",
         "8",
         "2",
         "20",
         "8399",
         "2680"
        ]
       ],
       "shape": {
        "columns": 6,
        "rows": 4
       }
      },
      "text/html": [
       "<div>\n",
       "<style scoped>\n",
       "    .dataframe tbody tr th:only-of-type {\n",
       "        vertical-align: middle;\n",
       "    }\n",
       "\n",
       "    .dataframe tbody tr th {\n",
       "        vertical-align: top;\n",
       "    }\n",
       "\n",
       "    .dataframe thead th {\n",
       "        text-align: right;\n",
       "    }\n",
       "</style>\n",
       "<table border=\"1\" class=\"dataframe\">\n",
       "  <thead>\n",
       "    <tr style=\"text-align: right;\">\n",
       "      <th></th>\n",
       "      <th>id</th>\n",
       "      <th>title</th>\n",
       "      <th>contents</th>\n",
       "      <th>date</th>\n",
       "      <th>topics</th>\n",
       "      <th>components</th>\n",
       "    </tr>\n",
       "  </thead>\n",
       "  <tbody>\n",
       "    <tr>\n",
       "      <th>count</th>\n",
       "      <td>12810</td>\n",
       "      <td>13087</td>\n",
       "      <td>13087</td>\n",
       "      <td>13087</td>\n",
       "      <td>13087</td>\n",
       "      <td>13087</td>\n",
       "    </tr>\n",
       "    <tr>\n",
       "      <th>unique</th>\n",
       "      <td>12672</td>\n",
       "      <td>12887</td>\n",
       "      <td>13080</td>\n",
       "      <td>2400</td>\n",
       "      <td>253</td>\n",
       "      <td>810</td>\n",
       "    </tr>\n",
       "    <tr>\n",
       "      <th>top</th>\n",
       "      <td>13-526</td>\n",
       "      <td>Northern California Real Estate Investor Agree...</td>\n",
       "      <td>WASHINGTON – ING Bank N.V., a financial inst...</td>\n",
       "      <td>2018-04-13T00:00:00-04:00</td>\n",
       "      <td>[]</td>\n",
       "      <td>[Criminal Division]</td>\n",
       "    </tr>\n",
       "    <tr>\n",
       "      <th>freq</th>\n",
       "      <td>3</td>\n",
       "      <td>8</td>\n",
       "      <td>2</td>\n",
       "      <td>20</td>\n",
       "      <td>8399</td>\n",
       "      <td>2680</td>\n",
       "    </tr>\n",
       "  </tbody>\n",
       "</table>\n",
       "</div>"
      ],
      "text/plain": [
       "            id                                              title  \\\n",
       "count    12810                                              13087   \n",
       "unique   12672                                              12887   \n",
       "top     13-526  Northern California Real Estate Investor Agree...   \n",
       "freq         3                                                  8   \n",
       "\n",
       "                                                 contents  \\\n",
       "count                                               13087   \n",
       "unique                                              13080   \n",
       "top       WASHINGTON – ING Bank N.V., a financial inst...   \n",
       "freq                                                    2   \n",
       "\n",
       "                             date topics           components  \n",
       "count                       13087  13087                13087  \n",
       "unique                       2400    253                  810  \n",
       "top     2018-04-13T00:00:00-04:00     []  [Criminal Division]  \n",
       "freq                           20   8399                 2680  "
      ]
     },
     "execution_count": 43,
     "metadata": {},
     "output_type": "execute_result"
    }
   ],
   "source": [
    "df.describe()"
   ]
  },
  {
   "cell_type": "code",
   "execution_count": 44,
   "id": "c9bcfaf3",
   "metadata": {},
   "outputs": [
    {
     "data": {
      "application/vnd.microsoft.datawrangler.viewer.v0+json": {
       "columns": [
        {
         "name": "index",
         "rawType": "int64",
         "type": "integer"
        },
        {
         "name": "id",
         "rawType": "object",
         "type": "string"
        },
        {
         "name": "title",
         "rawType": "object",
         "type": "string"
        },
        {
         "name": "contents",
         "rawType": "object",
         "type": "string"
        },
        {
         "name": "date",
         "rawType": "object",
         "type": "string"
        },
        {
         "name": "topics",
         "rawType": "object",
         "type": "unknown"
        },
        {
         "name": "components",
         "rawType": "object",
         "type": "unknown"
        }
       ],
       "ref": "4489dd27-5dc4-4471-966f-31b94118b8b8",
       "rows": [
        [
         "4",
         "18-898",
         "$100 Million Settlement Will Speed Cleanup Work at Centredale Manor Superfund Site in North Providence, R.I.",
         "The U.S. Department of Justice, the U.S. Environmental Protection Agency (EPA), and the Rhode Island Department of Environmental Management (RIDEM) announced today that two subsidiaries of Stanley Black & Decker Inc.—Emhart Industries Inc. and Black & Decker Inc.—have agreed to clean up dioxin contaminated sediment and soil at the Centredale Manor Restoration Project Superfund Site in North Providence and Johnston, Rhode Island.  “We are pleased to reach a resolution through collaborative work with the responsible parties, EPA, and other stakeholders,” said Acting Assistant Attorney General Jeffrey H. Wood for the Justice Department's Environment and Natural Resources Division . “Today’s settlement ends protracted litigation and allows for important work to get underway to restore a healthy environment for citizens living in and around the Centredale Manor Site and the Woonasquatucket River.” “This settlement demonstrates the tremendous progress we are achieving working with responsible parties, states, and our federal partners to expedite sites through the entire Superfund remediation process,” said EPA Acting Administrator Andrew Wheeler. “The Centredale Manor Site has been on the National Priorities List for 18 years; we are taking charge and ensuring the Agency makes good on its promise to clean it up for the betterment of the environment and those communities affected.” “Successfully concluding this settlement paves the way for EPA to make good on our commitment to aggressively pursue cleaning up the Centredale Manor Superfund Site,” said EPA New England Regional Administrator Alexandra Dunn. “We are excited to get to work on the cleanup at this site, and get it closer to the goal of being fully utilized by the North Providence and Johnston communities.” “We are pleased that the collective efforts of the State of Rhode Island, EPA, and DOJ in these negotiations have concluded in this major milestone toward the cleanup of the Centredale Manor Restoration Superfund site and are consistent with our long-standing efforts to make the polluter pay,” said RIDEM Director Janet Coit. “The settlement will speed up a remedy that protects public health and the river environment, and moves us closer to the day that we can reclaim recreational uses of this beautiful river resource.” The settlement, which includes cleanup work in the Woonasquatucket River (River) and bordering residential and commercial properties along the River, requires the companies to perform the remedy selected by EPA for the Site in 2012, which is estimated to cost approximately $100 million, and resolves longstanding litigation. The cleanup remedy includes excavation of contaminated sediment and floodplain soil from the Woonasquatucket River, including from adjacent residential properties. Once the cleanup remedy is completed, full access to the Woonasquatucket River should be restored for local citizens. The cleanup will be a step toward the State’s goal of a fishable and swimmable river. The work will also include upgrading caps over contaminated soil in the peninsula area of the Site that currently house two high-rise apartment buildings. The settlement also ensures that the long-term monitoring and maintenance of the site, as directed in the remedy, will be implemented to ensure that public health is protected.  Under the settlement, Emhart and Black & Decker will reimburse EPA for approximately $42 million in past costs incurred at the Site. The companies will also reimburse EPA and the State of Rhode Island for future costs incurred by those agencies in overseeing the work required by the settlement. The settlement will also include payments on behalf of two federal agencies to resolve claims against those agencies. These payments, along with prior settlements related to the Site, will result in a 100 percent recovery for the United States of its past and future response costs related to the Site. Litigation related to the Site has been ongoing for nearly eight years. While the Federal District Court found Black & Decker and Emhart to be liable for their hazardous waste and responsible to conduct the cleanup of the Site, it had also ruled that EPA needed to reconsider certain aspects of that cleanup. EPA appealed the decision requiring it to reconsider aspects of the cleanup. This settlement, once entered by the District Court, will resolve the litigation between the United States, Rhode Island, and Emhart and Black and Decker, allowing the cleanup of the Site to begin. The Site spans a one and a half mile stretch of the Woonasquatucket River and encompasses a nine-acre peninsula, two ponds and a significant forested wetland. From the 1940s to the early 1970s, Emhart’s predecessor operated a chemical manufacturing facility on the peninsula and used a raw material that was contaminated with 2,3,7,8-tetrachlorodibenzo-p-dioxin, a toxic form of dioxin. The Site property was also previously used by a barrel refurbisher. Elevated levels of dioxins and other contaminants have been detected in soil, groundwater, sediment, surface water and fish.  The Site was added to the National Priorities List (NPL) in 2000, and in December 2017, EPA included the Centredale Manor Restoration Project Superfund Site on a list of Superfund sites targeted for immediate and intense attention. Several short-term actions were previously performed at the Site to address immediate threats to the residents and minimize potential erosion and downstream transport of contaminated soil and sediment. This settlement is the latest agreement EPA has reached since the Site was listed on the NPL. Prior agreements addressed the performance and recovery of costs for the past environmental investigations and interim cleanup actions from Emhart, the barrel reconditioning company, the current owners of the peninsula portion of the Site, and other potentially responsible parties. The Consent Decree, lodged in the U.S. District Court of Rhode Island, will be posted in the Federal Register and available for public comment for a period of 30 days. The Consent Decree can be viewed on the Justice Department website: www.justice.gov/enrd/Consent_Decrees.html.  EPA information on the Centredale Manor Superfund Site: www.epa.gov/superfund/centredale.",
         "2018-07-09T00:00:00-04:00",
         "['Environment']",
         "['Environment and Natural Resources Division']"
        ],
        [
         "7",
         "14-1412",
         "14 Indicted in Connection with New England Compounding Center and Nationwide Fungal Meningitis Outbreak",
         "A 131-count criminal indictment was unsealed today in Boston in connection with the 2012 nationwide fungal meningitis outbreak, the Justice Department announced.  Barry J. Cadden, owner and head pharmacist of New England Compounding Center (NECC) and NECC’s supervisory pharmacist Glenn A. Chin were charged with 25 acts of second-degree murder in Florida, Indiana, Maryland, Michigan, North Carolina, Tennessee and Virginia.    The outbreak was caused by contaminated vials of preservative-free methylprednisolone acetate (MPA) manufactured by NECC, located in Framingham, Massachusetts.  The U.S. Centers for Disease Control and Prevention (CDC) reported that 751 patients in 20 states were diagnosed with a fungal infection after receiving injections of NECC’s MPA.  Of those 751 patients, the CDC reported that 64 patients in nine states died.  Twelve other individuals, all associated with NECC, including six other pharmacists, the director of operations, the national sales director, an unlicensed pharmacy technician, two of NECC’s owners, and one other individual were charged with additional crimes including racketeering, mail fraud, conspiracy, contempt, structuring, and violations of the Food, Drug and Cosmetic Act. “As alleged in the indictment, these employees knew they were producing their medication in an unsafe manner and in insanitary conditions, and authorized it to be shipped out anyway, with fatal results,” said Attorney General Eric Holder.  “With the indictment and these arrests, the Department of Justice is taking decisive action to hold these individuals accountable for their alleged participation in grievous wrongdoing.  Actions like the ones alleged in this case display not only a reckless disregard for health and safety regulations, but also an extreme and appalling indifference to human life.  American consumers have a right to know that their medications are safe to use, and this case proves that the Department of Justice will always stand resolute to ensure that right, to protect the American people, and to hold wrongdoers accountable to the fullest extent of the law.” “Every patient receiving treatment deserves the peace of mind and knowledge that the medicine they are receiving is safe,” said Acting Associate Attorney General Stuart Delery.  “When people and companies violate that trust and break the law, the consequences to patients and their families can be catastrophic.  That’s why it remains a priority of the Department to use every tool at our disposal to protect patients’ safety and hold bad actors accountable.” “Those who produce and sell the drugs that we take have a special responsibility to make sure that they prepare those drugs under suitable conditions, and that what leaves their facilities is safe,” said Acting Assistant Attorney General Joyce R. Branda for the Justice Department’s Civil Division.  “The indictment charges that the defendants’ conduct in this case was corrupt and carried out with a complete disregard to the public’s health.  The department‘s Consumer Protection Branch along with our law enforcement partners is steadfast in our commitment to use every criminal and civil tool at our disposal to hold accountable those who are willing to put our lives at risk in the reckless pursuit of their profits.” “Ever since the outbreak occurred, we have been committed to bringing to justice the individuals responsible for the deaths and suffering of so many innocent victims,” said U.S. Attorney Carmen Ortiz for the District of Massachusetts.  “The indictment announced today is the first step in that process which addresses alleged criminal wrongdoing at NECC, a business that prioritized production and profit over safety.  We will make every effort to ensure that licensed pharmacists, and those working with them, are held to a standard of care that protects the public from unsafe and dangerous medications.”  “Two years after the fungal meningitis outbreak, our hearts continue to go out to the victims of this tragedy and to their families,” said FDA Commissioner Margaret A. Hamburg M.D.  “Our work on behalf of all patients who want and deserve medicines that do not subject them to undue risk is far from done.  The FDA will continue to work aggressively on many fronts with the states, the Department of Justice, and others to protect the American public from unsafe compounded drug products.”  “Threats to public health, as alleged in today's indictment, are a priority for the FBI,” said Assistant Director Joseph S. Campbell of the FBI’s Criminal Division.  “Together with our law enforcement and regulatory agency partners, we are determined to stop practices that jeopardize patients' health and violate the public trust.  These types of investigations are complex and resource intensive.  We greatly appreciate the efforts of our partners in this case and look forward to working with them to effectively identify criminal activities and combat fraudulent and abusive health practices in the future.” The 14 individuals charged in the indictment are Barry J. Cadden, 48, of Wrentham, Massachusetts; Glenn A. Chin, 46, of Canton, Massachusetts; Gene Svirskiy, 33, of Ashland, Massachusetts; Christopher M. Leary, 30, of Shrewsbury, Massachusetts; Joseph M. Evanosky, 42, of Westford, Massachusetts; Scott M. Connolly, 42, of East Greenwich, Rhode Island; Sharon P. Carter, 50, of Hopkinton, Massachusetts; Alla V. Stepanets, 34, of Framingham, Massachusetts; Gregory A. Conigliaro, 49 of Southborough, Massachusetts; Robert A. Ronzio, 40, of North Providence, Rhode Island; Kathy Chin, 42, of Canton, Massachusetts; Michelle Thomas, 31 of Cumberland, Rhode Island; Carla Conigliaro, 51, of Dedham, Massachusetts and Douglas A. Conigliaro, 53, of Dedham, Massachusetts.   The 25 second-degree murders are included in the indictment as predicate racketeering acts under the Racketeer Influenced and Corrupt Organizations Act (RICO).  These charges relate to patients who received NECC MPA and died in Florida, Indiana, Maryland, Michigan, North Carolina, Tennessee and Virginia. As a general matter, and depending on particular state law, second-degree murder does not require the government to prove Cadden and Chin had specific intent to kill the 25 patients, but rather that Cadden and Chin acted with extreme indifference to human life.  According to the indictment, Cadden and Chin knew that NECC was making MPA in a manner and in an environment in which they could not assure that the drug was sterile as it was identified to be.  Despite knowing that they were making the MPA in an unsafe manner and in insanitary conditions, Cadden and Chin nonetheless allegedly directed and authorized the shipping of MPA to NECC customers nationwide.  It is alleged that Cadden and Chin were aware that doctors would inject MPA into their patients’ bodies, and that if the MPA was not in fact sterile, it could kill them.  The 25 murder racketeering acts comprise only a portion of the broad racketeering scheme charged in the indictment.  The indictment also alleges that NECC’s other pharmacists knowingly made and sold numerous drugs in a similar unsafe manner and in insanitary conditions.  The unsafe manner alleged in the indictment includes, among other things, the pharmacists’ failure to properly sterilize NECC’s drugs, failure to properly test NECC’s drugs for sterility, and failure to wait for test results before sending the drugs to customers.  The insanitary conditions alleged in the indictment include, among other things, NECC’s lack of proper cleaning and NECC’s failure to take any action when its own environmental monitoring repeatedly detected mold and bacteria within NECC’s clean room suite of rooms throughout 2012.  It is further alleged that NECC repeatedly took steps to shield its operations from regulatory oversight by the FDA by claiming to be a pharmacy dispensing drugs pursuant to valid, patient-specific prescriptions.  In fact, NECC routinely dispensed drugs in bulk without valid prescriptions.  The indictment alleges that NECC even used fictional and celebrity names on fake prescriptions to dispense drugs.  Finally, the indictment charges Carla Conigliaro, the majority shareholder of NECC, and her husband Douglas Conigliaro with transferring assets following the fungal meningitis outbreak.  Specifically, the indictment charges that after NECC declared bankruptcy, and the bankruptcy court ordered the shareholders not to transfer assets, Carla and Doug Conigliaro transferred approximately $33.3 million to eight different bank accounts opened after the NECC bankruptcy.  Cadden and Chin face a maximum of up to life in prison if convicted on all counts.  “Although no VA patients were affected by the fungal meningitis outbreak, VA unknowingly purchased a variety of pharmaceutical products over a three year period from NECC that were intentionally produced in an unsafe manner under insanitary conditions,” said Assistant Inspector General for Investigations James J. O’Neill for the Office of Inspector General, Department of Veterans Affairs.  “We are pleased to have contributed to this outstanding multi-agency criminal investigation.” “Today's results are part of an ongoing effort by the Defense Criminal Investigative Service and its law enforcement partners to protect the integrity of the Department of Defense's health care program and the quality of care our service members receive,” said Deputy Inspector General for Investigations James B. Burch for the U.S. Department of Defense Office of the Inspector General.  “The Defense Criminal Investigative Service will continue to pursue allegations of health care fraud that put the Warfighter at risk.” “The U.S. Postal Inspection Service is pleased to join our federal partners in this announcement” said Postal Inspector in Charge Shelly A. Binkowski of the Boston Division.  “What's particularly disturbing about this case is that through their alleged misrepresentation and greed, these defendants put the health and well-being of others at a high level of risk.  This criminal action today demonstrates the commitment and vigilance of postal inspectors and other federal agents to pursue criminals who prey on the public in such an egregious way.” In announcing the indictment today, Attorney General Holder and U.S. Attorney Ortiz acknowledged the assistance and cooperation of Michigan State Attorney General Bill Schuette.  The state of Michigan had the most deaths during the outbreak. The investigation was conducted by the FDA Office of Criminal Investigations and the FBI with assistance by the Defense Criminal Investigative Service, U.S. Department of Defense, Office of Inspector General; Department of Veterans Affairs Office of Inspector General and U.S. Postal Inspection Service. The case is being prosecuted by Assistant U.S. Attorneys George P. Varghese and Amanda P.M. Strachan of the Health Care Fraud Unit for the U.S. Attorney’s Office in the District of Massachusetts, and Trial Attorney John W.M. Claud of the Civil Division’s Consumer Protection Branch. The details contained in the indictment are allegations.  The defendants are presumed innocent unless and until proven guilty beyond a reasonable doubt. Victims with questions about today’s charges may call 1-888-221-6023 or email usama.victimassistance@usdoj.gov.",
         "2014-12-17T00:00:00-05:00",
         "['Consumer Protection']",
         "['Civil Division']"
        ],
        [
         "19",
         "17-1419",
         "2017 Southeast Regional Animal Cruelty Prosecutions Training Held at Valdosta State University",
         "The United States Attorney’s Office for the Middle District of Georgia, the Environmental Crimes Section of the United States Department of Justice’s Environment and Natural Resources Division, and the United States Department of Agriculture – Office of Inspector General hosted training for the Southeast region on animal cruelty prosecutions, Dec. 13-14.     This training represents the collaboration and coordination of federal and local agencies and offices to combat crimes of animal cruelty, including organized dog fighting, cock fighting, and horse soring. The conference provided participants with an overview of the federal animal welfare and cruelty statutes, investigation techniques, and strategies to overcome prosecution challenges. The Humane Society of the United States, along with prosecutors and federal agents, shared their experience in handling dog fighting and animal cruelty cases strengthening the response to these serious crimes.   “Fighting contests involving dogs and other animals are morally wrong and illegal, said United States Attorney Charles E. Peeler.” They also create havens for additional illegal conduct such as gambling, drug trade and unlawful gun possession.  Our office works with federal, state and local law enforcement agencies to identify and prosecute those involved in this reprehensible conduct.”   “Ending animal fighting ventures and other inhumane practices will require a close partnership among federal, state, and local law enforcement agencies,” said Acting Assistant Attorney General Jeffrey H. Wood of the Justice Department’s Environment and Natural Resources Division. “Our Division is proud to be a leader in this worthy cause and to participate in this important training event in the wonderful city of Valdosta, Georgia.”   “The USDA OIG is pleased to have worked closely with the Department of Justice to coordinate this important training initiative to combat animal fighting and the associated crimes which often occur in animal fighting ventures,” said Special Agent in Charge Karen Citizen-Wilcox for the USDA OIG Southeast Region Office of Investigations. “Special Agents from all of the OIG’s regional offices will share their knowledge of and experiences with animal fighting investigations with personnel attending from other law enforcement agencies and private organizations.”   During the training, animal fighting investigators from the Humane Society of the United States, along with prosecutors and USDA OIG agents who have successfully investigated and prosecuted animal fighting cases, shared their experiences with attendees. Instructors provided participants with an overview of the business of dog fighting, a description of federal animal welfare and cruelty statutes, effective investigative techniques, evidence collection best practices, available resources and authorities for the seizure and post-seizure care of animals and successful sentencing strategies.   State and national animal control associations estimate that upwards of 40,000 people participate in dog fighting in the United States at a professional level, meaning that dog fighting and its associated gambling are their primary or only source of income. An unknown but potentially larger number of people participate in dog fighting on an occasional basis. Cockfighting is thought to be similarly widespread. In addition, animal fighting activities attract other serious crimes, such as gambling, drug dealing, weapons offenses and money laundering. Children are commonly present at animal fighting events.   The federal Animal Welfare Act makes it a felony punishable by up to five years in prison to knowingly sell, buy, possess, train, transport, deliver, or receive any animal, including dogs, for purposes of having the animal participate in an animal fighting venture. In 2014, the Department of Justice designated the Environment and Natural Resources Division as the centralized body within the Department responsible for tracking, coordinating, and working with the U.S. Attorneys’ Offices on animal cruelty enforcement matters.",
         "2017-12-14T00:00:00-05:00",
         "['Environment']",
         "['Environment and Natural Resources Division', 'USAO - Georgia, Middle']"
        ],
        [
         "22",
         "15-1562",
         "21st Century Oncology to Pay $19.75 Million to Settle Alleged False Claims for Unnecessary Laboratory Tests ",
         "21st Century Oncology LLC, has agreed to pay $19.75 million to the government to resolve allegations that it violated the False Claims Act by billing federal health care programs for laboratory tests that were not medically necessary, the Justice Department announced today.  21st Century is a nationwide provider of integrated cancer care services that is headquartered in Fort Myers, Florida.  “Today’s settlement demonstrates our unwavering commitment to protect the Medicare trust fund against unscrupulous providers,” said Principal Deputy Assistant Attorney General Benjamin C. Mizer, head of the Justice Department’s Civil Division.  “Providers who waste taxpayer dollars by billing for unnecessary services will face serious consequences.” The settlement announced today resolves allegations that 21st Century submitted claims to Medicare and Tricare for fluorescence in situ hybridization, or “FISH,” tests that were not medically necessary.  FISH tests are laboratory tests performed on urine that can detect genetic abnormalities associated with bladder cancer.  The government alleged that 21st Century submitted claims for unnecessary FISH tests that were ordered by four of its urologists, Dr. Meir Daller, Dr. Steven Paletsky, Dr. David Spellberg and Dr. Robert Scappa, all of whom practiced in the Fort Myers area.  The government also alleged that 21st Century encouraged these physicians to order unnecessary FISH tests by offering bonuses that were based in part on the number of tests referred to 21st Century’s laboratory.  Today’s settlement resolves the civil liability of 21st Century only.  “Charging the government for clearly unnecessary medical services squanders taxpayer dollars,” said U.S. Attorney A. Lee Bentley, III of the Middle District of Florida.  “Our office will continue to pursue health care providers who defraud the United States, thereby threatening the viability of government health care programs, such as Medicare.” “These tests were ordered to increase profits, not improve the healthcare of patients,” said Special Agent in Charge Shimon Richmond of the Department of Health and Human Services Office of Inspector General (HHS-OIG). “This kind of unvarnished fraud is an attack on Medicare by unscrupulous providers and the OIG and its federal partners will take whatever steps are necessary to stop them.” “This settlement demonstrates the commitment of the Defense Criminal Investigative Service (DCIS) and its law enforcement partners to protect the integrity of the U.S. military health care program (TRICARE) against fraudulent claims for medical services, said Special Agent in Charge John F. Khin of DCIS’s Southeast Field Office.” The settlement resolves allegations originally brought in a lawsuit filed by a whistleblower under the qui tam provisions of the False Claims Act, which allow private parties to bring suit on behalf of the government and to share in any recovery.  The whistleblower, a former 21st Century Oncology LLC medical assistant, will receive $3.2 million as her share of the recovery in this case. The investigation was handled by the Civil Division’s Commercial Litigation Branch and the Fort Myers Division of the U.S. Attorney’s Office of the Middle District of Florida with assistance from HHS-OIG, DCIS and the FBI.  This settlement illustrates the government’s emphasis on combating health care fraud and marks another achievement for the Health Care Fraud Prevention and Enforcement Action Team (HEAT) initiative, which was announced in May 2009 by the Attorney General and the Secretary of Health and Human Services.  The partnership between the two departments has focused efforts to reduce and prevent Medicare and Medicaid financial fraud through enhanced cooperation.  One of the most powerful tools in this effort is the False Claims Act.  Since January 2009, the Justice Department has recovered a total of more than $26.7 billion through False Claims Act cases, with more than $16.8 billion of that amount recovered in cases involving fraud against federal health care programs.   The lawsuit is captioned United States, State of Florida, ex rel. Mariela Barnes v. Dr. David Spellberg, 21st Century Oncology and Naples Urology Associates, Civil Action No. 2:13-cv-228-FtM-38DNF (M.D. Fla.).  The claims resolved by the settlement are allegations only, and there has been no determination of liability. ",
         "2015-12-18T00:00:00-05:00",
         "['False Claims Act', 'Health Care Fraud']",
         "['Civil Division']"
        ],
        [
         "23",
         "17-1404",
         "21st Century Oncology to Pay $26 Million to Settle False Claims Act Allegations",
         "21st Century Oncology Inc. and certain of its subsidiaries and affiliates have agreed to pay $26 million to the government to resolve a self-disclosure relating to the submission of false attestations regarding the company’s use of electronic health records software and separate allegations that they violated the False Claims Act by submitting, or causing the submission of, claims for certain services provided pursuant to referrals from physicians with whom they had improper financial relationships.   “The Justice Department is committed to zealously investigating improper financial relationships that have the potential to compromise physicians’ medical judgment,” said Acting Assistant Attorney General Chad A. Readler of the Justice Department’s Civil Division.  “However, we will work with companies that accept responsibility for their past compliance failures and promptly take corrective action.”    21st Century Oncology, which is headquartered in Fort Myers, Florida, owns and operates subsidiaries and affiliates throughout the United States that provide integrated cancer care.  As part of its business, 21st Century Oncology’s subsidiaries and affiliates employ physicians in specialty fields such as radiation oncology, medical oncology, and urology.     The settlement announced today resolves conduct that was self-disclosed by the company regarding payments made by the government as part of the Medicare Electronic Health Records (EHR) Incentive Program.  Under the Medicare EHR Incentive Program, physicians who attest to their meaningful use of certified EHR technology may receive incentive payments and avoid downward adjustments to certain Medicare claims.  As part of its self-disclosure, 21st Century Oncology reported that it knowingly submitted, or caused the submission of, false attestations to CMS concerning employed physicians’ use of EHR software.  The company further reported that, in support of the attestations, its employees falsified data regarding the company’s use of EHR software, fabricated software utilization reports, and superimposed EHR vendor logos onto the reports to make them look legitimate.     “This settlement represents our office’s continued commitment to ensuring compliance with important federal health care laws,” said Acting U.S. Attorney Stephen Muldrow of the Middle District of Florida.  “We appreciate that 21st Century Oncology self-reported a major fraud affecting Medicare, and we are also pleased that the company has agreed to accept financial responsibility for past compliance failures.”   The settlement also resolves the government’s allegations regarding violations of the physician self-referral law (commonly referred to as the “Stark Law.”)  The Stark Law prohibits an entity from submitting claims to Medicare for designated health services performed pursuant to referrals from physicians with whom the entity has a financial relationship unless certain designated exceptions apply.  The government alleged that 21st Century Oncology and certain of its subsidiaries and affiliates violated the FCA by submitting, or causing the submission of, claims for services performed pursuant to referrals from physicians whose compensation did not satisfy any exception to the Stark Law.   The Stark Law allegations were originally brought in a lawsuit filed by Matthew Moore, 21st Century Oncology’s former Interim Vice President of Financial Planning, under the qui tam provisions of the False Claims Act.  Under the Act, private parties may bring suit on behalf of the government and share in any recovery.  Mr. Moore will receive $2,000,000 as his share of the recovery associated with the Stark Law allegations.   In addition to the civil settlement, 21st Century Oncology has entered into a new five-year Corporate Integrity Agreement with the Office of Inspector General of the United States Department of Health and Human Services (HHS-OIG), which obligates 21st Century Oncology to undertake substantial internal compliance reforms, including hiring independent review organizations to conduct annual claims and arrangements reviews.    “21st Century Oncology admitted to causing violation of the meaningful use regulations in order to fund an electronic health records system, as well as falsifying records to cover up those actions,” said Shimon R. Richmond, Special Agent in Charge for the Office of Inspector General of the U.S. Department of Health and Human Services.  “Separately, the government alleged that same company, through its affiliates and subsidiaries, caused certain physicians to enter into illegal financial arrangements.  Providers engaging in similar behavior should expect attention from OIG.”      The government’s resolution of this matter illustrates the government’s emphasis on combating health care fraud.  Tips and complaints from all sources about potential fraud, waste, abuse, and mismanagement can be reported to the Department of Health and Human Services at 900-HHS-TIPS (800-447-8477).   The investigation was handled by the Civil Division’s Commercial Litigation Branch and the Fort Myers Division of the U.S. Attorney’s Office for the Middle District of Florida, with assistance from the U.S. Attorney’s Office for the Southern District of New York and HHS-OIG.  The claims resolved by this settlement are allegations only; there has been no determination of liability.  The case is captioned United States ex rel. Moore v. 21st Century Oncology, LLC, No. 2:16-cv-99 (M.D. Fl.).",
         "2017-12-12T00:00:00-05:00",
         "['Health Care Fraud', 'False Claims Act']",
         "['Civil Division', 'USAO - Florida, Middle']"
        ]
       ],
       "shape": {
        "columns": 6,
        "rows": 5
       }
      },
      "text/html": [
       "<div>\n",
       "<style scoped>\n",
       "    .dataframe tbody tr th:only-of-type {\n",
       "        vertical-align: middle;\n",
       "    }\n",
       "\n",
       "    .dataframe tbody tr th {\n",
       "        vertical-align: top;\n",
       "    }\n",
       "\n",
       "    .dataframe thead th {\n",
       "        text-align: right;\n",
       "    }\n",
       "</style>\n",
       "<table border=\"1\" class=\"dataframe\">\n",
       "  <thead>\n",
       "    <tr style=\"text-align: right;\">\n",
       "      <th></th>\n",
       "      <th>id</th>\n",
       "      <th>title</th>\n",
       "      <th>contents</th>\n",
       "      <th>date</th>\n",
       "      <th>topics</th>\n",
       "      <th>components</th>\n",
       "    </tr>\n",
       "  </thead>\n",
       "  <tbody>\n",
       "    <tr>\n",
       "      <th>4</th>\n",
       "      <td>18-898</td>\n",
       "      <td>$100 Million Settlement Will Speed Cleanup Wor...</td>\n",
       "      <td>The U.S. Department of Justice, the U.S. Envir...</td>\n",
       "      <td>2018-07-09T00:00:00-04:00</td>\n",
       "      <td>[Environment]</td>\n",
       "      <td>[Environment and Natural Resources Division]</td>\n",
       "    </tr>\n",
       "    <tr>\n",
       "      <th>7</th>\n",
       "      <td>14-1412</td>\n",
       "      <td>14 Indicted in Connection with New England Com...</td>\n",
       "      <td>A 131-count criminal indictment was unsealed t...</td>\n",
       "      <td>2014-12-17T00:00:00-05:00</td>\n",
       "      <td>[Consumer Protection]</td>\n",
       "      <td>[Civil Division]</td>\n",
       "    </tr>\n",
       "    <tr>\n",
       "      <th>19</th>\n",
       "      <td>17-1419</td>\n",
       "      <td>2017 Southeast Regional Animal Cruelty Prosecu...</td>\n",
       "      <td>The United States Attorney’s Office for the Mi...</td>\n",
       "      <td>2017-12-14T00:00:00-05:00</td>\n",
       "      <td>[Environment]</td>\n",
       "      <td>[Environment and Natural Resources Division, U...</td>\n",
       "    </tr>\n",
       "    <tr>\n",
       "      <th>22</th>\n",
       "      <td>15-1562</td>\n",
       "      <td>21st Century Oncology to Pay $19.75 Million to...</td>\n",
       "      <td>21st Century Oncology LLC, has agreed to pay $...</td>\n",
       "      <td>2015-12-18T00:00:00-05:00</td>\n",
       "      <td>[False Claims Act, Health Care Fraud]</td>\n",
       "      <td>[Civil Division]</td>\n",
       "    </tr>\n",
       "    <tr>\n",
       "      <th>23</th>\n",
       "      <td>17-1404</td>\n",
       "      <td>21st Century Oncology to Pay $26 Million to Se...</td>\n",
       "      <td>21st Century Oncology Inc. and certain of its ...</td>\n",
       "      <td>2017-12-12T00:00:00-05:00</td>\n",
       "      <td>[Health Care Fraud, False Claims Act]</td>\n",
       "      <td>[Civil Division, USAO - Florida, Middle]</td>\n",
       "    </tr>\n",
       "  </tbody>\n",
       "</table>\n",
       "</div>"
      ],
      "text/plain": [
       "         id                                              title  \\\n",
       "4    18-898  $100 Million Settlement Will Speed Cleanup Wor...   \n",
       "7   14-1412  14 Indicted in Connection with New England Com...   \n",
       "19  17-1419  2017 Southeast Regional Animal Cruelty Prosecu...   \n",
       "22  15-1562  21st Century Oncology to Pay $19.75 Million to...   \n",
       "23  17-1404  21st Century Oncology to Pay $26 Million to Se...   \n",
       "\n",
       "                                             contents  \\\n",
       "4   The U.S. Department of Justice, the U.S. Envir...   \n",
       "7   A 131-count criminal indictment was unsealed t...   \n",
       "19  The United States Attorney’s Office for the Mi...   \n",
       "22  21st Century Oncology LLC, has agreed to pay $...   \n",
       "23  21st Century Oncology Inc. and certain of its ...   \n",
       "\n",
       "                         date                                 topics  \\\n",
       "4   2018-07-09T00:00:00-04:00                          [Environment]   \n",
       "7   2014-12-17T00:00:00-05:00                  [Consumer Protection]   \n",
       "19  2017-12-14T00:00:00-05:00                          [Environment]   \n",
       "22  2015-12-18T00:00:00-05:00  [False Claims Act, Health Care Fraud]   \n",
       "23  2017-12-12T00:00:00-05:00  [Health Care Fraud, False Claims Act]   \n",
       "\n",
       "                                           components  \n",
       "4        [Environment and Natural Resources Division]  \n",
       "7                                    [Civil Division]  \n",
       "19  [Environment and Natural Resources Division, U...  \n",
       "22                                   [Civil Division]  \n",
       "23           [Civil Division, USAO - Florida, Middle]  "
      ]
     },
     "execution_count": 44,
     "metadata": {},
     "output_type": "execute_result"
    }
   ],
   "source": [
    "df = df[df[\"topics\"].str.len() != 0]\n",
    "df.head()"
   ]
  },
  {
   "cell_type": "code",
   "execution_count": 32,
   "id": "8bce4b3c",
   "metadata": {},
   "outputs": [
    {
     "data": {
      "text/plain": [
       "(4688, 6)"
      ]
     },
     "execution_count": 32,
     "metadata": {},
     "output_type": "execute_result"
    }
   ],
   "source": [
    "df.shape"
   ]
  },
  {
   "cell_type": "code",
   "execution_count": 36,
   "id": "d59d9ea3",
   "metadata": {},
   "outputs": [
    {
     "data": {
      "text/plain": [
       "5504"
      ]
     },
     "execution_count": 36,
     "metadata": {},
     "output_type": "execute_result"
    }
   ],
   "source": [
    "df = df.head(100)\n",
    "len(df[\"contents\"].iloc[4])"
   ]
  },
  {
   "cell_type": "code",
   "execution_count": null,
   "id": "ee2d1d6b",
   "metadata": {},
   "outputs": [],
   "source": [
    "df[\"contents_new\"] = df[\"contents\"].apply()"
   ]
  }
 ],
 "metadata": {
  "kernelspec": {
   "display_name": "nlp_env",
   "language": "python",
   "name": "python3"
  },
  "language_info": {
   "codemirror_mode": {
    "name": "ipython",
    "version": 3
   },
   "file_extension": ".py",
   "mimetype": "text/x-python",
   "name": "python",
   "nbconvert_exporter": "python",
   "pygments_lexer": "ipython3",
   "version": "3.12.5"
  }
 },
 "nbformat": 4,
 "nbformat_minor": 5
}
