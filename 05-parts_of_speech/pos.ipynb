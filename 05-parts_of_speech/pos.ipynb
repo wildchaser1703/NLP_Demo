{
 "cells": [
  {
   "cell_type": "code",
   "execution_count": 1,
   "id": "ca0085e8",
   "metadata": {},
   "outputs": [],
   "source": [
    "import spacy\n",
    "import nltk"
   ]
  },
  {
   "cell_type": "markdown",
   "id": "98e2b65c",
   "metadata": {},
   "source": [
    "### Fundamental parts of speech of the english language\n",
    "1. Noun\n",
    "2. Pronoun\n",
    "3. Verb\n",
    "4. Interjection\n",
    "5. Adjective\n",
    "6. Adverb\n",
    "7. Conjunction\n",
    "8. Preposition"
   ]
  },
  {
   "cell_type": "code",
   "execution_count": 8,
   "id": "97466590",
   "metadata": {},
   "outputs": [
    {
     "name": "stdout",
     "output_type": "stream",
     "text": [
      "I | PRON | pronoun\n",
      "took | VERB | verb\n",
      "a | DET | determiner\n",
      "round | ADJ | adjective\n",
      "trip | NOUN | noun\n",
      "to | ADP | adposition\n",
      "Mars | PROPN | proper noun\n",
      ", | PUNCT | punctuation\n",
      "and | CCONJ | coordinating conjunction\n",
      "say | VERB | verb\n",
      "what | PRON | pronoun\n",
      "you | PRON | pronoun\n",
      "will | AUX | auxiliary\n",
      "next | ADJ | adjective\n",
      "time | NOUN | noun\n",
      "I | PRON | pronoun\n",
      "will | AUX | auxiliary\n",
      "bring | VERB | verb\n",
      "along | ADP | adposition\n",
      "my | PRON | pronoun\n",
      "paint | NOUN | noun\n",
      "supplies | NOUN | noun\n",
      "! | PUNCT | punctuation\n",
      ":D | PUNCT | punctuation\n"
     ]
    }
   ],
   "source": [
    "nlp = spacy.load(\"en_core_web_sm\")\n",
    "doc = nlp(\"I took a round trip to Mars, and say what you will next time I will bring along my paint supplies! :D\")\n",
    "\n",
    "for token in doc:\n",
    "    print(token, \"|\", token.pos_, \"|\", spacy.explain(token.pos_))"
   ]
  },
  {
   "cell_type": "code",
   "execution_count": 9,
   "id": "888c8aaf",
   "metadata": {},
   "outputs": [
    {
     "data": {
      "text/plain": [
       "['tok2vec', 'tagger', 'parser', 'attribute_ruler', 'lemmatizer', 'ner']"
      ]
     },
     "execution_count": 9,
     "metadata": {},
     "output_type": "execute_result"
    }
   ],
   "source": [
    "nlp.pipe_names"
   ]
  },
  {
   "cell_type": "code",
   "execution_count": 11,
   "id": "4569de3a",
   "metadata": {},
   "outputs": [
    {
     "name": "stdout",
     "output_type": "stream",
     "text": [
      "I | PRP | pronoun, personal\n",
      "took | VBD | verb, past tense\n",
      "a | DT | determiner\n",
      "round | JJ | adjective (English), other noun-modifier (Chinese)\n",
      "trip | NN | noun, singular or mass\n",
      "to | IN | conjunction, subordinating or preposition\n",
      "Mars | NNP | noun, proper singular\n",
      ", | , | punctuation mark, comma\n",
      "and | CC | conjunction, coordinating\n",
      "say | VB | verb, base form\n",
      "what | WP | wh-pronoun, personal\n",
      "you | PRP | pronoun, personal\n",
      "will | MD | verb, modal auxiliary\n",
      "next | JJ | adjective (English), other noun-modifier (Chinese)\n",
      "time | NN | noun, singular or mass\n",
      "I | PRP | pronoun, personal\n",
      "will | MD | verb, modal auxiliary\n",
      "bring | VB | verb, base form\n",
      "along | RP | adverb, particle\n",
      "my | PRP$ | pronoun, possessive\n",
      "paint | NN | noun, singular or mass\n",
      "supplies | NNS | noun, plural\n",
      "! | . | punctuation mark, sentence closer\n",
      ":D | . | punctuation mark, sentence closer\n"
     ]
    }
   ],
   "source": [
    "## Further explainability using tag\n",
    "doc = nlp(\"I took a round trip to Mars, and say what you will next time I will bring along my paint supplies! :D\")\n",
    "\n",
    "for token in doc:\n",
    "    print(token, \"|\", token.tag_, \"|\", spacy.explain(token.tag_))"
   ]
  },
  {
   "cell_type": "code",
   "execution_count": 12,
   "id": "2f916109",
   "metadata": {},
   "outputs": [],
   "source": [
    "text = '''\n",
    "NVIDIA’s outlook for the second quarter of fiscal 2026 is as follows:\n",
    "\n",
    "Revenue is expected to be $45.0 billion, plus or minus 2%. This outlook reflects a loss in H20 revenue of approximately $8.0 billion due to the recent export control limitations.\n",
    "GAAP and non-GAAP gross margins are expected to be 71.8%, and 72.0%, respectively, plus or minus 50 basis points. The company is continuing to work toward achieving gross margins in the mid-70%, range late this year.\n",
    "GAAP and non-GAAP operating expenses are expected to be approximately $5.7 billion and $4.0 billion, respectively. Full year fiscal 2026 operating expense growth is expected to be in the mid-30%, range.\n",
    "GAAP and non-GAAP other income and expense are expected to be an income of approximately $450 million, excluding gains and losses from non-marketable and publicly-held equity securities.\n",
    "GAAP and non-GAAP tax rates are expected to be 16.5%, plus or minus 1%, excluding any discrete items.\n",
    "'''"
   ]
  },
  {
   "cell_type": "code",
   "execution_count": 16,
   "id": "13351743",
   "metadata": {},
   "outputs": [
    {
     "data": {
      "text/plain": [
       "[NVIDIA, ’s, outlook, for, the, second, quarter, of, fiscal, 2026]"
      ]
     },
     "execution_count": 16,
     "metadata": {},
     "output_type": "execute_result"
    }
   ],
   "source": [
    "doc = nlp(text)\n",
    "filtered_tokens = []\n",
    "for token in doc:\n",
    "    if token.pos_ not in [\"SPACE\", \"PUNCT\"]:\n",
    "        filtered_tokens.append(token)\n",
    "filtered_tokens[:10]"
   ]
  },
  {
   "cell_type": "code",
   "execution_count": 17,
   "id": "e1e7553b",
   "metadata": {},
   "outputs": [
    {
     "data": {
      "text/plain": [
       "{103: 7,\n",
       " 96: 2,\n",
       " 94: 8,\n",
       " 92: 50,\n",
       " 85: 11,\n",
       " 90: 10,\n",
       " 84: 20,\n",
       " 93: 19,\n",
       " 87: 14,\n",
       " 98: 1,\n",
       " 100: 16,\n",
       " 97: 20,\n",
       " 99: 5,\n",
       " 89: 15,\n",
       " 86: 7}"
      ]
     },
     "execution_count": 17,
     "metadata": {},
     "output_type": "execute_result"
    }
   ],
   "source": [
    "## How do I count the number of each POS?\n",
    "count_pos = doc.count_by(spacy.attrs.POS)\n",
    "count_pos"
   ]
  },
  {
   "cell_type": "code",
   "execution_count": 21,
   "id": "351b7ee1",
   "metadata": {},
   "outputs": [
    {
     "name": "stdout",
     "output_type": "stream",
     "text": [
      "SPACE | 7\n",
      "PROPN | 2\n",
      "PART | 8\n",
      "NOUN | 50\n",
      "ADP | 11\n",
      "DET | 10\n",
      "ADJ | 20\n",
      "NUM | 19\n",
      "AUX | 14\n",
      "SCONJ | 1\n",
      "VERB | 16\n",
      "PUNCT | 20\n",
      "SYM | 5\n",
      "CCONJ | 15\n",
      "ADV | 7\n"
     ]
    }
   ],
   "source": [
    "for key, value in count_pos.items():\n",
    "    print(doc.vocab[key].text, \"|\", value)"
   ]
  },
  {
   "cell_type": "code",
   "execution_count": null,
   "id": "ad9f90c7",
   "metadata": {},
   "outputs": [],
   "source": []
  }
 ],
 "metadata": {
  "kernelspec": {
   "display_name": "nlp_env",
   "language": "python",
   "name": "python3"
  },
  "language_info": {
   "codemirror_mode": {
    "name": "ipython",
    "version": 3
   },
   "file_extension": ".py",
   "mimetype": "text/x-python",
   "name": "python",
   "nbconvert_exporter": "python",
   "pygments_lexer": "ipython3",
   "version": "3.12.5"
  }
 },
 "nbformat": 4,
 "nbformat_minor": 5
}
