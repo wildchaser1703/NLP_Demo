{
 "cells": [
  {
   "cell_type": "markdown",
   "id": "3a76abfa",
   "metadata": {},
   "source": [
    "### POS Exercise\n",
    "You are parsing a snippet from the news today. This story text is given below. Perform the following tasks:\n",
    "1. Extract all the nouns and store them in a list.\n",
    "2. Extract all the numbers in a python list.\n",
    "3. Print the count of all the POS tags in the story."
   ]
  },
  {
   "cell_type": "code",
   "execution_count": 15,
   "id": "4803a694",
   "metadata": {},
   "outputs": [],
   "source": [
    "text = \"\"\"\n",
    "Electric two-wheeler maker Ola Electric reported widening of its losses in the fourth quarter to ₹870 crore as against ₹416 crore in the year-ago quarter.\n",
    "Revenue from operations in the reporting period declined 62 percent year-on-year (YoY) to ₹611 crore.\n",
    "\"\"\""
   ]
  },
  {
   "cell_type": "markdown",
   "id": "60c75193",
   "metadata": {},
   "source": [
    "### Solution"
   ]
  },
  {
   "cell_type": "code",
   "execution_count": 16,
   "id": "34ea5924",
   "metadata": {},
   "outputs": [
    {
     "data": {
      "text/plain": [
       "['tok2vec', 'tagger', 'parser', 'attribute_ruler', 'lemmatizer', 'ner']"
      ]
     },
     "execution_count": 16,
     "metadata": {},
     "output_type": "execute_result"
    }
   ],
   "source": [
    "import spacy\n",
    "nlp = spacy.load(\"en_core_web_sm\")\n",
    "doc = nlp(text)\n",
    "nlp.pipe_names"
   ]
  },
  {
   "cell_type": "markdown",
   "id": "38cfe3ed",
   "metadata": {},
   "source": [
    "### Solution to exercise 1"
   ]
  },
  {
   "cell_type": "code",
   "execution_count": 17,
   "id": "13cff886",
   "metadata": {},
   "outputs": [
    {
     "name": "stdout",
     "output_type": "stream",
     "text": [
      "[wheeler, maker, widening, losses, quarter, crore, crore, year, quarter, Revenue, operations, reporting, period, percent, year, year, crore]\n"
     ]
    }
   ],
   "source": [
    "nouns = []\n",
    "for token in doc:\n",
    "    if token.pos_ in [\"NOUN\"]:\n",
    "        nouns.append(token)\n",
    "print(nouns)"
   ]
  },
  {
   "cell_type": "markdown",
   "id": "2f970fa8",
   "metadata": {},
   "source": [
    "### Solution to exercise 2"
   ]
  },
  {
   "cell_type": "code",
   "execution_count": 18,
   "id": "1db9fda8",
   "metadata": {},
   "outputs": [
    {
     "data": {
      "text/plain": [
       "[two, fourth, 870, 416, 62, 611]"
      ]
     },
     "execution_count": 18,
     "metadata": {},
     "output_type": "execute_result"
    }
   ],
   "source": [
    "nums = []\n",
    "for token in doc:\n",
    "    if token.like_num:\n",
    "        nums.append(token)\n",
    "nums"
   ]
  },
  {
   "cell_type": "code",
   "execution_count": 19,
   "id": "db7f7d16",
   "metadata": {},
   "outputs": [
    {
     "name": "stdout",
     "output_type": "stream",
     "text": [
      "SPACE | 3\n",
      "ADJ | 3\n",
      "NUM | 5\n",
      "PUNCT | 8\n",
      "NOUN | 17\n",
      "PROPN | 3\n",
      "VERB | 2\n",
      "ADP | 8\n",
      "PRON | 1\n",
      "DET | 3\n",
      "PART | 2\n",
      "SYM | 3\n"
     ]
    }
   ],
   "source": [
    "count_pos = doc.count_by(spacy.attrs.POS)\n",
    "for key, value in count_pos.items():\n",
    "    print(doc.vocab[key].text, \"|\", value)"
   ]
  },
  {
   "cell_type": "code",
   "execution_count": null,
   "id": "82e7bc20",
   "metadata": {},
   "outputs": [],
   "source": []
  }
 ],
 "metadata": {
  "kernelspec": {
   "display_name": "nlp_env",
   "language": "python",
   "name": "python3"
  },
  "language_info": {
   "codemirror_mode": {
    "name": "ipython",
    "version": 3
   },
   "file_extension": ".py",
   "mimetype": "text/x-python",
   "name": "python",
   "nbconvert_exporter": "python",
   "pygments_lexer": "ipython3",
   "version": "3.12.5"
  }
 },
 "nbformat": 4,
 "nbformat_minor": 5
}
