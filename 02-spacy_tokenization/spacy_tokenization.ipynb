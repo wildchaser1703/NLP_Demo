{
 "cells": [
  {
   "cell_type": "code",
   "execution_count": 52,
   "id": "2599f531",
   "metadata": {},
   "outputs": [],
   "source": [
    "import spacy"
   ]
  },
  {
   "cell_type": "markdown",
   "id": "2db0bec9",
   "metadata": {},
   "source": [
    "### Tokenizer Implementation\n",
    "1. Create a blank spacy object\n",
    "2. By default it creates a tokenizer\n",
    "3. Text is converted to tokens fed into a doc"
   ]
  },
  {
   "cell_type": "code",
   "execution_count": 53,
   "id": "a2cf60aa",
   "metadata": {},
   "outputs": [
    {
     "name": "stdout",
     "output_type": "stream",
     "text": [
      "Dr.\n",
      "Strange\n",
      "loves\n",
      "pav\n",
      "bhaji\n",
      "as\n",
      "it\n",
      "just\n",
      "costs\n",
      "$\n",
      "5\n",
      "per\n",
      "plate\n",
      "!\n"
     ]
    }
   ],
   "source": [
    "nlp = spacy.blank(\"en\")\n",
    "doc = nlp(\"Dr. Strange loves pav bhaji as it just costs $5 per plate!\")\n",
    "for token in doc:\n",
    "    print(token)"
   ]
  },
  {
   "cell_type": "markdown",
   "id": "7f4adc42",
   "metadata": {},
   "source": [
    "### Basic Tokenization \n",
    "1. Based on grammatical rules tokenization can be done \n",
    "2. Few rules for creating tokens - parse prefix, exception, suffix"
   ]
  },
  {
   "cell_type": "code",
   "execution_count": 54,
   "id": "9267abdd",
   "metadata": {},
   "outputs": [
    {
     "data": {
      "text/plain": [
       "spacy.lang.en.English"
      ]
     },
     "execution_count": 54,
     "metadata": {},
     "output_type": "execute_result"
    }
   ],
   "source": [
    "type(nlp)"
   ]
  },
  {
   "cell_type": "code",
   "execution_count": 55,
   "id": "f9e2b54d",
   "metadata": {},
   "outputs": [],
   "source": [
    "doc = nlp(\"Tony gave two $ to Peter\")"
   ]
  },
  {
   "cell_type": "code",
   "execution_count": 56,
   "id": "62118f87",
   "metadata": {},
   "outputs": [
    {
     "data": {
      "text/plain": [
       "Tony"
      ]
     },
     "execution_count": 56,
     "metadata": {},
     "output_type": "execute_result"
    }
   ],
   "source": [
    "token0 = doc[0]\n",
    "token0"
   ]
  },
  {
   "cell_type": "code",
   "execution_count": 57,
   "id": "a84ff5d1",
   "metadata": {},
   "outputs": [
    {
     "data": {
      "text/plain": [
       "two"
      ]
     },
     "execution_count": 57,
     "metadata": {},
     "output_type": "execute_result"
    }
   ],
   "source": [
    "token2 = doc[2]\n",
    "token2"
   ]
  },
  {
   "cell_type": "code",
   "execution_count": 58,
   "id": "0177adf8",
   "metadata": {},
   "outputs": [
    {
     "data": {
      "text/plain": [
       "True"
      ]
     },
     "execution_count": 58,
     "metadata": {},
     "output_type": "execute_result"
    }
   ],
   "source": [
    "## Can detect numbers written as text\n",
    "token2.like_num"
   ]
  },
  {
   "cell_type": "code",
   "execution_count": 59,
   "id": "cf8189eb",
   "metadata": {},
   "outputs": [
    {
     "data": {
      "text/plain": [
       "True"
      ]
     },
     "execution_count": 59,
     "metadata": {},
     "output_type": "execute_result"
    }
   ],
   "source": [
    "## Can detect currency symbols\n",
    "token3 = doc[3]\n",
    "token3.is_currency"
   ]
  },
  {
   "cell_type": "code",
   "execution_count": 60,
   "id": "c2e7d5a3",
   "metadata": {},
   "outputs": [
    {
     "name": "stdout",
     "output_type": "stream",
     "text": [
      "Tony index: 0 is_alpha: True is_punct: False like_num: False is_currency: False\n",
      "gave index: 1 is_alpha: True is_punct: False like_num: False is_currency: False\n",
      "two index: 2 is_alpha: True is_punct: False like_num: True is_currency: False\n",
      "$ index: 3 is_alpha: False is_punct: False like_num: False is_currency: True\n",
      "to index: 4 is_alpha: True is_punct: False like_num: False is_currency: False\n",
      "Peter index: 5 is_alpha: True is_punct: False like_num: False is_currency: False\n"
     ]
    }
   ],
   "source": [
    "for token in doc:\n",
    "    print(token, \"index:\", token.i,\n",
    "    \"is_alpha:\", token.is_alpha,\n",
    "    \"is_punct:\", token.is_punct,\n",
    "    \"like_num:\", token.like_num,\n",
    "    \"is_currency:\", token.is_currency,\n",
    "    )"
   ]
  },
  {
   "cell_type": "code",
   "execution_count": 61,
   "id": "109b7ddc",
   "metadata": {},
   "outputs": [
    {
     "data": {
      "text/plain": [
       "['High School Match Details\\n',\n",
       " '------------------------------------------------------------------------------------------\\n',\n",
       " 'S.No \\t\\t\\t\\tName \\t\\t\\t\\t\\tEmail\\n',\n",
       " '------------------------------------------------------------------------------------------\\n',\n",
       " '1. \\t\\t\\t\\tMarie\\t\\t\\t\\t\\tmarie@gmail.com\\n',\n",
       " '2. \\t\\t\\t\\tChris\\t\\t\\t\\t\\tchris12@gmail.com\\n',\n",
       " '3.\\t\\t\\t\\tPam\\t\\t\\t\\t\\tpam_1@gmail.com\\n',\n",
       " '4. \\t\\t\\t\\tDev\\t\\t\\t\\t\\tdev.indie@gmail.com']"
      ]
     },
     "execution_count": 61,
     "metadata": {},
     "output_type": "execute_result"
    }
   ],
   "source": [
    "with open(\"dummy_data.txt\") as f:\n",
    "    text = f.readlines()\n",
    "text"
   ]
  },
  {
   "cell_type": "code",
   "execution_count": 62,
   "id": "c30fe9cc",
   "metadata": {},
   "outputs": [],
   "source": [
    "## Convert entire doc into one huge sentence\n",
    "## Sentences are separated by spaces\n",
    "text = \" \".join(text)"
   ]
  },
  {
   "cell_type": "code",
   "execution_count": 63,
   "id": "43f5b277",
   "metadata": {},
   "outputs": [
    {
     "data": {
      "text/plain": [
       "['marie@gmail.com',\n",
       " 'chris12@gmail.com',\n",
       " 'pam_1@gmail.com',\n",
       " 'dev.indie@gmail.com']"
      ]
     },
     "execution_count": 63,
     "metadata": {},
     "output_type": "execute_result"
    }
   ],
   "source": [
    "doc = nlp(text)\n",
    "emails = []\n",
    "for token in doc:\n",
    "    if token.like_email:\n",
    "        emails.append(token.text)\n",
    "emails"
   ]
  },
  {
   "cell_type": "markdown",
   "id": "df676982",
   "metadata": {},
   "source": [
    "### Tokenization cannot modify but only split parts of a sentence"
   ]
  },
  {
   "cell_type": "code",
   "execution_count": 64,
   "id": "3d94bd79",
   "metadata": {},
   "outputs": [
    {
     "data": {
      "text/plain": [
       "['yo',\n",
       " 'gim',\n",
       " 'me',\n",
       " 'two',\n",
       " 'cheese',\n",
       " 'bursts',\n",
       " 'with',\n",
       " 'extra',\n",
       " 'topping',\n",
       " 'mushrooms',\n",
       " 'peppers',\n",
       " 'and',\n",
       " 'olives']"
      ]
     },
     "execution_count": 64,
     "metadata": {},
     "output_type": "execute_result"
    }
   ],
   "source": [
    "## Cannot use give, me here\n",
    "from spacy.symbols import ORTH\n",
    "nlp.tokenizer.add_special_case(\"gimme\", [\n",
    "    {ORTH: \"gim\"},\n",
    "    {ORTH: \"me\"}\n",
    "])\n",
    "## Can split gimme to \"gim\", \"me\"\n",
    "doc = nlp(\"yo gimme two cheese bursts with extra topping mushrooms peppers and olives\")\n",
    "tokens = [token.text for token in doc]\n",
    "tokens"
   ]
  },
  {
   "cell_type": "code",
   "execution_count": 65,
   "id": "b5d0d656",
   "metadata": {},
   "outputs": [
    {
     "name": "stdout",
     "output_type": "stream",
     "text": [
      "Dr. Strange loves pav bhaji as it just costs $5 per plate!\n"
     ]
    }
   ],
   "source": [
    "## Build a pipeline to parse a sentence\n",
    "nlp.add_pipe(\"sentencizer\")\n",
    "doc = nlp(\"Dr. Strange loves pav bhaji as it just costs $5 per plate!\")\n",
    "for sentence in doc.sents:\n",
    "    print(sentence)"
   ]
  }
 ],
 "metadata": {
  "kernelspec": {
   "display_name": "nlp_env",
   "language": "python",
   "name": "python3"
  },
  "language_info": {
   "codemirror_mode": {
    "name": "ipython",
    "version": 3
   },
   "file_extension": ".py",
   "mimetype": "text/x-python",
   "name": "python",
   "nbconvert_exporter": "python",
   "pygments_lexer": "ipython3",
   "version": "3.12.5"
  }
 },
 "nbformat": 4,
 "nbformat_minor": 5
}
