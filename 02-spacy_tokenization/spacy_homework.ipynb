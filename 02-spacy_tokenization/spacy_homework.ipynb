{
 "cells": [
  {
   "cell_type": "markdown",
   "id": "b770c184",
   "metadata": {},
   "source": [
    "## Class Exercise"
   ]
  },
  {
   "cell_type": "markdown",
   "id": "cb66df6c",
   "metadata": {},
   "source": [
    "### Detect all the urls within this piece of text below"
   ]
  },
  {
   "cell_type": "code",
   "execution_count": 24,
   "id": "7a350584",
   "metadata": {},
   "outputs": [],
   "source": [
    "text = '''\n",
    "Look for data to help you address the question. Governments are good\n",
    "sources because data from public research is often freely available.\n",
    "Another way to find data is Wolfram Alpha, which is a curated collection of\n",
    "good-quality datasets at http://www.wolframalpha.com Results from Wolfram\n",
    "Alpha are subject to copyright restrictions; you might want to check the\n",
    "terms before you commit yourself. Two of my favourite data stes are the European\n",
    "Social Survey at http://www.europeansocialsurvey.org/ and http://data.gov.uk/\n",
    "'''\n",
    "\n",
    "## TODO : Write code here\n",
    "## Hint : Token has an attribute that can be used to detect an url"
   ]
  },
  {
   "cell_type": "markdown",
   "id": "5445194d",
   "metadata": {},
   "source": [
    "### Solution to Exercise 1"
   ]
  },
  {
   "cell_type": "code",
   "execution_count": 25,
   "id": "7e576ad2",
   "metadata": {},
   "outputs": [
    {
     "data": {
      "text/plain": [
       "['http://www.wolframalpha.com',\n",
       " 'http://www.europeansocialsurvey.org/',\n",
       " 'http://data.gov.uk/']"
      ]
     },
     "execution_count": 25,
     "metadata": {},
     "output_type": "execute_result"
    }
   ],
   "source": [
    "import spacy\n",
    "nlp = spacy.blank(\"en\")\n",
    "nlp.add_pipe(\"sentencizer\")\n",
    "doc = nlp(text)\n",
    "urls = [token.text for token in doc if token.like_url]\n",
    "urls"
   ]
  },
  {
   "cell_type": "markdown",
   "id": "5ab69c96",
   "metadata": {},
   "source": [
    "### Detect all transaction amount along with denomination"
   ]
  },
  {
   "cell_type": "code",
   "execution_count": 28,
   "id": "c620a4f6",
   "metadata": {},
   "outputs": [],
   "source": [
    "transactions = \"Tony gave two $ to Peter, Bruce gave 500 € to Chris\"\n",
    "## TODO : Write code here\n",
    "## Hint : Use token.i for the index of a token and token.is_currency for currency detection"
   ]
  },
  {
   "cell_type": "markdown",
   "id": "b18f16bc",
   "metadata": {},
   "source": [
    "### Solution to Exercise 2"
   ]
  },
  {
   "cell_type": "code",
   "execution_count": 29,
   "id": "3a5a6457",
   "metadata": {},
   "outputs": [
    {
     "name": "stdout",
     "output_type": "stream",
     "text": [
      "two $\n",
      "500 €\n"
     ]
    }
   ],
   "source": [
    "doc = nlp(transactions)\n",
    "for token in doc:\n",
    "    if token.like_num and doc[token.i+1].is_currency:\n",
    "        print(token.text, doc[token.i+1].text)"
   ]
  }
 ],
 "metadata": {
  "kernelspec": {
   "display_name": "nlp_env",
   "language": "python",
   "name": "python3"
  },
  "language_info": {
   "codemirror_mode": {
    "name": "ipython",
    "version": 3
   },
   "file_extension": ".py",
   "mimetype": "text/x-python",
   "name": "python",
   "nbconvert_exporter": "python",
   "pygments_lexer": "ipython3",
   "version": "3.12.5"
  }
 },
 "nbformat": 4,
 "nbformat_minor": 5
}
