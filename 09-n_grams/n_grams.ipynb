{
 "cells": [
  {
   "cell_type": "code",
   "execution_count": 103,
   "id": "237337b5",
   "metadata": {},
   "outputs": [],
   "source": [
    "import spacy\n",
    "import pandas as pd\n",
    "import os\n",
    "import kagglehub\n",
    "nlp = spacy.load(\"en_core_web_sm\")"
   ]
  },
  {
   "cell_type": "code",
   "execution_count": 104,
   "id": "f5fc9f73",
   "metadata": {},
   "outputs": [
    {
     "data": {
      "text/plain": [
       "{'wonder': 5, 'woman': 4, 'is': 0, 'wearing': 3, 'suit': 2, 'set': 1}"
      ]
     },
     "execution_count": 104,
     "metadata": {},
     "output_type": "execute_result"
    }
   ],
   "source": [
    "from sklearn.feature_extraction.text import CountVectorizer\n",
    "\n",
    "v = CountVectorizer()\n",
    "v.fit([\"Wonder Woman is wearing a suit set\"])\n",
    "v.vocabulary_"
   ]
  },
  {
   "cell_type": "code",
   "execution_count": 105,
   "id": "d3543bd6",
   "metadata": {},
   "outputs": [
    {
     "data": {
      "text/plain": [
       "{'wonder': 12,\n",
       " 'woman': 9,\n",
       " 'is': 0,\n",
       " 'wearing': 6,\n",
       " 'suit': 4,\n",
       " 'set': 3,\n",
       " 'wonder woman': 13,\n",
       " 'woman is': 10,\n",
       " 'is wearing': 1,\n",
       " 'wearing suit': 7,\n",
       " 'suit set': 5,\n",
       " 'wonder woman is': 14,\n",
       " 'woman is wearing': 11,\n",
       " 'is wearing suit': 2,\n",
       " 'wearing suit set': 8}"
      ]
     },
     "execution_count": 105,
     "metadata": {},
     "output_type": "execute_result"
    }
   ],
   "source": [
    "v = CountVectorizer(ngram_range = (1,3))\n",
    "v.fit([\"Wonder Woman is wearing a suit set\"])\n",
    "v.vocabulary_"
   ]
  },
  {
   "cell_type": "code",
   "execution_count": 106,
   "id": "c613411f",
   "metadata": {},
   "outputs": [],
   "source": [
    "corpus = [\n",
    "    \"Wonder Woman had coke\",\n",
    "    \"Captain Marvel is having diet coke\",\n",
    "    \"Black Widow would be having water\"\n",
    "]"
   ]
  },
  {
   "cell_type": "code",
   "execution_count": 107,
   "id": "0bdfcd51",
   "metadata": {},
   "outputs": [],
   "source": [
    "def preprocess(text):\n",
    "    doc = nlp(text)\n",
    "\n",
    "    filtered_tokens = []\n",
    "\n",
    "    for token in doc:\n",
    "        if token.is_stop or token.is_punct:\n",
    "            continue\n",
    "        filtered_tokens.append(token.lemma_)\n",
    "\n",
    "    return \" \".join(filtered_tokens)"
   ]
  },
  {
   "cell_type": "code",
   "execution_count": 108,
   "id": "14e552f5",
   "metadata": {},
   "outputs": [
    {
     "data": {
      "text/plain": [
       "['Wonder Woman coke',\n",
       " 'Captain Marvel have diet coke',\n",
       " 'black Widow have water']"
      ]
     },
     "execution_count": 108,
     "metadata": {},
     "output_type": "execute_result"
    }
   ],
   "source": [
    "corpus_processed = [preprocess(text) for text in corpus]\n",
    "corpus_processed"
   ]
  },
  {
   "cell_type": "code",
   "execution_count": 109,
   "id": "b9532a0f",
   "metadata": {},
   "outputs": [
    {
     "data": {
      "text/plain": [
       "{'wonder': 17,\n",
       " 'woman': 15,\n",
       " 'coke': 4,\n",
       " 'wonder woman': 18,\n",
       " 'woman coke': 16,\n",
       " 'captain': 2,\n",
       " 'marvel': 10,\n",
       " 'have': 7,\n",
       " 'diet': 5,\n",
       " 'captain marvel': 3,\n",
       " 'marvel have': 11,\n",
       " 'have diet': 8,\n",
       " 'diet coke': 6,\n",
       " 'black': 0,\n",
       " 'widow': 13,\n",
       " 'water': 12,\n",
       " 'black widow': 1,\n",
       " 'widow have': 14,\n",
       " 'have water': 9}"
      ]
     },
     "execution_count": 109,
     "metadata": {},
     "output_type": "execute_result"
    }
   ],
   "source": [
    "v = CountVectorizer(ngram_range = (1,2))\n",
    "v.fit(corpus_processed)\n",
    "v.vocabulary_"
   ]
  },
  {
   "cell_type": "code",
   "execution_count": 110,
   "id": "923443ab",
   "metadata": {},
   "outputs": [
    {
     "data": {
      "text/plain": [
       "array([[1, 1, 0, 0, 0, 0, 0, 0, 0, 0, 0, 0, 0, 1, 0, 0, 0, 0, 0]])"
      ]
     },
     "execution_count": 110,
     "metadata": {},
     "output_type": "execute_result"
    }
   ],
   "source": [
    "v.transform([\"Black Widow eats pizza\"]).toarray()"
   ]
  },
  {
   "cell_type": "code",
   "execution_count": 111,
   "id": "c1454a6f",
   "metadata": {},
   "outputs": [
    {
     "data": {
      "text/plain": [
       "array([[0, 0, 1, 0, 0, 0, 0, 0, 0, 0, 0, 0, 0, 0, 0, 0, 0, 0, 0]])"
      ]
     },
     "execution_count": 111,
     "metadata": {},
     "output_type": "execute_result"
    }
   ],
   "source": [
    "v.transform([\"Captain America eats pizza\"]).toarray()"
   ]
  },
  {
   "cell_type": "code",
   "execution_count": 112,
   "id": "a69b2e09",
   "metadata": {},
   "outputs": [],
   "source": [
    "path = kagglehub.dataset_download(\"rmisra/news-category-dataset\")\n",
    "# print(\"Path to dataset files:\", path)\n",
    "json_path = os.path.join(path, \"News_Category_Dataset_v3.json\")\n",
    "\n",
    "## Use lines = True because JSON file is not a single valid JSON object \n",
    "## it's likely a JSON lines file, \n",
    "## where each line is a separate JSON object.\n",
    "\n",
    "df = pd.read_json(json_path, lines=True)"
   ]
  },
  {
   "cell_type": "code",
   "execution_count": 113,
   "id": "7ed4c465",
   "metadata": {},
   "outputs": [
    {
     "data": {
      "text/plain": [
       "(209527, 6)"
      ]
     },
     "execution_count": 113,
     "metadata": {},
     "output_type": "execute_result"
    }
   ],
   "source": [
    "df.shape"
   ]
  },
  {
   "cell_type": "code",
   "execution_count": 114,
   "id": "eba205ab",
   "metadata": {},
   "outputs": [
    {
     "data": {
      "application/vnd.microsoft.datawrangler.viewer.v0+json": {
       "columns": [
        {
         "name": "index",
         "rawType": "int64",
         "type": "integer"
        },
        {
         "name": "link",
         "rawType": "object",
         "type": "string"
        },
        {
         "name": "headline",
         "rawType": "object",
         "type": "string"
        },
        {
         "name": "category",
         "rawType": "object",
         "type": "string"
        },
        {
         "name": "short_description",
         "rawType": "object",
         "type": "string"
        },
        {
         "name": "authors",
         "rawType": "object",
         "type": "string"
        },
        {
         "name": "date",
         "rawType": "datetime64[ns]",
         "type": "datetime"
        }
       ],
       "ref": "94d6b387-3663-46de-a0cf-028a0424e504",
       "rows": [
        [
         "0",
         "https://www.huffpost.com/entry/covid-boosters-uptake-us_n_632d719ee4b087fae6feaac9",
         "Over 4 Million Americans Roll Up Sleeves For Omicron-Targeted COVID Boosters",
         "U.S. NEWS",
         "Health experts said it is too early to predict whether demand would match up with the 171 million doses of the new boosters the U.S. ordered for the fall.",
         "Carla K. Johnson, AP",
         "2022-09-23 00:00:00"
        ],
        [
         "1",
         "https://www.huffpost.com/entry/american-airlines-passenger-banned-flight-attendant-punch-justice-department_n_632e25d3e4b0e247890329fe",
         "American Airlines Flyer Charged, Banned For Life After Punching Flight Attendant On Video",
         "U.S. NEWS",
         "He was subdued by passengers and crew when he fled to the back of the aircraft after the confrontation, according to the U.S. attorney's office in Los Angeles.",
         "Mary Papenfuss",
         "2022-09-23 00:00:00"
        ],
        [
         "2",
         "https://www.huffpost.com/entry/funniest-tweets-cats-dogs-september-17-23_n_632de332e4b0695c1d81dc02",
         "23 Of The Funniest Tweets About Cats And Dogs This Week (Sept. 17-23)",
         "COMEDY",
         "\"Until you have a dog you don't understand what could be eaten.\"",
         "Elyse Wanshel",
         "2022-09-23 00:00:00"
        ],
        [
         "3",
         "https://www.huffpost.com/entry/funniest-parenting-tweets_l_632d7d15e4b0d12b5403e479",
         "The Funniest Tweets From Parents This Week (Sept. 17-23)",
         "PARENTING",
         "\"Accidentally put grown-up toothpaste on my toddler’s toothbrush and he screamed like I was cleaning his teeth with a Carolina Reaper dipped in Tabasco sauce.\"",
         "Caroline Bologna",
         "2022-09-23 00:00:00"
        ],
        [
         "4",
         "https://www.huffpost.com/entry/amy-cooper-loses-discrimination-lawsuit-franklin-templeton_n_632c6463e4b09d8701bd227e",
         "Woman Who Called Cops On Black Bird-Watcher Loses Lawsuit Against Ex-Employer",
         "U.S. NEWS",
         "Amy Cooper accused investment firm Franklin Templeton of unfairly firing her and branding her a racist after video of the Central Park encounter went viral.",
         "Nina Golgowski",
         "2022-09-22 00:00:00"
        ]
       ],
       "shape": {
        "columns": 6,
        "rows": 5
       }
      },
      "text/html": [
       "<div>\n",
       "<style scoped>\n",
       "    .dataframe tbody tr th:only-of-type {\n",
       "        vertical-align: middle;\n",
       "    }\n",
       "\n",
       "    .dataframe tbody tr th {\n",
       "        vertical-align: top;\n",
       "    }\n",
       "\n",
       "    .dataframe thead th {\n",
       "        text-align: right;\n",
       "    }\n",
       "</style>\n",
       "<table border=\"1\" class=\"dataframe\">\n",
       "  <thead>\n",
       "    <tr style=\"text-align: right;\">\n",
       "      <th></th>\n",
       "      <th>link</th>\n",
       "      <th>headline</th>\n",
       "      <th>category</th>\n",
       "      <th>short_description</th>\n",
       "      <th>authors</th>\n",
       "      <th>date</th>\n",
       "    </tr>\n",
       "  </thead>\n",
       "  <tbody>\n",
       "    <tr>\n",
       "      <th>0</th>\n",
       "      <td>https://www.huffpost.com/entry/covid-boosters-...</td>\n",
       "      <td>Over 4 Million Americans Roll Up Sleeves For O...</td>\n",
       "      <td>U.S. NEWS</td>\n",
       "      <td>Health experts said it is too early to predict...</td>\n",
       "      <td>Carla K. Johnson, AP</td>\n",
       "      <td>2022-09-23</td>\n",
       "    </tr>\n",
       "    <tr>\n",
       "      <th>1</th>\n",
       "      <td>https://www.huffpost.com/entry/american-airlin...</td>\n",
       "      <td>American Airlines Flyer Charged, Banned For Li...</td>\n",
       "      <td>U.S. NEWS</td>\n",
       "      <td>He was subdued by passengers and crew when he ...</td>\n",
       "      <td>Mary Papenfuss</td>\n",
       "      <td>2022-09-23</td>\n",
       "    </tr>\n",
       "    <tr>\n",
       "      <th>2</th>\n",
       "      <td>https://www.huffpost.com/entry/funniest-tweets...</td>\n",
       "      <td>23 Of The Funniest Tweets About Cats And Dogs ...</td>\n",
       "      <td>COMEDY</td>\n",
       "      <td>\"Until you have a dog you don't understand wha...</td>\n",
       "      <td>Elyse Wanshel</td>\n",
       "      <td>2022-09-23</td>\n",
       "    </tr>\n",
       "    <tr>\n",
       "      <th>3</th>\n",
       "      <td>https://www.huffpost.com/entry/funniest-parent...</td>\n",
       "      <td>The Funniest Tweets From Parents This Week (Se...</td>\n",
       "      <td>PARENTING</td>\n",
       "      <td>\"Accidentally put grown-up toothpaste on my to...</td>\n",
       "      <td>Caroline Bologna</td>\n",
       "      <td>2022-09-23</td>\n",
       "    </tr>\n",
       "    <tr>\n",
       "      <th>4</th>\n",
       "      <td>https://www.huffpost.com/entry/amy-cooper-lose...</td>\n",
       "      <td>Woman Who Called Cops On Black Bird-Watcher Lo...</td>\n",
       "      <td>U.S. NEWS</td>\n",
       "      <td>Amy Cooper accused investment firm Franklin Te...</td>\n",
       "      <td>Nina Golgowski</td>\n",
       "      <td>2022-09-22</td>\n",
       "    </tr>\n",
       "  </tbody>\n",
       "</table>\n",
       "</div>"
      ],
      "text/plain": [
       "                                                link  \\\n",
       "0  https://www.huffpost.com/entry/covid-boosters-...   \n",
       "1  https://www.huffpost.com/entry/american-airlin...   \n",
       "2  https://www.huffpost.com/entry/funniest-tweets...   \n",
       "3  https://www.huffpost.com/entry/funniest-parent...   \n",
       "4  https://www.huffpost.com/entry/amy-cooper-lose...   \n",
       "\n",
       "                                            headline   category  \\\n",
       "0  Over 4 Million Americans Roll Up Sleeves For O...  U.S. NEWS   \n",
       "1  American Airlines Flyer Charged, Banned For Li...  U.S. NEWS   \n",
       "2  23 Of The Funniest Tweets About Cats And Dogs ...     COMEDY   \n",
       "3  The Funniest Tweets From Parents This Week (Se...  PARENTING   \n",
       "4  Woman Who Called Cops On Black Bird-Watcher Lo...  U.S. NEWS   \n",
       "\n",
       "                                   short_description               authors  \\\n",
       "0  Health experts said it is too early to predict...  Carla K. Johnson, AP   \n",
       "1  He was subdued by passengers and crew when he ...        Mary Papenfuss   \n",
       "2  \"Until you have a dog you don't understand wha...         Elyse Wanshel   \n",
       "3  \"Accidentally put grown-up toothpaste on my to...      Caroline Bologna   \n",
       "4  Amy Cooper accused investment firm Franklin Te...        Nina Golgowski   \n",
       "\n",
       "        date  \n",
       "0 2022-09-23  \n",
       "1 2022-09-23  \n",
       "2 2022-09-23  \n",
       "3 2022-09-23  \n",
       "4 2022-09-22  "
      ]
     },
     "execution_count": 114,
     "metadata": {},
     "output_type": "execute_result"
    }
   ],
   "source": [
    "df.head()"
   ]
  },
  {
   "cell_type": "code",
   "execution_count": 115,
   "id": "226b6d99",
   "metadata": {},
   "outputs": [
    {
     "data": {
      "application/vnd.microsoft.datawrangler.viewer.v0+json": {
       "columns": [
        {
         "name": "category",
         "rawType": "object",
         "type": "string"
        },
        {
         "name": "count",
         "rawType": "int64",
         "type": "integer"
        }
       ],
       "ref": "222432b5-d03c-4685-a269-7ea78e2e86bf",
       "rows": [
        [
         "POLITICS",
         "35602"
        ],
        [
         "WELLNESS",
         "17945"
        ],
        [
         "ENTERTAINMENT",
         "17362"
        ],
        [
         "TRAVEL",
         "9900"
        ],
        [
         "STYLE & BEAUTY",
         "9814"
        ],
        [
         "PARENTING",
         "8791"
        ],
        [
         "HEALTHY LIVING",
         "6694"
        ],
        [
         "QUEER VOICES",
         "6347"
        ],
        [
         "FOOD & DRINK",
         "6340"
        ],
        [
         "BUSINESS",
         "5992"
        ],
        [
         "COMEDY",
         "5400"
        ],
        [
         "SPORTS",
         "5077"
        ],
        [
         "BLACK VOICES",
         "4583"
        ],
        [
         "HOME & LIVING",
         "4320"
        ],
        [
         "PARENTS",
         "3955"
        ],
        [
         "THE WORLDPOST",
         "3664"
        ],
        [
         "WEDDINGS",
         "3653"
        ],
        [
         "WOMEN",
         "3572"
        ],
        [
         "CRIME",
         "3562"
        ],
        [
         "IMPACT",
         "3484"
        ],
        [
         "DIVORCE",
         "3426"
        ],
        [
         "WORLD NEWS",
         "3299"
        ],
        [
         "MEDIA",
         "2944"
        ],
        [
         "WEIRD NEWS",
         "2777"
        ],
        [
         "GREEN",
         "2622"
        ],
        [
         "WORLDPOST",
         "2579"
        ],
        [
         "RELIGION",
         "2577"
        ],
        [
         "STYLE",
         "2254"
        ],
        [
         "SCIENCE",
         "2206"
        ],
        [
         "TECH",
         "2104"
        ],
        [
         "TASTE",
         "2096"
        ],
        [
         "MONEY",
         "1756"
        ],
        [
         "ARTS",
         "1509"
        ],
        [
         "ENVIRONMENT",
         "1444"
        ],
        [
         "FIFTY",
         "1401"
        ],
        [
         "GOOD NEWS",
         "1398"
        ],
        [
         "U.S. NEWS",
         "1377"
        ],
        [
         "ARTS & CULTURE",
         "1339"
        ],
        [
         "COLLEGE",
         "1144"
        ],
        [
         "LATINO VOICES",
         "1130"
        ],
        [
         "CULTURE & ARTS",
         "1074"
        ],
        [
         "EDUCATION",
         "1014"
        ]
       ],
       "shape": {
        "columns": 1,
        "rows": 42
       }
      },
      "text/plain": [
       "category\n",
       "POLITICS          35602\n",
       "WELLNESS          17945\n",
       "ENTERTAINMENT     17362\n",
       "TRAVEL             9900\n",
       "STYLE & BEAUTY     9814\n",
       "PARENTING          8791\n",
       "HEALTHY LIVING     6694\n",
       "QUEER VOICES       6347\n",
       "FOOD & DRINK       6340\n",
       "BUSINESS           5992\n",
       "COMEDY             5400\n",
       "SPORTS             5077\n",
       "BLACK VOICES       4583\n",
       "HOME & LIVING      4320\n",
       "PARENTS            3955\n",
       "THE WORLDPOST      3664\n",
       "WEDDINGS           3653\n",
       "WOMEN              3572\n",
       "CRIME              3562\n",
       "IMPACT             3484\n",
       "DIVORCE            3426\n",
       "WORLD NEWS         3299\n",
       "MEDIA              2944\n",
       "WEIRD NEWS         2777\n",
       "GREEN              2622\n",
       "WORLDPOST          2579\n",
       "RELIGION           2577\n",
       "STYLE              2254\n",
       "SCIENCE            2206\n",
       "TECH               2104\n",
       "TASTE              2096\n",
       "MONEY              1756\n",
       "ARTS               1509\n",
       "ENVIRONMENT        1444\n",
       "FIFTY              1401\n",
       "GOOD NEWS          1398\n",
       "U.S. NEWS          1377\n",
       "ARTS & CULTURE     1339\n",
       "COLLEGE            1144\n",
       "LATINO VOICES      1130\n",
       "CULTURE & ARTS     1074\n",
       "EDUCATION          1014\n",
       "Name: count, dtype: int64"
      ]
     },
     "execution_count": 115,
     "metadata": {},
     "output_type": "execute_result"
    }
   ],
   "source": [
    "df[\"category\"].value_counts()"
   ]
  },
  {
   "cell_type": "code",
   "execution_count": 116,
   "id": "749f26c1",
   "metadata": {},
   "outputs": [],
   "source": [
    "target = {\n",
    "    \"BUSINESS\" : 0,\n",
    "    \"POLITICS\" : 1,\n",
    "    \"TECH\" : 2\n",
    "}"
   ]
  },
  {
   "cell_type": "code",
   "execution_count": 117,
   "id": "b888547f",
   "metadata": {},
   "outputs": [],
   "source": [
    "min_samples = 1014\n",
    "df_business = df[df[\"category\"] == \"BUSINESS\"].sample(min_samples, random_state = 42)"
   ]
  },
  {
   "cell_type": "code",
   "execution_count": 118,
   "id": "fe849c35",
   "metadata": {},
   "outputs": [],
   "source": [
    "df_politics = df[df[\"category\"] == \"POLITICS\"]\n",
    "sample_size = min(min_samples, len(df_politics))  \n",
    "df_politics_sampled = df_politics.sample(sample_size, random_state=42)"
   ]
  },
  {
   "cell_type": "code",
   "execution_count": 119,
   "id": "b5c138a1",
   "metadata": {},
   "outputs": [],
   "source": [
    "df_tech = df[df[\"category\"] == \"TECH\"]\n",
    "sample_size = min(min_samples, len(df_tech))  \n",
    "df_tech_sampled = df_tech.sample(sample_size, random_state=42)"
   ]
  },
  {
   "cell_type": "code",
   "execution_count": 120,
   "id": "09a859c4",
   "metadata": {},
   "outputs": [],
   "source": [
    "## We could have used SMOTE here but just for simplicity\n",
    "df_balanced = pd.concat([df_business, df_politics_sampled, df_tech_sampled], axis = 0)\n",
    "df_balanced[\"category\"].value_counts()\n",
    "df_balanced[\"category_num\"] = df_balanced[\"category\"].map(target)"
   ]
  },
  {
   "cell_type": "code",
   "execution_count": 121,
   "id": "320fd5d8",
   "metadata": {},
   "outputs": [
    {
     "data": {
      "application/vnd.microsoft.datawrangler.viewer.v0+json": {
       "columns": [
        {
         "name": "index",
         "rawType": "int64",
         "type": "integer"
        },
        {
         "name": "link",
         "rawType": "object",
         "type": "string"
        },
        {
         "name": "headline",
         "rawType": "object",
         "type": "string"
        },
        {
         "name": "category",
         "rawType": "object",
         "type": "string"
        },
        {
         "name": "short_description",
         "rawType": "object",
         "type": "string"
        },
        {
         "name": "authors",
         "rawType": "object",
         "type": "string"
        },
        {
         "name": "date",
         "rawType": "datetime64[ns]",
         "type": "datetime"
        },
        {
         "name": "category_num",
         "rawType": "int64",
         "type": "integer"
        }
       ],
       "ref": "eb4cd7f5-5139-4c91-9683-adb86615d3fa",
       "rows": [
        [
         "101848",
         "https://www.huffingtonpost.com/entry/how-to-manage-your-person_1_b_7103382.html",
         "How to Manage Your Personal Brand",
         "BUSINESS",
         "Make no mistake: If you have a Facebook account, an Instagram page, a Twitter profile, you are a brand. Every time you upload a photo, add a link, or post an update, you're putting into the world another idea of yourself and what you stand for.",
         "Kevin O'Leary, Contributor",
         "2015-04-20 00:00:00",
         "0"
        ],
        [
         "93655",
         "https://www.huffingtonpost.com/entry/uber-ad-nyc-cap-de-blasio_us_55af97a9e4b07af29d56dd96",
         "It Looks Like Uber's Winning Its War With New York",
         "BUSINESS",
         "Grab the popcorn.",
         "Alexander C. Kaufman",
         "2015-07-22 00:00:00",
         "0"
        ],
        [
         "103195",
         "https://www.huffingtonpost.com/entry/the-progressive-promise-of-todays-technology_b_7004162.html",
         "The Progressive Promise of Today's Technology",
         "BUSINESS",
         "A digital policy for the new century, tailored not just to the moment but for the future, is vital if we are to unleash economic growth, shared prosperity, and the full potential of technology for citizens and consumers. But such a policy architecture requires a new consensus -- on privacy, on security, on customer protections, on growth and mobility.",
         "Andrei Cherny, ContributorCEO, Aspiration.com",
         "2015-04-04 00:00:00",
         "0"
        ],
        [
         "103321",
         "https://www.huffingtonpost.com/entry/dont-let-these-5-confusin_b_6985264.html",
         "Don't Let These 5 Confusing Words Mar Your Image",
         "BUSINESS",
         "Tom's an articulate physician, totally able to speak his mind and express a strong point of view. But when he repeatedly says \"between you and I,\" that grammatical error has the same effect as a big splotch of mustard on the front of his suit and tie.",
         "Dianna Booher, ContributorCEO, BooherResearch.com Author, 46 books on leadership communi...",
         "2015-04-02 00:00:00",
         "0"
        ],
        [
         "96214",
         "https://www.huffingtonpost.com/entry/what-you-dont-know-about-_8_b_7647020.html",
         "What You Don't Know About Overnight Success",
         "BUSINESS",
         "I've been fighting this thing for 32 years. \"Overnight\" success doesn't happen overnight for most people. The media delivers this bad news and perpetuates lies making you believe that you are a failure because you didn't see the same results from your efforts.",
         "Grant Cardone, ContributorNew York Times bestselling author; Executive producer, 'Turnar...",
         "2015-06-23 00:00:00",
         "0"
        ]
       ],
       "shape": {
        "columns": 7,
        "rows": 5
       }
      },
      "text/html": [
       "<div>\n",
       "<style scoped>\n",
       "    .dataframe tbody tr th:only-of-type {\n",
       "        vertical-align: middle;\n",
       "    }\n",
       "\n",
       "    .dataframe tbody tr th {\n",
       "        vertical-align: top;\n",
       "    }\n",
       "\n",
       "    .dataframe thead th {\n",
       "        text-align: right;\n",
       "    }\n",
       "</style>\n",
       "<table border=\"1\" class=\"dataframe\">\n",
       "  <thead>\n",
       "    <tr style=\"text-align: right;\">\n",
       "      <th></th>\n",
       "      <th>link</th>\n",
       "      <th>headline</th>\n",
       "      <th>category</th>\n",
       "      <th>short_description</th>\n",
       "      <th>authors</th>\n",
       "      <th>date</th>\n",
       "      <th>category_num</th>\n",
       "    </tr>\n",
       "  </thead>\n",
       "  <tbody>\n",
       "    <tr>\n",
       "      <th>101848</th>\n",
       "      <td>https://www.huffingtonpost.com/entry/how-to-ma...</td>\n",
       "      <td>How to Manage Your Personal Brand</td>\n",
       "      <td>BUSINESS</td>\n",
       "      <td>Make no mistake: If you have a Facebook accoun...</td>\n",
       "      <td>Kevin O'Leary, Contributor</td>\n",
       "      <td>2015-04-20</td>\n",
       "      <td>0</td>\n",
       "    </tr>\n",
       "    <tr>\n",
       "      <th>93655</th>\n",
       "      <td>https://www.huffingtonpost.com/entry/uber-ad-n...</td>\n",
       "      <td>It Looks Like Uber's Winning Its War With New ...</td>\n",
       "      <td>BUSINESS</td>\n",
       "      <td>Grab the popcorn.</td>\n",
       "      <td>Alexander C. Kaufman</td>\n",
       "      <td>2015-07-22</td>\n",
       "      <td>0</td>\n",
       "    </tr>\n",
       "    <tr>\n",
       "      <th>103195</th>\n",
       "      <td>https://www.huffingtonpost.com/entry/the-progr...</td>\n",
       "      <td>The Progressive Promise of Today's Technology</td>\n",
       "      <td>BUSINESS</td>\n",
       "      <td>A digital policy for the new century, tailored...</td>\n",
       "      <td>Andrei Cherny, ContributorCEO, Aspiration.com</td>\n",
       "      <td>2015-04-04</td>\n",
       "      <td>0</td>\n",
       "    </tr>\n",
       "    <tr>\n",
       "      <th>103321</th>\n",
       "      <td>https://www.huffingtonpost.com/entry/dont-let-...</td>\n",
       "      <td>Don't Let These 5 Confusing Words Mar Your Image</td>\n",
       "      <td>BUSINESS</td>\n",
       "      <td>Tom's an articulate physician, totally able to...</td>\n",
       "      <td>Dianna Booher, ContributorCEO, BooherResearch....</td>\n",
       "      <td>2015-04-02</td>\n",
       "      <td>0</td>\n",
       "    </tr>\n",
       "    <tr>\n",
       "      <th>96214</th>\n",
       "      <td>https://www.huffingtonpost.com/entry/what-you-...</td>\n",
       "      <td>What You Don't Know About Overnight Success</td>\n",
       "      <td>BUSINESS</td>\n",
       "      <td>I've been fighting this thing for 32 years. \"O...</td>\n",
       "      <td>Grant Cardone, ContributorNew York Times bests...</td>\n",
       "      <td>2015-06-23</td>\n",
       "      <td>0</td>\n",
       "    </tr>\n",
       "  </tbody>\n",
       "</table>\n",
       "</div>"
      ],
      "text/plain": [
       "                                                     link  \\\n",
       "101848  https://www.huffingtonpost.com/entry/how-to-ma...   \n",
       "93655   https://www.huffingtonpost.com/entry/uber-ad-n...   \n",
       "103195  https://www.huffingtonpost.com/entry/the-progr...   \n",
       "103321  https://www.huffingtonpost.com/entry/dont-let-...   \n",
       "96214   https://www.huffingtonpost.com/entry/what-you-...   \n",
       "\n",
       "                                                 headline  category  \\\n",
       "101848                  How to Manage Your Personal Brand  BUSINESS   \n",
       "93655   It Looks Like Uber's Winning Its War With New ...  BUSINESS   \n",
       "103195      The Progressive Promise of Today's Technology  BUSINESS   \n",
       "103321   Don't Let These 5 Confusing Words Mar Your Image  BUSINESS   \n",
       "96214         What You Don't Know About Overnight Success  BUSINESS   \n",
       "\n",
       "                                        short_description  \\\n",
       "101848  Make no mistake: If you have a Facebook accoun...   \n",
       "93655                                   Grab the popcorn.   \n",
       "103195  A digital policy for the new century, tailored...   \n",
       "103321  Tom's an articulate physician, totally able to...   \n",
       "96214   I've been fighting this thing for 32 years. \"O...   \n",
       "\n",
       "                                                  authors       date  \\\n",
       "101848                         Kevin O'Leary, Contributor 2015-04-20   \n",
       "93655                                Alexander C. Kaufman 2015-07-22   \n",
       "103195      Andrei Cherny, ContributorCEO, Aspiration.com 2015-04-04   \n",
       "103321  Dianna Booher, ContributorCEO, BooherResearch.... 2015-04-02   \n",
       "96214   Grant Cardone, ContributorNew York Times bests... 2015-06-23   \n",
       "\n",
       "        category_num  \n",
       "101848             0  \n",
       "93655              0  \n",
       "103195             0  \n",
       "103321             0  \n",
       "96214              0  "
      ]
     },
     "execution_count": 121,
     "metadata": {},
     "output_type": "execute_result"
    }
   ],
   "source": [
    "df_balanced.head()"
   ]
  },
  {
   "cell_type": "code",
   "execution_count": 122,
   "id": "31b41a07",
   "metadata": {},
   "outputs": [],
   "source": [
    "## Use stratify to have equal number of samples in both train and test\n",
    "from sklearn.model_selection import train_test_split\n",
    "X_train, X_test, y_train, y_test = train_test_split(df_balanced[\"short_description\"], df_balanced[\"category_num\"], test_size = 0.2, random_state = 42, stratify = df_balanced.category_num)"
   ]
  },
  {
   "cell_type": "code",
   "execution_count": 123,
   "id": "e19f5256",
   "metadata": {},
   "outputs": [
    {
     "name": "stdout",
     "output_type": "stream",
     "text": [
      "(2433,)\n"
     ]
    },
    {
     "data": {
      "application/vnd.microsoft.datawrangler.viewer.v0+json": {
       "columns": [
        {
         "name": "index",
         "rawType": "int64",
         "type": "integer"
        },
        {
         "name": "short_description",
         "rawType": "object",
         "type": "string"
        }
       ],
       "ref": "c4082005-24a4-40a6-ad31-0a77e760fdeb",
       "rows": [
        [
         "58902",
         "The vehicles will see regular public use."
        ],
        [
         "11641",
         "Play stupid games, win stupid prizes."
        ],
        [
         "164297",
         "According to numerous sources close to the situation, Yahoo has bid from $600 million to $800 million for the premium video"
        ],
        [
         "24034",
         "The three former presidents attended the opening of the golfing event together."
        ],
        [
         "162367",
         "At least one part of the labor force has expanded significantly since the recession hit: the low-wage part, made up of burger"
        ]
       ],
       "shape": {
        "columns": 1,
        "rows": 5
       }
      },
      "text/plain": [
       "58902             The vehicles will see regular public use.\n",
       "11641                 Play stupid games, win stupid prizes.\n",
       "164297    According to numerous sources close to the sit...\n",
       "24034     The three former presidents attended the openi...\n",
       "162367    At least one part of the labor force has expan...\n",
       "Name: short_description, dtype: object"
      ]
     },
     "execution_count": 123,
     "metadata": {},
     "output_type": "execute_result"
    }
   ],
   "source": [
    "print(X_train.shape)\n",
    "X_train.head()"
   ]
  },
  {
   "cell_type": "code",
   "execution_count": 124,
   "id": "eb723b9a",
   "metadata": {},
   "outputs": [
    {
     "data": {
      "application/vnd.microsoft.datawrangler.viewer.v0+json": {
       "columns": [
        {
         "name": "category_num",
         "rawType": "int64",
         "type": "integer"
        },
        {
         "name": "count",
         "rawType": "int64",
         "type": "integer"
        }
       ],
       "ref": "6c14fe07-1646-4d27-b1cd-95d03d788cf4",
       "rows": [
        [
         "0",
         "203"
        ],
        [
         "1",
         "203"
        ],
        [
         "2",
         "203"
        ]
       ],
       "shape": {
        "columns": 1,
        "rows": 3
       }
      },
      "text/plain": [
       "category_num\n",
       "0    203\n",
       "1    203\n",
       "2    203\n",
       "Name: count, dtype: int64"
      ]
     },
     "execution_count": 124,
     "metadata": {},
     "output_type": "execute_result"
    }
   ],
   "source": [
    "y_test.value_counts()"
   ]
  },
  {
   "cell_type": "code",
   "execution_count": 125,
   "id": "5bba9a7e",
   "metadata": {},
   "outputs": [
    {
     "name": "stdout",
     "output_type": "stream",
     "text": [
      "              precision    recall  f1-score   support\n",
      "\n",
      "           0       0.55      0.77      0.64       203\n",
      "           1       0.78      0.64      0.70       203\n",
      "           2       0.71      0.57      0.63       203\n",
      "\n",
      "    accuracy                           0.66       609\n",
      "   macro avg       0.68      0.66      0.66       609\n",
      "weighted avg       0.68      0.66      0.66       609\n",
      "\n"
     ]
    }
   ],
   "source": [
    "from sklearn.naive_bayes import MultinomialNB\n",
    "from sklearn.pipeline import Pipeline\n",
    "from sklearn.metrics import classification_report\n",
    "\n",
    "clf = Pipeline([\n",
    "    ('vectorizer', CountVectorizer()),\n",
    "    ('Multi NB', MultinomialNB())\n",
    "])\n",
    "\n",
    "clf.fit(X_train, y_train)\n",
    "y_pred = clf.predict(X_test)\n",
    "print(classification_report(y_test, y_pred))\n"
   ]
  },
  {
   "cell_type": "code",
   "execution_count": null,
   "id": "e96b5dcd",
   "metadata": {},
   "outputs": [
    {
     "name": "stdout",
     "output_type": "stream",
     "text": [
      "              precision    recall  f1-score   support\n",
      "\n",
      "           0       0.52      0.81      0.63       203\n",
      "           1       0.81      0.58      0.68       203\n",
      "           2       0.73      0.53      0.61       203\n",
      "\n",
      "    accuracy                           0.64       609\n",
      "   macro avg       0.69      0.64      0.64       609\n",
      "weighted avg       0.69      0.64      0.64       609\n",
      "\n"
     ]
    }
   ],
   "source": [
    "from sklearn.naive_bayes import MultinomialNB\n",
    "\n",
    "clf = Pipeline([\n",
    "    ('vectorizer', CountVectorizer(ngram_range = (1, 2))),\n",
    "    ('Multi NB', MultinomialNB())\n",
    "])\n",
    "\n",
    "clf.fit(X_train, y_train)\n",
    "y_pred = clf.predict(X_test)\n",
    "print(classification_report(y_test, y_pred))\n"
   ]
  },
  {
   "cell_type": "markdown",
   "id": "e1a7ef77",
   "metadata": {},
   "source": [
    "### Observation\n",
    "Bag of words performs better than n-grams for the given dataset"
   ]
  },
  {
   "cell_type": "code",
   "execution_count": 127,
   "id": "bc17bd8b",
   "metadata": {},
   "outputs": [
    {
     "data": {
      "application/vnd.microsoft.datawrangler.viewer.v0+json": {
       "columns": [
        {
         "name": "index",
         "rawType": "int64",
         "type": "integer"
        },
        {
         "name": "category_num",
         "rawType": "int64",
         "type": "integer"
        }
       ],
       "ref": "47784c36-7a91-4816-b635-364a81820525",
       "rows": [
        [
         "117522",
         "0"
        ],
        [
         "116521",
         "1"
        ],
        [
         "80217",
         "0"
        ],
        [
         "146550",
         "0"
        ],
        [
         "193258",
         "0"
        ]
       ],
       "shape": {
        "columns": 1,
        "rows": 5
       }
      },
      "text/plain": [
       "117522    0\n",
       "116521    1\n",
       "80217     0\n",
       "146550    0\n",
       "193258    0\n",
       "Name: category_num, dtype: int64"
      ]
     },
     "execution_count": 127,
     "metadata": {},
     "output_type": "execute_result"
    }
   ],
   "source": [
    "y_test[:5]"
   ]
  },
  {
   "cell_type": "code",
   "execution_count": 128,
   "id": "26cbf56f",
   "metadata": {},
   "outputs": [
    {
     "data": {
      "text/plain": [
       "array([0, 0, 0, 0, 0])"
      ]
     },
     "execution_count": 128,
     "metadata": {},
     "output_type": "execute_result"
    }
   ],
   "source": [
    "y_pred[:5]"
   ]
  },
  {
   "cell_type": "markdown",
   "id": "90274c9a",
   "metadata": {},
   "source": [
    "### Observation\n",
    "Correct predictions for 3/5 instances"
   ]
  },
  {
   "cell_type": "code",
   "execution_count": 129,
   "id": "44fe14bb",
   "metadata": {},
   "outputs": [],
   "source": [
    "## Can preprocessing improve metrics?\\\n",
    "df_balanced[\"pre_processed_text\"] = df_balanced[\"short_description\"].apply(preprocess)"
   ]
  },
  {
   "cell_type": "code",
   "execution_count": 130,
   "id": "390e5b25",
   "metadata": {},
   "outputs": [
    {
     "data": {
      "application/vnd.microsoft.datawrangler.viewer.v0+json": {
       "columns": [
        {
         "name": "index",
         "rawType": "int64",
         "type": "integer"
        },
        {
         "name": "link",
         "rawType": "object",
         "type": "string"
        },
        {
         "name": "headline",
         "rawType": "object",
         "type": "string"
        },
        {
         "name": "category",
         "rawType": "object",
         "type": "string"
        },
        {
         "name": "short_description",
         "rawType": "object",
         "type": "string"
        },
        {
         "name": "authors",
         "rawType": "object",
         "type": "string"
        },
        {
         "name": "date",
         "rawType": "datetime64[ns]",
         "type": "datetime"
        },
        {
         "name": "category_num",
         "rawType": "int64",
         "type": "integer"
        },
        {
         "name": "pre_processed_text",
         "rawType": "object",
         "type": "string"
        }
       ],
       "ref": "4ef001ee-deeb-45f4-a99f-eb59b8fe27da",
       "rows": [
        [
         "101848",
         "https://www.huffingtonpost.com/entry/how-to-manage-your-person_1_b_7103382.html",
         "How to Manage Your Personal Brand",
         "BUSINESS",
         "Make no mistake: If you have a Facebook account, an Instagram page, a Twitter profile, you are a brand. Every time you upload a photo, add a link, or post an update, you're putting into the world another idea of yourself and what you stand for.",
         "Kevin O'Leary, Contributor",
         "2015-04-20 00:00:00",
         "0",
         "mistake Facebook account Instagram page Twitter profile brand time upload photo add link post update put world idea stand"
        ],
        [
         "93655",
         "https://www.huffingtonpost.com/entry/uber-ad-nyc-cap-de-blasio_us_55af97a9e4b07af29d56dd96",
         "It Looks Like Uber's Winning Its War With New York",
         "BUSINESS",
         "Grab the popcorn.",
         "Alexander C. Kaufman",
         "2015-07-22 00:00:00",
         "0",
         "grab popcorn"
        ],
        [
         "103195",
         "https://www.huffingtonpost.com/entry/the-progressive-promise-of-todays-technology_b_7004162.html",
         "The Progressive Promise of Today's Technology",
         "BUSINESS",
         "A digital policy for the new century, tailored not just to the moment but for the future, is vital if we are to unleash economic growth, shared prosperity, and the full potential of technology for citizens and consumers. But such a policy architecture requires a new consensus -- on privacy, on security, on customer protections, on growth and mobility.",
         "Andrei Cherny, ContributorCEO, Aspiration.com",
         "2015-04-04 00:00:00",
         "0",
         "digital policy new century tailor moment future vital unleash economic growth share prosperity potential technology citizen consumer policy architecture require new consensus     privacy security customer protection growth mobility"
        ],
        [
         "103321",
         "https://www.huffingtonpost.com/entry/dont-let-these-5-confusin_b_6985264.html",
         "Don't Let These 5 Confusing Words Mar Your Image",
         "BUSINESS",
         "Tom's an articulate physician, totally able to speak his mind and express a strong point of view. But when he repeatedly says \"between you and I,\" that grammatical error has the same effect as a big splotch of mustard on the front of his suit and tie.",
         "Dianna Booher, ContributorCEO, BooherResearch.com Author, 46 books on leadership communi...",
         "2015-04-02 00:00:00",
         "0",
         "Tom articulate physician totally able speak mind express strong point view repeatedly say grammatical error effect big splotch mustard suit tie"
        ],
        [
         "96214",
         "https://www.huffingtonpost.com/entry/what-you-dont-know-about-_8_b_7647020.html",
         "What You Don't Know About Overnight Success",
         "BUSINESS",
         "I've been fighting this thing for 32 years. \"Overnight\" success doesn't happen overnight for most people. The media delivers this bad news and perpetuates lies making you believe that you are a failure because you didn't see the same results from your efforts.",
         "Grant Cardone, ContributorNew York Times bestselling author; Executive producer, 'Turnar...",
         "2015-06-23 00:00:00",
         "0",
         "fight thing 32 year overnight success happen overnight people medium deliver bad news perpetuate lie make believe failure result effort"
        ]
       ],
       "shape": {
        "columns": 8,
        "rows": 5
       }
      },
      "text/html": [
       "<div>\n",
       "<style scoped>\n",
       "    .dataframe tbody tr th:only-of-type {\n",
       "        vertical-align: middle;\n",
       "    }\n",
       "\n",
       "    .dataframe tbody tr th {\n",
       "        vertical-align: top;\n",
       "    }\n",
       "\n",
       "    .dataframe thead th {\n",
       "        text-align: right;\n",
       "    }\n",
       "</style>\n",
       "<table border=\"1\" class=\"dataframe\">\n",
       "  <thead>\n",
       "    <tr style=\"text-align: right;\">\n",
       "      <th></th>\n",
       "      <th>link</th>\n",
       "      <th>headline</th>\n",
       "      <th>category</th>\n",
       "      <th>short_description</th>\n",
       "      <th>authors</th>\n",
       "      <th>date</th>\n",
       "      <th>category_num</th>\n",
       "      <th>pre_processed_text</th>\n",
       "    </tr>\n",
       "  </thead>\n",
       "  <tbody>\n",
       "    <tr>\n",
       "      <th>101848</th>\n",
       "      <td>https://www.huffingtonpost.com/entry/how-to-ma...</td>\n",
       "      <td>How to Manage Your Personal Brand</td>\n",
       "      <td>BUSINESS</td>\n",
       "      <td>Make no mistake: If you have a Facebook accoun...</td>\n",
       "      <td>Kevin O'Leary, Contributor</td>\n",
       "      <td>2015-04-20</td>\n",
       "      <td>0</td>\n",
       "      <td>mistake Facebook account Instagram page Twitte...</td>\n",
       "    </tr>\n",
       "    <tr>\n",
       "      <th>93655</th>\n",
       "      <td>https://www.huffingtonpost.com/entry/uber-ad-n...</td>\n",
       "      <td>It Looks Like Uber's Winning Its War With New ...</td>\n",
       "      <td>BUSINESS</td>\n",
       "      <td>Grab the popcorn.</td>\n",
       "      <td>Alexander C. Kaufman</td>\n",
       "      <td>2015-07-22</td>\n",
       "      <td>0</td>\n",
       "      <td>grab popcorn</td>\n",
       "    </tr>\n",
       "    <tr>\n",
       "      <th>103195</th>\n",
       "      <td>https://www.huffingtonpost.com/entry/the-progr...</td>\n",
       "      <td>The Progressive Promise of Today's Technology</td>\n",
       "      <td>BUSINESS</td>\n",
       "      <td>A digital policy for the new century, tailored...</td>\n",
       "      <td>Andrei Cherny, ContributorCEO, Aspiration.com</td>\n",
       "      <td>2015-04-04</td>\n",
       "      <td>0</td>\n",
       "      <td>digital policy new century tailor moment futur...</td>\n",
       "    </tr>\n",
       "    <tr>\n",
       "      <th>103321</th>\n",
       "      <td>https://www.huffingtonpost.com/entry/dont-let-...</td>\n",
       "      <td>Don't Let These 5 Confusing Words Mar Your Image</td>\n",
       "      <td>BUSINESS</td>\n",
       "      <td>Tom's an articulate physician, totally able to...</td>\n",
       "      <td>Dianna Booher, ContributorCEO, BooherResearch....</td>\n",
       "      <td>2015-04-02</td>\n",
       "      <td>0</td>\n",
       "      <td>Tom articulate physician totally able speak mi...</td>\n",
       "    </tr>\n",
       "    <tr>\n",
       "      <th>96214</th>\n",
       "      <td>https://www.huffingtonpost.com/entry/what-you-...</td>\n",
       "      <td>What You Don't Know About Overnight Success</td>\n",
       "      <td>BUSINESS</td>\n",
       "      <td>I've been fighting this thing for 32 years. \"O...</td>\n",
       "      <td>Grant Cardone, ContributorNew York Times bests...</td>\n",
       "      <td>2015-06-23</td>\n",
       "      <td>0</td>\n",
       "      <td>fight thing 32 year overnight success happen o...</td>\n",
       "    </tr>\n",
       "  </tbody>\n",
       "</table>\n",
       "</div>"
      ],
      "text/plain": [
       "                                                     link  \\\n",
       "101848  https://www.huffingtonpost.com/entry/how-to-ma...   \n",
       "93655   https://www.huffingtonpost.com/entry/uber-ad-n...   \n",
       "103195  https://www.huffingtonpost.com/entry/the-progr...   \n",
       "103321  https://www.huffingtonpost.com/entry/dont-let-...   \n",
       "96214   https://www.huffingtonpost.com/entry/what-you-...   \n",
       "\n",
       "                                                 headline  category  \\\n",
       "101848                  How to Manage Your Personal Brand  BUSINESS   \n",
       "93655   It Looks Like Uber's Winning Its War With New ...  BUSINESS   \n",
       "103195      The Progressive Promise of Today's Technology  BUSINESS   \n",
       "103321   Don't Let These 5 Confusing Words Mar Your Image  BUSINESS   \n",
       "96214         What You Don't Know About Overnight Success  BUSINESS   \n",
       "\n",
       "                                        short_description  \\\n",
       "101848  Make no mistake: If you have a Facebook accoun...   \n",
       "93655                                   Grab the popcorn.   \n",
       "103195  A digital policy for the new century, tailored...   \n",
       "103321  Tom's an articulate physician, totally able to...   \n",
       "96214   I've been fighting this thing for 32 years. \"O...   \n",
       "\n",
       "                                                  authors       date  \\\n",
       "101848                         Kevin O'Leary, Contributor 2015-04-20   \n",
       "93655                                Alexander C. Kaufman 2015-07-22   \n",
       "103195      Andrei Cherny, ContributorCEO, Aspiration.com 2015-04-04   \n",
       "103321  Dianna Booher, ContributorCEO, BooherResearch.... 2015-04-02   \n",
       "96214   Grant Cardone, ContributorNew York Times bests... 2015-06-23   \n",
       "\n",
       "        category_num                                 pre_processed_text  \n",
       "101848             0  mistake Facebook account Instagram page Twitte...  \n",
       "93655              0                                       grab popcorn  \n",
       "103195             0  digital policy new century tailor moment futur...  \n",
       "103321             0  Tom articulate physician totally able speak mi...  \n",
       "96214              0  fight thing 32 year overnight success happen o...  "
      ]
     },
     "execution_count": 130,
     "metadata": {},
     "output_type": "execute_result"
    }
   ],
   "source": [
    "df_balanced.head()"
   ]
  },
  {
   "cell_type": "code",
   "execution_count": 131,
   "id": "eb6962d5",
   "metadata": {},
   "outputs": [],
   "source": [
    "## Use stratify to have equal number of samples in both train and test\n",
    "from sklearn.model_selection import train_test_split\n",
    "X_train, X_test, y_train, y_test = train_test_split(df_balanced[\"pre_processed_text\"], df_balanced[\"category_num\"], test_size = 0.2, random_state = 42, stratify = df_balanced.category_num)"
   ]
  },
  {
   "cell_type": "code",
   "execution_count": 132,
   "id": "860e4f2e",
   "metadata": {},
   "outputs": [
    {
     "name": "stdout",
     "output_type": "stream",
     "text": [
      "              precision    recall  f1-score   support\n",
      "\n",
      "           0       0.58      0.75      0.65       203\n",
      "           1       0.76      0.67      0.71       203\n",
      "           2       0.72      0.60      0.65       203\n",
      "\n",
      "    accuracy                           0.67       609\n",
      "   macro avg       0.69      0.67      0.67       609\n",
      "weighted avg       0.69      0.67      0.67       609\n",
      "\n"
     ]
    }
   ],
   "source": [
    "from sklearn.naive_bayes import MultinomialNB\n",
    "from sklearn.pipeline import Pipeline\n",
    "from sklearn.metrics import classification_report\n",
    "\n",
    "clf = Pipeline([\n",
    "    ('vectorizer', CountVectorizer(ngram_range = (1, 2))),\n",
    "    ('Multi NB', MultinomialNB())\n",
    "])\n",
    "\n",
    "clf.fit(X_train, y_train)\n",
    "y_pred = clf.predict(X_test)\n",
    "print(classification_report(y_test, y_pred))\n"
   ]
  },
  {
   "cell_type": "markdown",
   "id": "0649f03d",
   "metadata": {},
   "source": [
    "### Observation\n",
    "Preprocessing improved the metric score"
   ]
  },
  {
   "cell_type": "code",
   "execution_count": 133,
   "id": "d057c772",
   "metadata": {},
   "outputs": [
    {
     "data": {
      "text/plain": [
       "array([[152,  20,  31],\n",
       "       [ 52, 136,  15],\n",
       "       [ 60,  22, 121]])"
      ]
     },
     "execution_count": 133,
     "metadata": {},
     "output_type": "execute_result"
    }
   ],
   "source": [
    "## Confusion Matrix\n",
    "from sklearn.metrics import confusion_matrix\n",
    "cm = confusion_matrix(y_test, y_pred)\n",
    "cm"
   ]
  },
  {
   "cell_type": "code",
   "execution_count": 139,
   "id": "df8eb361",
   "metadata": {},
   "outputs": [
    {
     "data": {
      "text/plain": [
       "Text(50.722222222222214, 0.5, 'Truth')"
      ]
     },
     "execution_count": 139,
     "metadata": {},
     "output_type": "execute_result"
    },
    {
     "data": {
      "image/png": "[encoded data removed]",
      "text/plain": [
       "<Figure size 640x480 with 2 Axes>"
      ]
     },
     "metadata": {},
     "output_type": "display_data"
    }
   ],
   "source": [
    "import matplotlib.pyplot as plt\n",
    "import seaborn as sns\n",
    "plt.figure()\n",
    "sns.heatmap(cm, annot = True)\n",
    "plt.xlabel(\"Prediction\")\n",
    "plt.ylabel(\"Truth\")"
   ]
  }
 ],
 "metadata": {
  "kernelspec": {
   "display_name": "nlp_env",
   "language": "python",
   "name": "python3"
  },
  "language_info": {
   "codemirror_mode": {
    "name": "ipython",
    "version": 3
   },
   "file_extension": ".py",
   "mimetype": "text/x-python",
   "name": "python",
   "nbconvert_exporter": "python",
   "pygments_lexer": "ipython3",
   "version": "3.12.5"
  }
 },
 "nbformat": 4,
 "nbformat_minor": 5
}
