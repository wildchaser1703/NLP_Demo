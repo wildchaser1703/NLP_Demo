{
 "cells": [
  {
   "cell_type": "code",
   "execution_count": 17,
   "id": "e10c3dce",
   "metadata": {},
   "outputs": [],
   "source": [
    "import os\n",
    "import spacy\n",
    "import nltk"
   ]
  },
  {
   "cell_type": "markdown",
   "id": "af86130b",
   "metadata": {},
   "source": [
    "### Spacy vs NLTK\n",
    "Basics:\n",
    "1. Spacy is object oriented\n",
    "2. NLTK is mainly a string processing library\n",
    "\n",
    "Algorithmic Differences:\n",
    "1. Spacy: Provides most efficient NLP algorithm for any given task. For best end results choose Spacy.\n",
    "2. NLTK: Provides access to many algorithms. If you want customisations within algorithms choose NLTK."
   ]
  },
  {
   "cell_type": "code",
   "execution_count": 18,
   "id": "efc6dd27",
   "metadata": {},
   "outputs": [
    {
     "name": "stdout",
     "output_type": "stream",
     "text": [
      "Dr. Strange loves pav bhaji!\n",
      "Hulk loves chhole bhature :)\n"
     ]
    }
   ],
   "source": [
    "## Sentence Tokenisation\n",
    "nlp = spacy.load(\"en_core_web_sm\")\n",
    "doc = nlp(\"Dr. Strange loves pav bhaji! Hulk loves chhole bhature :)\")\n",
    "for sentence in doc.sents:\n",
    "    print(sentence)"
   ]
  },
  {
   "cell_type": "code",
   "execution_count": 19,
   "id": "0d564480",
   "metadata": {},
   "outputs": [
    {
     "name": "stdout",
     "output_type": "stream",
     "text": [
      "Dr.\n",
      "Strange\n",
      "loves\n",
      "pav\n",
      "bhaji\n",
      "!\n",
      "Hulk\n",
      "loves\n",
      "chhole\n",
      "bhature\n",
      ":)\n"
     ]
    }
   ],
   "source": [
    "## Word Tokenisation\n",
    "for sentence in doc.sents:\n",
    "    for word in sentence:\n",
    "        print(word) "
   ]
  },
  {
   "cell_type": "code",
   "execution_count": 21,
   "id": "e9cc86f4",
   "metadata": {},
   "outputs": [
    {
     "name": "stdout",
     "output_type": "stream",
     "text": [
      "['Dr.', 'Strange loves pav bhaji!', 'Hulk loves chhole bhature :)']\n"
     ]
    }
   ],
   "source": [
    "from nltk.tokenize import sent_tokenize\n",
    "text = \"Dr. Strange loves pav bhaji! Hulk loves chhole bhature :)\"\n",
    "print(sent_tokenize(text))"
   ]
  },
  {
   "cell_type": "code",
   "execution_count": 22,
   "id": "4561bb04",
   "metadata": {},
   "outputs": [
    {
     "data": {
      "text/plain": [
       "['Dr',\n",
       " '.',\n",
       " 'Strange',\n",
       " 'loves',\n",
       " 'pav',\n",
       " 'bhaji',\n",
       " '!',\n",
       " 'Hulk',\n",
       " 'loves',\n",
       " 'chhole',\n",
       " 'bhature',\n",
       " ':',\n",
       " ')']"
      ]
     },
     "execution_count": 22,
     "metadata": {},
     "output_type": "execute_result"
    }
   ],
   "source": [
    "from nltk.tokenize import word_tokenize\n",
    "word_tokenize(\"Dr. Strange loves pav bhaji! Hulk loves chhole bhature :)\")"
   ]
  }
 ],
 "metadata": {
  "kernelspec": {
   "display_name": "nlp_env",
   "language": "python",
   "name": "python3"
  },
  "language_info": {
   "codemirror_mode": {
    "name": "ipython",
    "version": 3
   },
   "file_extension": ".py",
   "mimetype": "text/x-python",
   "name": "python",
   "nbconvert_exporter": "python",
   "pygments_lexer": "ipython3",
   "version": "3.12.5"
  }
 },
 "nbformat": 4,
 "nbformat_minor": 5
}
